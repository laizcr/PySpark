{
  "nbformat": 4,
  "nbformat_minor": 0,
  "metadata": {
    "colab": {
      "provenance": []
    },
    "kernelspec": {
      "name": "python3",
      "display_name": "Python 3"
    },
    "language_info": {
      "name": "python"
    }
  },
  "cells": [
    {
      "cell_type": "markdown",
      "source": [
        "-------------------------------------------------------------\n",
        "Libs e Preparação do ambiente Spark\n",
        "-------------------------------------------------------------\n",
        "\n"
      ],
      "metadata": {
        "id": "xzaVj7ArSIw9"
      }
    },
    {
      "cell_type": "code",
      "execution_count": 1,
      "metadata": {
        "id": "NlH8bX1P0fJL"
      },
      "outputs": [],
      "source": [
        "# Java jdk utilitários \n",
        "!apt-get install openjdk-8-jdk-headless -qq > /dev/null"
      ]
    },
    {
      "cell_type": "code",
      "source": [
        "#Download do Spark\n",
        "!wget -q https://archive.apache.org/dist/spark/spark-3.1.2/spark-3.1.2-bin-hadoop2.7.tgz\n",
        "\n",
        "# Descompactando os arquivos\n",
        "!tar xf spark-3.1.2-bin-hadoop2.7.tgz"
      ],
      "metadata": {
        "id": "oZMEvpeZ0m4p"
      },
      "execution_count": 2,
      "outputs": []
    },
    {
      "cell_type": "code",
      "source": [
        "# Importando a biblioteca os\n",
        "import os\n",
        "\n",
        "# Definindo a variável de ambiente do Java\n",
        "os.environ[\"JAVA_HOME\"] = \"/usr/lib/jvm/java-8-openjdk-amd64\"\n",
        "\n",
        "# Definindo a variável de ambiente do Spark\n",
        "os.environ[\"SPARK_HOME\"] = \"/content/spark-3.1.2-bin-hadoop2.7\""
      ],
      "metadata": {
        "id": "16nKSavt0wFw"
      },
      "execution_count": 3,
      "outputs": []
    },
    {
      "cell_type": "code",
      "source": [
        "# Findspark\n",
        "!pip install -q findspark"
      ],
      "metadata": {
        "id": "Is3fuBPs00df"
      },
      "execution_count": 4,
      "outputs": []
    },
    {
      "cell_type": "code",
      "source": [
        "import findspark\n",
        "\n",
        "# Iniciando o findspark\n",
        "findspark.init()"
      ],
      "metadata": {
        "id": "sQbFa7SA02Xw"
      },
      "execution_count": 5,
      "outputs": []
    },
    {
      "cell_type": "code",
      "source": [
        "# iniciar uma seção Spark\n",
        "from pyspark.sql import SparkSession\n",
        "\n",
        "# iniciando o spark context\n",
        "spark = SparkSession.builder.master('local[*]').getOrCreate()\n",
        "spark"
      ],
      "metadata": {
        "colab": {
          "base_uri": "https://localhost:8080/",
          "height": 219
        },
        "id": "smPRg0Si05Rw",
        "outputId": "5d9b332e-9fc7-4d5b-d303-253287b5ae89"
      },
      "execution_count": 6,
      "outputs": [
        {
          "output_type": "execute_result",
          "data": {
            "text/plain": [
              "<pyspark.sql.session.SparkSession at 0x7fe7d17d6f70>"
            ],
            "text/html": [
              "\n",
              "            <div>\n",
              "                <p><b>SparkSession - in-memory</b></p>\n",
              "                \n",
              "        <div>\n",
              "            <p><b>SparkContext</b></p>\n",
              "\n",
              "            <p><a href=\"http://10b15d40bf00:4040\">Spark UI</a></p>\n",
              "\n",
              "            <dl>\n",
              "              <dt>Version</dt>\n",
              "                <dd><code>v3.1.2</code></dd>\n",
              "              <dt>Master</dt>\n",
              "                <dd><code>local[*]</code></dd>\n",
              "              <dt>AppName</dt>\n",
              "                <dd><code>pyspark-shell</code></dd>\n",
              "            </dl>\n",
              "        </div>\n",
              "        \n",
              "            </div>\n",
              "        "
            ]
          },
          "metadata": {},
          "execution_count": 6
        }
      ]
    },
    {
      "cell_type": "markdown",
      "source": [
        "# **Utilizando JSON**\n",
        "-------------------------------"
      ],
      "metadata": {
        "id": "gOEkL_JjWJrY"
      }
    },
    {
      "cell_type": "code",
      "source": [
        "from pyspark.sql import SparkSession\n",
        "from pyspark.sql.types import ArrayType, StructField, StructType, StringType, IntegerType\n",
        "from datetime import date,datetime\n",
        "from pyspark.sql import Row"
      ],
      "metadata": {
        "id": "N3A7B2XqRB3m"
      },
      "execution_count": 7,
      "outputs": []
    },
    {
      "cell_type": "code",
      "source": [
        "#  JSON\n",
        "path = \"/content/sentimento.json\"\n",
        "sentimentoDF = spark.read.json(path,multiLine = \"true\")\n",
        "\n",
        "\n",
        "sentimentoDF.show()"
      ],
      "metadata": {
        "colab": {
          "base_uri": "https://localhost:8080/"
        },
        "id": "GLd6Y5UxT3zD",
        "outputId": "10ce497b-6685-4b14-ca2f-06f2cf165fba"
      },
      "execution_count": 10,
      "outputs": [
        {
          "output_type": "stream",
          "name": "stdout",
          "text": [
            "+--------------------+--------------------+\n",
            "|             context|                 qas|\n",
            "+--------------------+--------------------+\n",
            "|spent the entire ...|[{[{55, my boss w...|\n",
            "| oh! good idea ab...|[{[{5, good}], 25...|\n",
            "|says good (or sho...|[{[{0, says good ...|\n",
            "| i dont think you...|[{[{1, i dont thi...|\n",
            "| haha better drun...|[{[{6, better}], ...|\n",
            "|headache  wanna s...|[{[{0, headache}]...|\n",
            "|had an awsome sal...|[{[{0, had an aws...|\n",
            "| fine! going to d...|[{[{1, fine!}], a...|\n",
            "| thank a yoou  ho...|[{[{1, thank}], a...|\n",
            "|why don't adobe r...|[{[{0, why don't ...|\n",
            "|prd take a long t...|[{[{0, prd take a...|\n",
            "|_2008 well, havin...|[{[{1, 2008 well,...|\n",
            "|    miss you my dear|[{[{1, miss you m...|\n",
            "|have just bought ...|[{[{0, have just ...|\n",
            "| ya mine too but ...|[{[{1, ya mine to...|\n",
            "|today dan bought ...|[{[{107, , my tum...|\n",
            "| oo noo thats not...|[{[{12, s not goo...|\n",
            "|misses her phone....|[{[{20, having no...|\n",
            "|so i have like no...|[{[{15, no more f...|\n",
            "|i have perused th...|[{[{0, i have per...|\n",
            "+--------------------+--------------------+\n",
            "only showing top 20 rows\n",
            "\n"
          ]
        }
      ]
    },
    {
      "cell_type": "code",
      "source": [
        "#Exibindo o schema JSON\n",
        "sentimentoDF.printSchema()"
      ],
      "metadata": {
        "colab": {
          "base_uri": "https://localhost:8080/"
        },
        "id": "_OKE11U0Uzrv",
        "outputId": "b62b1e9d-4e09-45cc-86b8-1a180213952f"
      },
      "execution_count": 15,
      "outputs": [
        {
          "output_type": "stream",
          "name": "stdout",
          "text": [
            "root\n",
            " |-- context: string (nullable = true)\n",
            " |-- qas: array (nullable = true)\n",
            " |    |-- element: struct (containsNull = true)\n",
            " |    |    |-- answers: array (nullable = true)\n",
            " |    |    |    |-- element: struct (containsNull = true)\n",
            " |    |    |    |    |-- answer_start: long (nullable = true)\n",
            " |    |    |    |    |-- text: string (nullable = true)\n",
            " |    |    |-- id: string (nullable = true)\n",
            " |    |    |-- is_impossible: boolean (nullable = true)\n",
            " |    |    |-- question: string (nullable = true)\n",
            "\n"
          ]
        }
      ]
    },
    {
      "cell_type": "code",
      "source": [
        "# Especificando quais vars\n",
        "sent2DF = sentimentoDF.select(\"context\",\"qas.id\", \"qas.is_impossible\",\"qas.question\")\n",
        "sent2DF.printSchema()"
      ],
      "metadata": {
        "id": "J7wqOpkAoRav",
        "colab": {
          "base_uri": "https://localhost:8080/"
        },
        "outputId": "d0a27092-0214-43a1-deee-f4553ca69f65"
      },
      "execution_count": 16,
      "outputs": [
        {
          "output_type": "stream",
          "name": "stdout",
          "text": [
            "root\n",
            " |-- context: string (nullable = true)\n",
            " |-- id: array (nullable = true)\n",
            " |    |-- element: string (containsNull = true)\n",
            " |-- is_impossible: array (nullable = true)\n",
            " |    |-- element: boolean (containsNull = true)\n",
            " |-- question: array (nullable = true)\n",
            " |    |-- element: string (containsNull = true)\n",
            "\n"
          ]
        }
      ]
    },
    {
      "cell_type": "code",
      "source": [
        "# Exibindo os registros\n",
        "sent2DF.show(10, False)"
      ],
      "metadata": {
        "colab": {
          "base_uri": "https://localhost:8080/"
        },
        "id": "sEKTk8YMULZm",
        "outputId": "22f142d0-0deb-4ac0-e456-d3795433e151"
      },
      "execution_count": 17,
      "outputs": [
        {
          "output_type": "stream",
          "name": "stdout",
          "text": [
            "+------------------------------------------------------------------------------------------------------------------------------------+------------+-------------+----------+\n",
            "|context                                                                                                                             |id          |is_impossible|question  |\n",
            "+------------------------------------------------------------------------------------------------------------------------------------+------------+-------------+----------+\n",
            "|spent the entire morning in a meeting w/ a vendor, and my boss was not happy w/ them. lots of fun.  i had other plans for my morning|[a3d0a7d5ad]|[false]      |[neutral] |\n",
            "| oh! good idea about putting them on ice cream                                                                                      |[251b6a6766]|[false]      |[positive]|\n",
            "|says good (or should i say bad?) afternoon!  http://plurk.com/p/wxpdj                                                               |[c9e8d1ef1c]|[false]      |[neutral] |\n",
            "| i dont think you can vote anymore! i tried                                                                                         |[f14f087215]|[false]      |[negative]|\n",
            "| haha better drunken tweeting you mean?                                                                                             |[bf7473b12d]|[false]      |[positive]|\n",
            "|headache  wanna see my julie                                                                                                        |[1915bebcb3]|[false]      |[negative]|\n",
            "|had an awsome salad! i recommend getting the spicey buffalo chicken salad!                                                          |[2ab82634d5]|[false]      |[positive]|\n",
            "| fine! going to do my big walk today 20 or so miles                                                                                 |[a5a1c996c0]|[false]      |[positive]|\n",
            "| thank a yoou  how are you? #twittertakeover                                                                                        |[a182b2638e]|[false]      |[positive]|\n",
            "|why don't adobe realise no one wants to pay for photoshop et al so they should just give it to us for free                          |[1dcb6fdb13]|[false]      |[neutral] |\n",
            "+------------------------------------------------------------------------------------------------------------------------------------+------------+-------------+----------+\n",
            "only showing top 10 rows\n",
            "\n"
          ]
        }
      ]
    },
    {
      "cell_type": "code",
      "source": [
        "# Separando em apenas 2 var para uso no SQL\n",
        "sent3DF = sentimentoDF.select(\"context\", \"qas.question\")\n",
        "sent3DF.show()"
      ],
      "metadata": {
        "colab": {
          "base_uri": "https://localhost:8080/"
        },
        "id": "SB2O-TwiVAfP",
        "outputId": "ce52e47c-7ee2-4260-c03c-2e44a9454a21"
      },
      "execution_count": 18,
      "outputs": [
        {
          "output_type": "stream",
          "name": "stdout",
          "text": [
            "+--------------------+----------+\n",
            "|             context|  question|\n",
            "+--------------------+----------+\n",
            "|spent the entire ...| [neutral]|\n",
            "| oh! good idea ab...|[positive]|\n",
            "|says good (or sho...| [neutral]|\n",
            "| i dont think you...|[negative]|\n",
            "| haha better drun...|[positive]|\n",
            "|headache  wanna s...|[negative]|\n",
            "|had an awsome sal...|[positive]|\n",
            "| fine! going to d...|[positive]|\n",
            "| thank a yoou  ho...|[positive]|\n",
            "|why don't adobe r...| [neutral]|\n",
            "|prd take a long t...| [neutral]|\n",
            "|_2008 well, havin...| [neutral]|\n",
            "|    miss you my dear|[negative]|\n",
            "|have just bought ...|[positive]|\n",
            "| ya mine too but ...| [neutral]|\n",
            "|today dan bought ...|[negative]|\n",
            "| oo noo thats not...|[negative]|\n",
            "|misses her phone....|[negative]|\n",
            "|so i have like no...|[negative]|\n",
            "|i have perused th...| [neutral]|\n",
            "+--------------------+----------+\n",
            "only showing top 20 rows\n",
            "\n"
          ]
        }
      ]
    },
    {
      "cell_type": "code",
      "source": [
        "#Spark cria uma visualização temporária\n",
        "sent3DF.createOrReplaceTempView(\"sentimentos\")\n",
        "\n",
        "#Select\n",
        "spark.sql(\"select context from sentimentos where context like '%hope%'\").show()"
      ],
      "metadata": {
        "colab": {
          "base_uri": "https://localhost:8080/"
        },
        "id": "THfQwPefULW-",
        "outputId": "6e53f672-5686-4d47-84c2-13a4fef045e3"
      },
      "execution_count": 21,
      "outputs": [
        {
          "output_type": "stream",
          "name": "stdout",
          "text": [
            "+--------------------+\n",
            "|             context|\n",
            "+--------------------+\n",
            "|get into me not g...|\n",
            "| sorry to hear ab...|\n",
            "| aww im sorry im ...|\n",
            "|  hope you have a...|\n",
            "|  is there going ...|\n",
            "| you can find mor...|\n",
            "|is predicting a h...|\n",
            "| soon i hope... r...|\n",
            "| aww hope uve had...|\n",
            "| good evening ter...|\n",
            "|just woke up, hop...|\n",
            "| well sure hope t...|\n",
            "|  that's no bueno...|\n",
            "| i hope you had f...|\n",
            "| i hope it's some...|\n",
            "| oh no! hope you ...|\n",
            "|yeha i broke thei...|\n",
            "|back from brunch....|\n",
            "|not feeling too g...|\n",
            "| i hope you feel ...|\n",
            "+--------------------+\n",
            "only showing top 20 rows\n",
            "\n"
          ]
        }
      ]
    },
    {
      "cell_type": "code",
      "source": [
        "# Convertendo array em string \n",
        "sent4DF = spark.sql(\"select context, question, concat_ws(',',question)\" + \\\n",
        "                 \" as tps from sentimentos\")\n",
        "\n",
        "sent4DF.createOrReplaceTempView(\"tipo_sentimento\")\n",
        "\n",
        "#Sentimento negativo\n",
        "spark.sql(\"select context, question from tipo_sentimento where tps = 'negative'\").show()"
      ],
      "metadata": {
        "colab": {
          "base_uri": "https://localhost:8080/"
        },
        "id": "tIy7FcO7ULUH",
        "outputId": "fd76f8c7-b462-467c-a84e-3cf953b519ee"
      },
      "execution_count": 25,
      "outputs": [
        {
          "output_type": "stream",
          "name": "stdout",
          "text": [
            "+--------------------+----------+\n",
            "|             context|  question|\n",
            "+--------------------+----------+\n",
            "| i dont think you...|[negative]|\n",
            "|headache  wanna s...|[negative]|\n",
            "|    miss you my dear|[negative]|\n",
            "|today dan bought ...|[negative]|\n",
            "| oo noo thats not...|[negative]|\n",
            "|misses her phone....|[negative]|\n",
            "|so i have like no...|[negative]|\n",
            "|also i popped the...|[negative]|\n",
            "|               uh oh|[negative]|\n",
            "| what brody how d...|[negative]|\n",
            "|i feel useless i ...|[negative]|\n",
            "|kate is leaving m...|[negative]|\n",
            "|i lost a follower...|[negative]|\n",
            "| saying goodbye t...|[negative]|\n",
            "|just got back in,...|[negative]|\n",
            "|   my dog ran awayyy|[negative]|\n",
            "|is missing someon...|[negative]|\n",
            "| s'ok, trying to ...|[negative]|\n",
            "|hot ****, i'm at ...|[negative]|\n",
            "|just figured out ...|[negative]|\n",
            "+--------------------+----------+\n",
            "only showing top 20 rows\n",
            "\n"
          ]
        }
      ]
    },
    {
      "cell_type": "code",
      "source": [
        "#Contagem \n",
        "spark.sql(\"select tps, count(*) from tipo_sentimento group by tps\").show()"
      ],
      "metadata": {
        "colab": {
          "base_uri": "https://localhost:8080/"
        },
        "id": "uIiWE99kULQ-",
        "outputId": "948d8cb1-f8f5-4c71-9fa3-45122a8a5fc8"
      },
      "execution_count": 27,
      "outputs": [
        {
          "output_type": "stream",
          "name": "stdout",
          "text": [
            "+--------+--------+\n",
            "|     tps|count(1)|\n",
            "+--------+--------+\n",
            "|positive|    8582|\n",
            "| neutral|   11117|\n",
            "|negative|    7786|\n",
            "+--------+--------+\n",
            "\n"
          ]
        }
      ]
    },
    {
      "cell_type": "code",
      "source": [],
      "metadata": {
        "id": "wrC1iyuiULNf"
      },
      "execution_count": null,
      "outputs": []
    }
  ]
}