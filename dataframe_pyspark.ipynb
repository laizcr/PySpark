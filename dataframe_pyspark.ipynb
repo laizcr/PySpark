{
  "nbformat": 4,
  "nbformat_minor": 0,
  "metadata": {
    "colab": {
      "provenance": []
    },
    "kernelspec": {
      "name": "python3",
      "display_name": "Python 3"
    },
    "language_info": {
      "name": "python"
    }
  },
  "cells": [
    {
      "cell_type": "markdown",
      "source": [
        "-------------------------------------------------------------\n",
        "Libs e Preparação do ambiente Spark\n",
        "-------------------------------------------------------------\n",
        "\n"
      ],
      "metadata": {
        "id": "xzaVj7ArSIw9"
      }
    },
    {
      "cell_type": "code",
      "execution_count": 33,
      "metadata": {
        "id": "NlH8bX1P0fJL"
      },
      "outputs": [],
      "source": [
        "# Java jdk utilitários \n",
        "!apt-get install openjdk-8-jdk-headless -qq > /dev/null"
      ]
    },
    {
      "cell_type": "code",
      "source": [
        "#Download do Spark\n",
        "!wget -q https://archive.apache.org/dist/spark/spark-3.1.2/spark-3.1.2-bin-hadoop2.7.tgz\n",
        "\n",
        "# Descompactando os arquivos\n",
        "!tar xf spark-3.1.2-bin-hadoop2.7.tgz"
      ],
      "metadata": {
        "id": "oZMEvpeZ0m4p"
      },
      "execution_count": 34,
      "outputs": []
    },
    {
      "cell_type": "code",
      "source": [
        "# Importando a biblioteca os\n",
        "import os\n",
        "\n",
        "# Definindo a variável de ambiente do Java\n",
        "os.environ[\"JAVA_HOME\"] = \"/usr/lib/jvm/java-8-openjdk-amd64\"\n",
        "\n",
        "# Definindo a variável de ambiente do Spark\n",
        "os.environ[\"SPARK_HOME\"] = \"/content/spark-3.1.2-bin-hadoop2.7\""
      ],
      "metadata": {
        "id": "16nKSavt0wFw"
      },
      "execution_count": 35,
      "outputs": []
    },
    {
      "cell_type": "code",
      "source": [
        "# Findspark\n",
        "!pip install -q findspark"
      ],
      "metadata": {
        "id": "Is3fuBPs00df"
      },
      "execution_count": 36,
      "outputs": []
    },
    {
      "cell_type": "code",
      "source": [
        "import findspark\n",
        "\n",
        "# Iniciando o findspark\n",
        "findspark.init()"
      ],
      "metadata": {
        "id": "sQbFa7SA02Xw"
      },
      "execution_count": 37,
      "outputs": []
    },
    {
      "cell_type": "code",
      "source": [
        "# iniciar uma seção Spark\n",
        "from pyspark.sql import SparkSession\n",
        "\n",
        "# iniciando o spark context\n",
        "spark = SparkSession.builder.master('local[*]').getOrCreate()\n",
        "spark"
      ],
      "metadata": {
        "colab": {
          "base_uri": "https://localhost:8080/",
          "height": 219
        },
        "id": "smPRg0Si05Rw",
        "outputId": "d369b066-e84f-4fb2-8cdf-98683d93908c"
      },
      "execution_count": 38,
      "outputs": [
        {
          "output_type": "execute_result",
          "data": {
            "text/plain": [
              "<pyspark.sql.session.SparkSession at 0x7f3ee1263490>"
            ],
            "text/html": [
              "\n",
              "            <div>\n",
              "                <p><b>SparkSession - in-memory</b></p>\n",
              "                \n",
              "        <div>\n",
              "            <p><b>SparkContext</b></p>\n",
              "\n",
              "            <p><a href=\"http://b8eaef3619f5:4040\">Spark UI</a></p>\n",
              "\n",
              "            <dl>\n",
              "              <dt>Version</dt>\n",
              "                <dd><code>v3.1.2</code></dd>\n",
              "              <dt>Master</dt>\n",
              "                <dd><code>local[*]</code></dd>\n",
              "              <dt>AppName</dt>\n",
              "                <dd><code>pyspark-shell</code></dd>\n",
              "            </dl>\n",
              "        </div>\n",
              "        \n",
              "            </div>\n",
              "        "
            ]
          },
          "metadata": {},
          "execution_count": 38
        }
      ]
    },
    {
      "cell_type": "markdown",
      "source": [
        "# Usando DataFrame (DF)"
      ],
      "metadata": {
        "id": "tNxkJjrnSWcn"
      }
    },
    {
      "cell_type": "code",
      "source": [
        "from pyspark.sql import SparkSession\n",
        "from pyspark.sql.types import ArrayType, StructField, StructType, StringType, IntegerType\n",
        "from datetime import date,datetime\n",
        "from pyspark.sql import Row"
      ],
      "metadata": {
        "id": "N3A7B2XqRB3m"
      },
      "execution_count": 39,
      "outputs": []
    },
    {
      "cell_type": "code",
      "source": [
        "#-----------------\n",
        "#Abrindo um CSV\n",
        "#pyspark.rdd.RDD\n",
        "#-----------------\n",
        "\n",
        "#file= spark.sparkContext.textFile('/content/food_coded.csv')\n",
        "\n",
        "#type(file) #pyspark.rdd.RDD\n"
      ],
      "metadata": {
        "id": "gzQbeOODTfXg"
      },
      "execution_count": 40,
      "outputs": []
    },
    {
      "cell_type": "code",
      "source": [
        "#-----------------\n",
        "#Abrindo um CSV\n",
        "#pyspark.sql.dataframe.DataFrame\n",
        "#-----------------\n",
        "\n",
        "#file=sc.read.csv('/content/food_coded.csv',header=True,sep=',',nanValue=None)\n",
        "\n",
        "\n",
        "#type(file) #pyspark.sql.dataframe.DataFrame\n",
        "#file.show()\n",
        "#Classes de file\n",
        "\n",
        "#file.printSchema()"
      ],
      "metadata": {
        "id": "2ks22sj3Ajhr"
      },
      "execution_count": 41,
      "outputs": []
    },
    {
      "cell_type": "code",
      "source": [
        "#-----------------\n",
        "#Criando um CSV do zero (em diferentes nós)\n",
        "#pyspark.sql.dataframe.DataFrame\n",
        "#-----------------\n",
        "\n",
        "datf=spark.createDataFrame([\n",
        "    Row(Cidade='Salvador', Populacao=6., Time='Bahia', Dat_cadastro=date(2021, 10, 10)),\n",
        "    Row(Cidade='Sao Paulo',Populacao=45., Time='Sao Paulo', Dat_cadastro=date(2021, 5, 5)),\n",
        "    Row(Cidade='Recife', Populacao=3., Time='Sport',Dat_cadastro=date(2021, 7, 2)),\n",
        "    Row(Cidade='Maceio', Populacao=2., Time='CSA', Dat_cadastro=date(2021, 8, 1)),\n",
        "])\n",
        "#datf\n",
        "\n",
        "\n",
        "datf.show()"
      ],
      "metadata": {
        "colab": {
          "base_uri": "https://localhost:8080/"
        },
        "id": "bX83YCDChagE",
        "outputId": "74371759-afad-4458-d325-859b28a58a13"
      },
      "execution_count": 42,
      "outputs": [
        {
          "output_type": "stream",
          "name": "stdout",
          "text": [
            "+---------+---------+---------+------------+\n",
            "|   Cidade|Populacao|     Time|Dat_cadastro|\n",
            "+---------+---------+---------+------------+\n",
            "| Salvador|      6.0|    Bahia|  2021-10-10|\n",
            "|Sao Paulo|     45.0|Sao Paulo|  2021-05-05|\n",
            "|   Recife|      3.0|    Sport|  2021-07-02|\n",
            "|   Maceio|      2.0|      CSA|  2021-08-01|\n",
            "+---------+---------+---------+------------+\n",
            "\n"
          ]
        }
      ]
    },
    {
      "cell_type": "code",
      "source": [
        "# Exibindo tres registros DF na vertical\n",
        "datf.show(3, vertical=True)\n",
        "#ou \n",
        "#datf.collect()"
      ],
      "metadata": {
        "colab": {
          "base_uri": "https://localhost:8080/"
        },
        "id": "lG7Nj1gYUeun",
        "outputId": "590fb909-c031-46aa-8ef7-e70f5e237156"
      },
      "execution_count": 43,
      "outputs": [
        {
          "output_type": "stream",
          "name": "stdout",
          "text": [
            "-RECORD 0------------------\n",
            " Cidade       | Salvador   \n",
            " Populacao    | 6.0        \n",
            " Time         | Bahia      \n",
            " Dat_cadastro | 2021-10-10 \n",
            "-RECORD 1------------------\n",
            " Cidade       | Sao Paulo  \n",
            " Populacao    | 45.0       \n",
            " Time         | Sao Paulo  \n",
            " Dat_cadastro | 2021-05-05 \n",
            "-RECORD 2------------------\n",
            " Cidade       | Recife     \n",
            " Populacao    | 3.0        \n",
            " Time         | Sport      \n",
            " Dat_cadastro | 2021-07-02 \n",
            "only showing top 3 rows\n",
            "\n"
          ]
        }
      ]
    },
    {
      "cell_type": "code",
      "source": [
        "# Analise rápida  dos dados\n",
        "datf.select(\"Cidade\", \"Populacao\").describe().show()"
      ],
      "metadata": {
        "colab": {
          "base_uri": "https://localhost:8080/"
        },
        "id": "CnEWVOZaTfU-",
        "outputId": "cc211f7c-2467-42f7-9014-9f11d6cc5df5"
      },
      "execution_count": 44,
      "outputs": [
        {
          "output_type": "stream",
          "name": "stdout",
          "text": [
            "+-------+---------+-----------------+\n",
            "|summary|   Cidade|        Populacao|\n",
            "+-------+---------+-----------------+\n",
            "|  count|        4|                4|\n",
            "|   mean|     null|             14.0|\n",
            "| stddev|     null|20.73644135332772|\n",
            "|    min|   Maceio|              2.0|\n",
            "|    max|Sao Paulo|             45.0|\n",
            "+-------+---------+-----------------+\n",
            "\n"
          ]
        }
      ]
    },
    {
      "cell_type": "code",
      "source": [
        "# Exibindo o Schema do Dataframe\n",
        "datf.printSchema()"
      ],
      "metadata": {
        "id": "1ZFWtYjgHoUN",
        "colab": {
          "base_uri": "https://localhost:8080/"
        },
        "outputId": "e83d44fb-f749-4251-fa62-d1255df5906a"
      },
      "execution_count": 45,
      "outputs": [
        {
          "output_type": "stream",
          "name": "stdout",
          "text": [
            "root\n",
            " |-- Cidade: string (nullable = true)\n",
            " |-- Populacao: double (nullable = true)\n",
            " |-- Time: string (nullable = true)\n",
            " |-- Dat_cadastro: date (nullable = true)\n",
            "\n"
          ]
        }
      ]
    },
    {
      "cell_type": "code",
      "source": [
        "# Carregando o modulo de funções, expecificamente a função Upper\n",
        "from pyspark.sql.functions import upper \n",
        "\n",
        "\n",
        "datf.withColumn('Cidade_U', upper(datf.Cidade)).show() # cidades ficam em caixa alta em  Cidade_U"
      ],
      "metadata": {
        "id": "3XLv1ZtGHoMT",
        "colab": {
          "base_uri": "https://localhost:8080/"
        },
        "outputId": "ada8e94c-efb9-4a05-d57b-8655445d5517"
      },
      "execution_count": 46,
      "outputs": [
        {
          "output_type": "stream",
          "name": "stdout",
          "text": [
            "+---------+---------+---------+------------+---------+\n",
            "|   Cidade|Populacao|     Time|Dat_cadastro| Cidade_U|\n",
            "+---------+---------+---------+------------+---------+\n",
            "| Salvador|      6.0|    Bahia|  2021-10-10| SALVADOR|\n",
            "|Sao Paulo|     45.0|Sao Paulo|  2021-05-05|SAO PAULO|\n",
            "|   Recife|      3.0|    Sport|  2021-07-02|   RECIFE|\n",
            "|   Maceio|      2.0|      CSA|  2021-08-01|   MACEIO|\n",
            "+---------+---------+---------+------------+---------+\n",
            "\n"
          ]
        }
      ]
    },
    {
      "cell_type": "code",
      "source": [
        "#Select data\n",
        "\n",
        "datf.filter(datf.Cidade == \"Salvador\").show()"
      ],
      "metadata": {
        "id": "AhHj8VAIJ6uF",
        "colab": {
          "base_uri": "https://localhost:8080/"
        },
        "outputId": "5fc3fdeb-ef98-4ef0-bd8a-5b13efc9300f"
      },
      "execution_count": 47,
      "outputs": [
        {
          "output_type": "stream",
          "name": "stdout",
          "text": [
            "+--------+---------+-----+------------+\n",
            "|  Cidade|Populacao| Time|Dat_cadastro|\n",
            "+--------+---------+-----+------------+\n",
            "|Salvador|      6.0|Bahia|  2021-10-10|\n",
            "+--------+---------+-----+------------+\n",
            "\n"
          ]
        }
      ]
    },
    {
      "cell_type": "code",
      "source": [
        "# Criando uma tabela temporária em memória com os dados e utilizando consulta SQL\n",
        "\n",
        "\n",
        "datf.createOrReplaceTempView(\"Dados\")\n",
        "spark.sql(\"select count(*) from Dados\").show()"
      ],
      "metadata": {
        "colab": {
          "base_uri": "https://localhost:8080/"
        },
        "id": "qHk-2MkOKmYs",
        "outputId": "d5907139-a98a-4a37-ce55-1d86b9be025a"
      },
      "execution_count": 48,
      "outputs": [
        {
          "output_type": "stream",
          "name": "stdout",
          "text": [
            "+--------+\n",
            "|count(1)|\n",
            "+--------+\n",
            "|       4|\n",
            "+--------+\n",
            "\n"
          ]
        }
      ]
    },
    {
      "cell_type": "markdown",
      "source": [
        "## Converter RDD --> DF"
      ],
      "metadata": {
        "id": "bFHK6xjTi2NE"
      }
    },
    {
      "cell_type": "code",
      "source": [
        "# carregando os dados sobre Capital de paises\n",
        "pais = [(\"Brasil\",10000),(\"Argentina\",20000),(\"Australia\",35000),(\"Italia\",40000),(\"Egito\",65000),(\"Mexico\",80000)]\n",
        "rddpais= spark.sparkContext.parallelize(pais)\n",
        "\n",
        "\n",
        "# convertendo em DF\n",
        "dataframerdd= rddpais.toDF()\n",
        "#type(dataframerdd) #pyspark.sql.dataframe.DataFrame\n",
        "\n",
        "\n",
        "dataframerdd.show()"
      ],
      "metadata": {
        "id": "jMMXihctKzBD",
        "colab": {
          "base_uri": "https://localhost:8080/"
        },
        "outputId": "3ffe4b27-33a8-4ed9-bda1-096cf3c5ec72"
      },
      "execution_count": 49,
      "outputs": [
        {
          "output_type": "stream",
          "name": "stdout",
          "text": [
            "+---------+-----+\n",
            "|       _1|   _2|\n",
            "+---------+-----+\n",
            "|   Brasil|10000|\n",
            "|Argentina|20000|\n",
            "|Australia|35000|\n",
            "|   Italia|40000|\n",
            "|    Egito|65000|\n",
            "|   Mexico|80000|\n",
            "+---------+-----+\n",
            "\n"
          ]
        }
      ]
    },
    {
      "cell_type": "code",
      "source": [
        "# Criando o schema das colunas dos campos do DF\n",
        "Colunas = [\"Pais\",\"Total_capital(Bilhoes)\"]\n",
        "dataframerdd2= rddpais.toDF(Colunas)\n",
        "dataframerdd2.printSchema()\n",
        "dataframerdd2.show(truncate=False)"
      ],
      "metadata": {
        "id": "B59EZPIiLEgM",
        "colab": {
          "base_uri": "https://localhost:8080/"
        },
        "outputId": "a043666b-6dbc-47ad-c2be-2ca66b9d5efb"
      },
      "execution_count": 50,
      "outputs": [
        {
          "output_type": "stream",
          "name": "stdout",
          "text": [
            "root\n",
            " |-- Pais: string (nullable = true)\n",
            " |-- Total_capital(Bilhoes): long (nullable = true)\n",
            "\n",
            "+---------+----------------------+\n",
            "|Pais     |Total_capital(Bilhoes)|\n",
            "+---------+----------------------+\n",
            "|Brasil   |10000                 |\n",
            "|Argentina|20000                 |\n",
            "|Australia|35000                 |\n",
            "|Italia   |40000                 |\n",
            "|Egito    |65000                 |\n",
            "|Mexico   |80000                 |\n",
            "+---------+----------------------+\n",
            "\n"
          ]
        }
      ]
    },
    {
      "cell_type": "markdown",
      "source": [
        "##Tratamento dos dados em DF"
      ],
      "metadata": {
        "id": "RZwv-XbGlJ-2"
      }
    },
    {
      "cell_type": "code",
      "source": [
        "df = spark.read.option(\"header\", \"true\").csv(\"food_coded.csv\")\n",
        "\n",
        "df.show(3)"
      ],
      "metadata": {
        "colab": {
          "base_uri": "https://localhost:8080/"
        },
        "id": "yYnR9vv2lNNY",
        "outputId": "8bc439a3-44f6-4caa-d259-96d54b16a41c"
      },
      "execution_count": 56,
      "outputs": [
        {
          "output_type": "stream",
          "name": "stdout",
          "text": [
            "+-----+------+---------+----------------+------------+--------------+------+--------------------+--------------------+---------------------------+----+----------------------------+-------+--------------------+------------------+-----+--------------------+--------------------+---------------------+----------+----------+-----------+--------+----------------+-----------------+--------------+-----------------+--------+--------------------+-----+---------+-----------+----------+---------------+--------------------+--------------------+----------------+------+-----------+------------+--------------+--------------+--------------------+----------------+-----------------+-----------------+-------------+------------+------------+------------+----------------------+----+------+---------+-----------------+---------------+-----------+-----------+--------+---------------+--------------------+\n",
            "|  GPA|Gender|breakfast|calories_chicken|calories_day|calories_scone|coffee|        comfort_food|comfort_food_reasons|comfort_food_reasons_coded9|cook|comfort_food_reasons_coded11|cuisine|        diet_current|diet_current_coded|drink|      eating_changes|eating_changes_coded|eating_changes_coded1|eating_out|employment|ethnic_food|exercise|father_education|father_profession|   fav_cuisine|fav_cuisine_coded|fav_food|      food_childhood|fries|fruit_day|grade_level|greek_food|healthy_feeling|        healthy_meal|          ideal_diet|ideal_diet_coded|income|indian_food|italian_food|life_rewarding|marital_status| meals_dinner_friend|mother_education|mother_profession|nutritional_check|on_off_campus|parents_cook|pay_meal_out|persian_food|self_perception_weight|soup|sports|thai_food|tortilla_calories|turkey_calories|type_sports|veggies_day|vitamins|waffle_calories|              weight|\n",
            "+-----+------+---------+----------------+------------+--------------+------+--------------------+--------------------+---------------------------+----+----------------------------+-------+--------------------+------------------+-----+--------------------+--------------------+---------------------+----------+----------+-----------+--------+----------------+-----------------+--------------+-----------------+--------+--------------------+-----+---------+-----------+----------+---------------+--------------------+--------------------+----------------+------+-----------+------------+--------------+--------------+--------------------+----------------+-----------------+-----------------+-------------+------------+------------+------------+----------------------+----+------+---------+-----------------+---------------+-----------+-----------+--------+---------------+--------------------+\n",
            "|  2.4|     2|        1|             430|         nan|           315|     1|                none|we dont have comf...|                          9|   2|                           9|    nan|eat good and exer...|                 1|    1|         eat faster |                   1|                    1|         3|         3|          1|       1|               5|        profesor |Arabic cuisine|                3|       1|  rice  and chicken |    2|        5|          2|         5|              2|     looks not oily |      being healthy |               8|     5|          5|           5|             1|             1|rice, chicken,  soup|               1|       unemployed|                5|            1|           1|           2|           5|                     3|   1|     1|        1|             1165|            345| car racing|          5|       1|           1315|                 187|\n",
            "|3.654|     1|        1|             610|           3|           420|     2|chocolate, chips,...|Stress, bored, anger|                          1|   3|                           1|      1|I eat about three...|                 2|    2|I eat out more th...|                   1|                    2|         2|         2|          4|       1|               2|   Self employed |       Italian|                1|       1|chicken and biscu...|    1|        4|          4|         4|              5|Grains, Veggies, ...|Try to eat 5-6 sm...|               3|     4|          4|           4|             1|             2|Pasta, steak, chi...|               4|        Nurse RN |                4|            1|           1|           4|           4|                     3|   1|     1|        2|              725|            690|Basketball |          4|       2|            900|                 155|\n",
            "|  3.3|     1|        1|             720|           4|           420|     2|frozen yogurt, pi...|     stress, sadness|                          1|   1|                           1|      3|toast and fruit f...|                 3|    1|sometimes choosin...|                   1|                    3|         2|         3|          5|       2|               2|    owns business|       italian|                1|       3|mac and cheese, p...|    1|        5|          3|         5|              6|usually includes ...|i would say my id...|               6|     6|          5|           5|             7|             2|chicken and rice ...|               2|    owns business|                4|            2|           1|           3|           5|                     6|   1|     2|        5|             1165|            500|       none|          5|       1|            900|I'm not answering...|\n",
            "+-----+------+---------+----------------+------------+--------------+------+--------------------+--------------------+---------------------------+----+----------------------------+-------+--------------------+------------------+-----+--------------------+--------------------+---------------------+----------+----------+-----------+--------+----------------+-----------------+--------------+-----------------+--------+--------------------+-----+---------+-----------+----------+---------------+--------------------+--------------------+----------------+------+-----------+------------+--------------+--------------+--------------------+----------------+-----------------+-----------------+-------------+------------+------------+------------+----------------------+----+------+---------+-----------------+---------------+-----------+-----------+--------+---------------+--------------------+\n",
            "only showing top 3 rows\n",
            "\n"
          ]
        }
      ]
    },
    {
      "cell_type": "code",
      "source": [
        "df.printSchema()"
      ],
      "metadata": {
        "colab": {
          "base_uri": "https://localhost:8080/"
        },
        "id": "mpPqufc-lvAJ",
        "outputId": "3415417b-5625-45ae-c283-dd451aa1ab4c"
      },
      "execution_count": 57,
      "outputs": [
        {
          "output_type": "stream",
          "name": "stdout",
          "text": [
            "root\n",
            " |-- GPA: string (nullable = true)\n",
            " |-- Gender: string (nullable = true)\n",
            " |-- breakfast: string (nullable = true)\n",
            " |-- calories_chicken: string (nullable = true)\n",
            " |-- calories_day: string (nullable = true)\n",
            " |-- calories_scone: string (nullable = true)\n",
            " |-- coffee: string (nullable = true)\n",
            " |-- comfort_food: string (nullable = true)\n",
            " |-- comfort_food_reasons: string (nullable = true)\n",
            " |-- comfort_food_reasons_coded9: string (nullable = true)\n",
            " |-- cook: string (nullable = true)\n",
            " |-- comfort_food_reasons_coded11: string (nullable = true)\n",
            " |-- cuisine: string (nullable = true)\n",
            " |-- diet_current: string (nullable = true)\n",
            " |-- diet_current_coded: string (nullable = true)\n",
            " |-- drink: string (nullable = true)\n",
            " |-- eating_changes: string (nullable = true)\n",
            " |-- eating_changes_coded: string (nullable = true)\n",
            " |-- eating_changes_coded1: string (nullable = true)\n",
            " |-- eating_out: string (nullable = true)\n",
            " |-- employment: string (nullable = true)\n",
            " |-- ethnic_food: string (nullable = true)\n",
            " |-- exercise: string (nullable = true)\n",
            " |-- father_education: string (nullable = true)\n",
            " |-- father_profession: string (nullable = true)\n",
            " |-- fav_cuisine: string (nullable = true)\n",
            " |-- fav_cuisine_coded: string (nullable = true)\n",
            " |-- fav_food: string (nullable = true)\n",
            " |-- food_childhood: string (nullable = true)\n",
            " |-- fries: string (nullable = true)\n",
            " |-- fruit_day: string (nullable = true)\n",
            " |-- grade_level: string (nullable = true)\n",
            " |-- greek_food: string (nullable = true)\n",
            " |-- healthy_feeling: string (nullable = true)\n",
            " |-- healthy_meal: string (nullable = true)\n",
            " |-- ideal_diet: string (nullable = true)\n",
            " |-- ideal_diet_coded: string (nullable = true)\n",
            " |-- income: string (nullable = true)\n",
            " |-- indian_food: string (nullable = true)\n",
            " |-- italian_food: string (nullable = true)\n",
            " |-- life_rewarding: string (nullable = true)\n",
            " |-- marital_status: string (nullable = true)\n",
            " |-- meals_dinner_friend: string (nullable = true)\n",
            " |-- mother_education: string (nullable = true)\n",
            " |-- mother_profession: string (nullable = true)\n",
            " |-- nutritional_check: string (nullable = true)\n",
            " |-- on_off_campus: string (nullable = true)\n",
            " |-- parents_cook: string (nullable = true)\n",
            " |-- pay_meal_out: string (nullable = true)\n",
            " |-- persian_food: string (nullable = true)\n",
            " |-- self_perception_weight: string (nullable = true)\n",
            " |-- soup: string (nullable = true)\n",
            " |-- sports: string (nullable = true)\n",
            " |-- thai_food: string (nullable = true)\n",
            " |-- tortilla_calories: string (nullable = true)\n",
            " |-- turkey_calories: string (nullable = true)\n",
            " |-- type_sports: string (nullable = true)\n",
            " |-- veggies_day: string (nullable = true)\n",
            " |-- vitamins: string (nullable = true)\n",
            " |-- waffle_calories: string (nullable = true)\n",
            " |-- weight: string (nullable = true)\n",
            "\n"
          ]
        }
      ]
    },
    {
      "cell_type": "code",
      "source": [
        "# Selecionando alguns campos\n",
        "df.select('mother_profession','type_sports', 'Gender', 'weight','calories_day').show(30)"
      ],
      "metadata": {
        "colab": {
          "base_uri": "https://localhost:8080/"
        },
        "id": "IyWewIXol-De",
        "outputId": "29f26552-3114-4384-cc9b-cfe9c99f73d0"
      },
      "execution_count": 58,
      "outputs": [
        {
          "output_type": "stream",
          "name": "stdout",
          "text": [
            "+--------------------+--------------------+------+--------------------+------------+\n",
            "|   mother_profession|         type_sports|Gender|              weight|calories_day|\n",
            "+--------------------+--------------------+------+--------------------+------------+\n",
            "|          unemployed|          car racing|     2|                 187|         nan|\n",
            "|           Nurse RN |         Basketball |     1|                 155|           3|\n",
            "|       owns business|                none|     1|I'm not answering...|           4|\n",
            "|                null|                null|     1|                null|           3|\n",
            "|                null|                null|  null|                null|        null|\n",
            "|                null|                null|     4|                null|           1|\n",
            "|Substance Abuse C...|            Softball|     1|                 190|           2|\n",
            "|        Hair Braider|               None.|     1|                 190|           3|\n",
            "|          Journalist|              soccer|     2|                 180|           3|\n",
            "|                cook|                none|     1|                 137|           3|\n",
            "|Elementary School...|                none|     1|                 180|         nan|\n",
            "|  Pharmaceutical rep|        field hockey|     1|                 125|           3|\n",
            "|     Chidos Cleaners|              soccer|     1|                 116|           3|\n",
            "|     Court Reporter |             Running|     1|                 110|           4|\n",
            "|Child care provider |Soccer and basket...|     2|                 264|           3|\n",
            "|      business owner|intramural volley...|     1|                 123|           3|\n",
            "|      Charity worker|              Hockey|     2|                 185|           3|\n",
            "|           Librarian|              Hockey|     2|                 180|         nan|\n",
            "|              Police|                 nan|     1|                 145|           3|\n",
            "|    stay at home mom|              hockey|     2|                 170|           3|\n",
            "|    Daycare provider|            dancing |     1|                 135|           3|\n",
            "|  physical therapist|          basketball|     2|                 165|           2|\n",
            "|             Teacher|              Soccer|     2|                 175|           3|\n",
            "|          House wife|              Tennis|     2|                 195|           3|\n",
            "|       Underwiriter |   tennis soccer gym|     2|                 185|           3|\n",
            "|         Beautician |     Gaelic Football|     2|                 185|           3|\n",
            "|          Unemployed|                none|     1|                 105|           2|\n",
            "|                null|                null|     1|                null|           3|\n",
            "|                null|                null|     3|                null|           1|\n",
            "|Doctors Billing A...|              Hockey|     2|                 160|           2|\n",
            "+--------------------+--------------------+------+--------------------+------------+\n",
            "only showing top 30 rows\n",
            "\n"
          ]
        }
      ]
    },
    {
      "cell_type": "code",
      "source": [
        "# filtros no PySpark\n",
        "from pyspark.sql.functions import *\n",
        "\n",
        "\n",
        "# Filtrando os dados não nulos \n",
        "resultdf1 = df.filter(df.weight.isNotNull()).select('mother_profession','type_sports', 'Gender', 'weight','calories_day')\n",
        "\n",
        "resultdf1.show()"
      ],
      "metadata": {
        "colab": {
          "base_uri": "https://localhost:8080/"
        },
        "id": "RV0lRKTjmA73",
        "outputId": "abdbfd25-2a54-4c85-9992-2809cb86ee87"
      },
      "execution_count": 67,
      "outputs": [
        {
          "output_type": "stream",
          "name": "stdout",
          "text": [
            "+--------------------+--------------------+------+--------------------+------------+\n",
            "|   mother_profession|         type_sports|Gender|              weight|calories_day|\n",
            "+--------------------+--------------------+------+--------------------+------------+\n",
            "|          unemployed|          car racing|     2|                 187|         nan|\n",
            "|           Nurse RN |         Basketball |     1|                 155|           3|\n",
            "|       owns business|                none|     1|I'm not answering...|           4|\n",
            "|Substance Abuse C...|            Softball|     1|                 190|           2|\n",
            "|        Hair Braider|               None.|     1|                 190|           3|\n",
            "|          Journalist|              soccer|     2|                 180|           3|\n",
            "|                cook|                none|     1|                 137|           3|\n",
            "|Elementary School...|                none|     1|                 180|         nan|\n",
            "|  Pharmaceutical rep|        field hockey|     1|                 125|           3|\n",
            "|     Chidos Cleaners|              soccer|     1|                 116|           3|\n",
            "|     Court Reporter |             Running|     1|                 110|           4|\n",
            "|Child care provider |Soccer and basket...|     2|                 264|           3|\n",
            "|      business owner|intramural volley...|     1|                 123|           3|\n",
            "|      Charity worker|              Hockey|     2|                 185|           3|\n",
            "|           Librarian|              Hockey|     2|                 180|         nan|\n",
            "|              Police|                 nan|     1|                 145|           3|\n",
            "|    stay at home mom|              hockey|     2|                 170|           3|\n",
            "|    Daycare provider|            dancing |     1|                 135|           3|\n",
            "|  physical therapist|          basketball|     2|                 165|           2|\n",
            "|             Teacher|              Soccer|     2|                 175|           3|\n",
            "+--------------------+--------------------+------+--------------------+------------+\n",
            "only showing top 20 rows\n",
            "\n"
          ]
        }
      ]
    },
    {
      "cell_type": "code",
      "source": [
        "#Selecionando apenas uma coluna\n",
        "df.select('weight').show()"
      ],
      "metadata": {
        "colab": {
          "base_uri": "https://localhost:8080/"
        },
        "id": "nN5mZcRFm75-",
        "outputId": "32308aee-7f76-4931-cfa1-86a25ac103ce"
      },
      "execution_count": 73,
      "outputs": [
        {
          "output_type": "stream",
          "name": "stdout",
          "text": [
            "+--------------------+\n",
            "|              weight|\n",
            "+--------------------+\n",
            "|                 187|\n",
            "|                 155|\n",
            "|I'm not answering...|\n",
            "|                null|\n",
            "|                null|\n",
            "|                null|\n",
            "|                 190|\n",
            "|                 190|\n",
            "|                 180|\n",
            "|                 137|\n",
            "|                 180|\n",
            "|                 125|\n",
            "|                 116|\n",
            "|                 110|\n",
            "|                 264|\n",
            "|                 123|\n",
            "|                 185|\n",
            "|                 180|\n",
            "|                 145|\n",
            "|                 170|\n",
            "+--------------------+\n",
            "only showing top 20 rows\n",
            "\n"
          ]
        }
      ]
    },
    {
      "cell_type": "code",
      "source": [
        "# Retirando por meio de REGEX todos os carcteres de weight\n",
        "\n",
        "resultdf2 = resultdf1.filter(col(\"weight\").rlike(\"^[0-9]*$\"))\n",
        "resultdf2.show()"
      ],
      "metadata": {
        "colab": {
          "base_uri": "https://localhost:8080/"
        },
        "id": "9OgdOp9umOC-",
        "outputId": "fc4e701f-652b-471a-cb4f-b342628e2f27"
      },
      "execution_count": 61,
      "outputs": [
        {
          "output_type": "stream",
          "name": "stdout",
          "text": [
            "+--------------------+--------------------+------+------+------------+\n",
            "|   mother_profession|         type_sports|Gender|weight|calories_day|\n",
            "+--------------------+--------------------+------+------+------------+\n",
            "|          unemployed|          car racing|     2|   187|         nan|\n",
            "|           Nurse RN |         Basketball |     1|   155|           3|\n",
            "|Substance Abuse C...|            Softball|     1|   190|           2|\n",
            "|        Hair Braider|               None.|     1|   190|           3|\n",
            "|          Journalist|              soccer|     2|   180|           3|\n",
            "|                cook|                none|     1|   137|           3|\n",
            "|Elementary School...|                none|     1|   180|         nan|\n",
            "|  Pharmaceutical rep|        field hockey|     1|   125|           3|\n",
            "|     Chidos Cleaners|              soccer|     1|   116|           3|\n",
            "|     Court Reporter |             Running|     1|   110|           4|\n",
            "|Child care provider |Soccer and basket...|     2|   264|           3|\n",
            "|      business owner|intramural volley...|     1|   123|           3|\n",
            "|      Charity worker|              Hockey|     2|   185|           3|\n",
            "|           Librarian|              Hockey|     2|   180|         nan|\n",
            "|              Police|                 nan|     1|   145|           3|\n",
            "|    stay at home mom|              hockey|     2|   170|           3|\n",
            "|    Daycare provider|            dancing |     1|   135|           3|\n",
            "|  physical therapist|          basketball|     2|   165|           2|\n",
            "|             Teacher|              Soccer|     2|   175|           3|\n",
            "|          House wife|              Tennis|     2|   195|           3|\n",
            "+--------------------+--------------------+------+------+------------+\n",
            "only showing top 20 rows\n",
            "\n"
          ]
        }
      ]
    },
    {
      "cell_type": "code",
      "source": [
        "# GROUPBY\n",
        "resultdf2.groupBy(\"Gender\", \"weight\").count().orderBy(\"weight\").show()"
      ],
      "metadata": {
        "colab": {
          "base_uri": "https://localhost:8080/"
        },
        "id": "N81MSh80mas3",
        "outputId": "b2fb2ff5-1b16-4a97-9546-f021c9502152"
      },
      "execution_count": 74,
      "outputs": [
        {
          "output_type": "stream",
          "name": "stdout",
          "text": [
            "+------+------+-----+\n",
            "|Gender|weight|count|\n",
            "+------+------+-----+\n",
            "|     1|     1|    1|\n",
            "|     1|   100|    1|\n",
            "|     1|   105|    1|\n",
            "|     1|   110|    1|\n",
            "|     1|   112|    1|\n",
            "|     1|   113|    1|\n",
            "|     1|   115|    1|\n",
            "|     1|   116|    1|\n",
            "|     1|   120|    3|\n",
            "|     1|   123|    1|\n",
            "|     1|   125|    4|\n",
            "|     1|   127|    1|\n",
            "|     1|   128|    2|\n",
            "|     1|   129|    2|\n",
            "|     1|   130|    3|\n",
            "|     1|   135|    7|\n",
            "|     2|   135|    1|\n",
            "|     1|   137|    1|\n",
            "|     2|   140|    2|\n",
            "|     1|   140|    6|\n",
            "+------+------+-----+\n",
            "only showing top 20 rows\n",
            "\n"
          ]
        }
      ]
    },
    {
      "cell_type": "code",
      "source": [
        "#Seleciona weight >= 150, indicando sobrepeso, separando por tipo de esporte\n",
        "\n",
        "resultdf3 = resultdf2.select(\"type_sports\", when(resultdf2.weight >= 150, \"Sobrepeso\"))\n",
        "\n",
        "resultdf3.show()\n"
      ],
      "metadata": {
        "colab": {
          "base_uri": "https://localhost:8080/"
        },
        "id": "RGV6OW4Bnyzg",
        "outputId": "2dcce783-1c39-46c8-d192-0b6b2009e120"
      },
      "execution_count": 76,
      "outputs": [
        {
          "output_type": "stream",
          "name": "stdout",
          "text": [
            "+--------------------+--------------------------------------------+\n",
            "|         type_sports|CASE WHEN (weight >= 150) THEN Sobrepeso END|\n",
            "+--------------------+--------------------------------------------+\n",
            "|          car racing|                                   Sobrepeso|\n",
            "|         Basketball |                                   Sobrepeso|\n",
            "|            Softball|                                   Sobrepeso|\n",
            "|               None.|                                   Sobrepeso|\n",
            "|              soccer|                                   Sobrepeso|\n",
            "|                none|                                        null|\n",
            "|                none|                                   Sobrepeso|\n",
            "|        field hockey|                                        null|\n",
            "|              soccer|                                        null|\n",
            "|             Running|                                        null|\n",
            "|Soccer and basket...|                                   Sobrepeso|\n",
            "|intramural volley...|                                        null|\n",
            "|              Hockey|                                   Sobrepeso|\n",
            "|              Hockey|                                   Sobrepeso|\n",
            "|                 nan|                                        null|\n",
            "|              hockey|                                   Sobrepeso|\n",
            "|            dancing |                                        null|\n",
            "|          basketball|                                   Sobrepeso|\n",
            "|              Soccer|                                   Sobrepeso|\n",
            "|              Tennis|                                   Sobrepeso|\n",
            "+--------------------+--------------------------------------------+\n",
            "only showing top 20 rows\n",
            "\n"
          ]
        }
      ]
    },
    {
      "cell_type": "code",
      "source": [
        "#Fill nulos\n",
        "\n",
        "resultdf4 = resultdf3.filter(resultdf3[1].isNotNull())\n",
        "\n",
        "resultdf4.show()"
      ],
      "metadata": {
        "colab": {
          "base_uri": "https://localhost:8080/"
        },
        "id": "sbAB2Phnn7rw",
        "outputId": "e82ecef6-a4c5-4a85-8663-04427526bd3f"
      },
      "execution_count": 78,
      "outputs": [
        {
          "output_type": "stream",
          "name": "stdout",
          "text": [
            "+--------------------+--------------------------------------------+\n",
            "|         type_sports|CASE WHEN (weight >= 150) THEN Sobrepeso END|\n",
            "+--------------------+--------------------------------------------+\n",
            "|          car racing|                                   Sobrepeso|\n",
            "|         Basketball |                                   Sobrepeso|\n",
            "|            Softball|                                   Sobrepeso|\n",
            "|               None.|                                   Sobrepeso|\n",
            "|              soccer|                                   Sobrepeso|\n",
            "|                none|                                   Sobrepeso|\n",
            "|Soccer and basket...|                                   Sobrepeso|\n",
            "|              Hockey|                                   Sobrepeso|\n",
            "|              Hockey|                                   Sobrepeso|\n",
            "|              hockey|                                   Sobrepeso|\n",
            "|          basketball|                                   Sobrepeso|\n",
            "|              Soccer|                                   Sobrepeso|\n",
            "|              Tennis|                                   Sobrepeso|\n",
            "|   tennis soccer gym|                                   Sobrepeso|\n",
            "|     Gaelic Football|                                   Sobrepeso|\n",
            "|              Hockey|                                   Sobrepeso|\n",
            "|           Lacrosse |                                   Sobrepeso|\n",
            "|                 nan|                                   Sobrepeso|\n",
            "|                 nan|                                   Sobrepeso|\n",
            "|      none organized|                                   Sobrepeso|\n",
            "+--------------------+--------------------------------------------+\n",
            "only showing top 20 rows\n",
            "\n"
          ]
        }
      ]
    },
    {
      "cell_type": "code",
      "source": [
        "# Filtra none, None., nan do primeiro campo ( type_sports)\n",
        "resultdf4.filter((resultdf3[0] != 'none') & (resultdf3[0] != 'None.') & (resultdf3[0] != 'nan')).show()"
      ],
      "metadata": {
        "colab": {
          "base_uri": "https://localhost:8080/"
        },
        "id": "NBeNrw5IoIjg",
        "outputId": "d5201eb4-83ca-4377-a2cc-666e881ca713"
      },
      "execution_count": 79,
      "outputs": [
        {
          "output_type": "stream",
          "name": "stdout",
          "text": [
            "+--------------------+--------------------------------------------+\n",
            "|         type_sports|CASE WHEN (weight >= 150) THEN Sobrepeso END|\n",
            "+--------------------+--------------------------------------------+\n",
            "|          car racing|                                   Sobrepeso|\n",
            "|         Basketball |                                   Sobrepeso|\n",
            "|            Softball|                                   Sobrepeso|\n",
            "|              soccer|                                   Sobrepeso|\n",
            "|Soccer and basket...|                                   Sobrepeso|\n",
            "|              Hockey|                                   Sobrepeso|\n",
            "|              Hockey|                                   Sobrepeso|\n",
            "|              hockey|                                   Sobrepeso|\n",
            "|          basketball|                                   Sobrepeso|\n",
            "|              Soccer|                                   Sobrepeso|\n",
            "|              Tennis|                                   Sobrepeso|\n",
            "|   tennis soccer gym|                                   Sobrepeso|\n",
            "|     Gaelic Football|                                   Sobrepeso|\n",
            "|              Hockey|                                   Sobrepeso|\n",
            "|           Lacrosse |                                   Sobrepeso|\n",
            "|      none organized|                                   Sobrepeso|\n",
            "|            softball|                                   Sobrepeso|\n",
            "|            Lacrosse|                                   Sobrepeso|\n",
            "|           Softball |                                   Sobrepeso|\n",
            "|             Dancing|                                   Sobrepeso|\n",
            "+--------------------+--------------------------------------------+\n",
            "only showing top 20 rows\n",
            "\n"
          ]
        }
      ]
    },
    {
      "cell_type": "code",
      "source": [],
      "metadata": {
        "id": "J7wqOpkAoRav"
      },
      "execution_count": null,
      "outputs": []
    }
  ]
}