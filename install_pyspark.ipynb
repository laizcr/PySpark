{
  "nbformat": 4,
  "nbformat_minor": 0,
  "metadata": {
    "colab": {
      "provenance": []
    },
    "kernelspec": {
      "name": "python3",
      "display_name": "Python 3"
    },
    "language_info": {
      "name": "python"
    }
  },
  "cells": [
    {
      "cell_type": "markdown",
      "source": [
        "-------------------------------------------------------------\n",
        "Libs e Preparação do ambiente Spark\n",
        "-------------------------------------------------------------\n",
        "\n"
      ],
      "metadata": {
        "id": "xzaVj7ArSIw9"
      }
    },
    {
      "cell_type": "code",
      "execution_count": 2,
      "metadata": {
        "id": "NlH8bX1P0fJL"
      },
      "outputs": [],
      "source": [
        "# Java jdk utilitários \n",
        "!apt-get install openjdk-8-jdk-headless -qq > /dev/null"
      ]
    },
    {
      "cell_type": "code",
      "source": [
        "#Download do Spark\n",
        "!wget -q https://archive.apache.org/dist/spark/spark-3.1.2/spark-3.1.2-bin-hadoop2.7.tgz\n",
        "\n",
        "# Descompactando os arquivos\n",
        "!tar xf spark-3.1.2-bin-hadoop2.7.tgz"
      ],
      "metadata": {
        "id": "oZMEvpeZ0m4p"
      },
      "execution_count": 3,
      "outputs": []
    },
    {
      "cell_type": "code",
      "source": [
        "# Importando a biblioteca os\n",
        "import os\n",
        "\n",
        "# Definindo a variável de ambiente do Java\n",
        "os.environ[\"JAVA_HOME\"] = \"/usr/lib/jvm/java-8-openjdk-amd64\"\n",
        "\n",
        "# Definindo a variável de ambiente do Spark\n",
        "os.environ[\"SPARK_HOME\"] = \"/content/spark-3.1.2-bin-hadoop2.7\""
      ],
      "metadata": {
        "id": "16nKSavt0wFw"
      },
      "execution_count": 4,
      "outputs": []
    },
    {
      "cell_type": "code",
      "source": [
        "# Findspark\n",
        "!pip install -q findspark"
      ],
      "metadata": {
        "id": "Is3fuBPs00df"
      },
      "execution_count": 5,
      "outputs": []
    },
    {
      "cell_type": "code",
      "source": [
        "import findspark\n",
        "\n",
        "# Iniciando o findspark\n",
        "findspark.init()"
      ],
      "metadata": {
        "id": "sQbFa7SA02Xw"
      },
      "execution_count": 6,
      "outputs": []
    },
    {
      "cell_type": "code",
      "source": [
        "# iniciar uma seção Spark\n",
        "from pyspark.sql import SparkSession\n",
        "\n",
        "# iniciando o spark context\n",
        "spark = SparkSession.builder.master('local[*]').getOrCreate()\n",
        "spark"
      ],
      "metadata": {
        "colab": {
          "base_uri": "https://localhost:8080/",
          "height": 219
        },
        "id": "smPRg0Si05Rw",
        "outputId": "08e24f20-75ce-4818-adbf-8f4036049f96"
      },
      "execution_count": 39,
      "outputs": [
        {
          "output_type": "execute_result",
          "data": {
            "text/plain": [
              "<pyspark.sql.session.SparkSession at 0x7f03e135d0a0>"
            ],
            "text/html": [
              "\n",
              "            <div>\n",
              "                <p><b>SparkSession - in-memory</b></p>\n",
              "                \n",
              "        <div>\n",
              "            <p><b>SparkContext</b></p>\n",
              "\n",
              "            <p><a href=\"http://7275b1b4b37d:4040\">Spark UI</a></p>\n",
              "\n",
              "            <dl>\n",
              "              <dt>Version</dt>\n",
              "                <dd><code>v3.1.2</code></dd>\n",
              "              <dt>Master</dt>\n",
              "                <dd><code>local[*]</code></dd>\n",
              "              <dt>AppName</dt>\n",
              "                <dd><code>pyspark-shell</code></dd>\n",
              "            </dl>\n",
              "        </div>\n",
              "        \n",
              "            </div>\n",
              "        "
            ]
          },
          "metadata": {},
          "execution_count": 39
        }
      ]
    },
    {
      "cell_type": "markdown",
      "source": [
        "**Spark Context**\n",
        "É a estrutura de preparação do script onde o dado se conecta com o cluster e os nós.\n",
        "**RDD**\n",
        "Resilient Distribuited Dataset\n",
        "É a estrutura de dados que permite o armazenamentode dados no spark.São coleções de dados distribuidos. É dividido em partições lógicas, que podem seer computadas em diferentes nos do cluster.\n",
        "\n",
        "\n",
        " ![rdd.png](data:image/png;base64,iVBORw0KGgoAAAANSUhEUgAAAb0AAAFdCAYAAACXarPGAAAAAXNSR0IArs4c6QAAAARnQU1BAACxjwv8YQUAAAAJcEhZcwAAFiUAABYlAUlSJPAAAIe1SURBVHhe7f1nj2RJmp4JP65Di4zUoiqzRFdX61HNmWmCcjjkgIsFAX7inxnyR3CxiwXe/UICLxa7AxBYvi8JghzODIcc0XJaVFdXVlVqGVq4h2vf+7JzzOOEp0dkRGZkhkfEc2U+cZSZHTt2zOy25yjPbW5t9nJm1uuZ5TTT00wu10uXc6Yl/ctuH5hqGyF2ryc+6Rw0/qhu13HsuV3HxVRbd2/nuDPLL8R/2faBaX97ur89tw+sP4btcelV4/t23+7bffsb3d7VtFqtsj4Di3EVwbFXIe7OcRzHcUaDfDKJ4hRFLl29a/1hp9HApz71qU996tPjn+ZqtVrq1rEi6/S5p+Y4juOcLhKXjoudu0SOaTQm2fVDpr49mfr24VPfnkx9+/Cpb0+mvn349Ii35+r1eta9cxzHcZxTS257e9tFz3EcxzkT5OqNxsArCwNTAvl23+7bfbtv9+2nYbtf3nQcx3HOCrmGPD1mohJGWJlZ9O2+3bf79j6+3bef1O190XMcx3Gc0054ZYHPhQXSaVwenPp2355MfPuwqW8/3Hbgs3x99oi3V3zf7tuz0wNvd0/POSzZjqpfoU4I5L3T6YT5fD4f7LDE488ee/JN1f3LYnD7rg7/DTAsn8dBtmzifPbYs9uPO6/O6SfXbDZ7sRL61Kcvm3a73VBxslO2QRSRQqGwb3zC7LX9TU5hc3PTvvjiiyB87733ns3NzYX8kq+DpBOPm+V4nBCFNG4HtgPxIArsYHrZ5aOaRrLlHTlI/KOasn/m47Fn8xO3R1iO0xhnMD2f+vS1p4heqGmOcwCoNHTwiMfq6qotLy/b+vq6jY2NBQE5f/68nTt3zsrlchpjB+IClW8/DhruMMQ07927Z//u3/27MP8Hf/AH9v7771upVArLB4FOOnbUdMrMNxoN29jYCEZZtFotGx8ft+npaZuZmbHJyclQHuznKI9pGPE4yVsU4tjYsSjEzL/pvADlQz6y+Yl5gJjfwbyw/Dby55w9dnl6fahsmWXf7tvjdjqu54uL9uMf/Sh4TCsrK6Gzp5Ofn5+3W7du2be/8x27cf166OSJR4cH/X0oPe2hTzb9MGVZnSXro/Xjgpa1Il3YHT8wsB1ix/vLX/7S/j//x/9hZeXtX/yLf2Ff/epXrVKppKFS9kmfaVdG/pjf2tqyu3fv2u3bt+3p06dB9NraF+lPTU2FQcDXvva14FUigKEs0vRjmq97fIP5i9uZ57gR4Wq1GoQXIc4jOnvED+yTfuAQ21mP1Wq1kAfqyaTKhe0xDvF3oWXWxPVvMn/g28/W9tAb7YoAA8u+3bfHab1et08lHH/9138dBO/SpUv2zW9+077yla8EjwYPcIOOv90O4bHsJSxQlQwVEYMYDgvLafjB9X3SZeJHQY0VO4QdCJ+NHzyPNG9xeTB/+8WHfJpvOvJPPvnE/vRP/9R+/vOfmwaQduHChSD4TBEctv/N3/xNGBjEdKJghnlN2T/T/n7iNKW/PnLA7ZQJgvfll1/af/kv/8V++MMfhnywPZY9vGr6kb22x/XUGcrhj//4j+3zzz+3pjxjzlv2/GfZyVnCm8pfxLefre2FP/zDP/xXsePwqU/3msYOalFe3l/91V+FDv973/ue/e2//bftW9/6ln3wwQf2zjvv2OXLl0OHPzEx0b+cVywWwzSbXpyPgkPFzG6HuM/sMsblscEp8bPhs+uBKcvk/yc/+UmYR6wXFhZC/iCGz+aDdAbTZbq9vW2ffvqp/cmf/Em4zIvH+Nu//dshTTy7Dz/80N59990wEMDju3HjRvD0Yn4i8fiZxn1Fy+ZjcMp20oqXDCFuZxuwjOghOP/5P//nMBAhX1yGzqYxGA9ifmBwezYe83F7dsp2tmF4w//9v/93+2//7b+FfXNJmcvh+6UzuOxTnx7VNIhemHOcPaADAjrNZ8+e2Y9//ONwqexv/a2/FYSODgyjg5+dnQ2CF4UOGOnjYUSPhk6Qe4FLS0vhkhfrY3iMMMD6eL8Mr3JtbS3EJT1ApOI+iIMQx3tqxCU8+8D7pMIjwojeD37wgxD3G9/4RhBothGffRGH6V7332L+KIc/+7M/C5c2ETzE/+bNm6FTR+S4jMjl3mvXroWBAOUSxZW8UZbki/yRp3hsQLjssQHHRBjEFsgjZUhcRBeyeUYMCUsYRA/j0iL5IQx5YBrDs0x40nr+/Hkob84NkJdYRuSb80E5sxyPCeJ2thGXtDlXT548Cd4uXh7ljREuxo95iPmJy47zJnDRc/Yl2wHRkdKJ/uIXvwidGp4MHVjsuOgY6SBjh43FS3zf//73+x0mlwJ/9rOfhfV0hPFeDxZHY3TCdOifffZZCPurX/0qCAzL3EtE4AiP2BKH8NxX+4u/+Iu+gPzoRz8KXinxEB0EiU4dT488R9FDLBAg8kPnTOdPeIQ9Hv9gOZAfvBfuB+Lx4kGRnygQsTxIg/XZzp30Hz9+HC43YpQBlyDJP3knDgOIbBxE9s///M/t4cOHQQDv378f8su5wIhHXtgX8ckjx82lV46X+40IJWJG+ZEGDxxRfpwX1rN/wnJsd+7cCQ/9kC7HFI+NdAlHvikzxD17DsgngwqEk8EPx0UeyCtlTx4QQdImnwwMOM543rPl7DhvAhc950DQGdGpISZ0inS+dFaIA50e87HDj50+xn0uOmu8Ijo8Ons6PEb5dKCkQwfOMp0wXhLp0BEjjnTCeA506HSiiB2dNvEIRxw6ZMIjrNw3it4KYsKUbQj0xYsXQ1p4qsTlUiQPmnBcXKokn4j61atX7cqVK+G44rFnO2OOAyFmf9zTxOMl7dhxDxLjcox4PuSLe6KIVRRvhJe8Ujbkn0uh4aGTtCw55n//7/992M7AAeEgH3FwgMCRFsdDXNY/ePAgHCtxECjWIXacQ8SGMmHfCBsDBASfNIhPebMe0aJM4qCBcmP9T3/60yCMrGefCBhly3FRNqzHw3306FFIF9GNHjp1grxTxhhxIVtvHOdNUfiX//Jf/qtY0dzc9jJgSseEWNEx0/EypRNjGx03HVgUP9bRyTLyR8Do9Olsuafz67/+6/bRRx8FjwbvgI6VbXhesROkc2aeh2S+/vWvhymX50gH4cBj4l4ZwkeHzj7ojOngEU+8r29/+9thP3TwdObkN17e5F4k4ei8WYfHifeHGJIXwkAsg2gIA4KF90K6HAudPNuGhY/ryDeiz70thIi4v/mbvxnyyLEhnKSN0FCmCGocBDAwQJTJP2LIU7LkP8ajDBEYhIZ4DEIw4iP6COP169ft7/7dv9sv+yj4lBseMiL/G7/xGyE/PG1KuSJk5IfzQNqIJIMPyp6BAkIW1yPM5JHt3/3ud8PgId7TpGzJO2n//b//90MZcwxRSCmfOGjIlpmb21Gbe3rOoUDY6KjoIBEqPAw6Re5NIXB0jngJdGAY6xAiRIpO9+/8nb8TOl3m6XQRCzwXthOXe4R0ksRFpBA5vIF4r4zwwGVOOl6EDaFEUBAh1sdO93d/93eDWLIv4iIC5BMPjfTZhkD+5V/+ZRBYROQ73/lOyBdhsw0lCx04++IyH8IVxZM8QJwOgneDWCIwCMrf+3t/L+SB/XF8iBV55xgQOcoiChiChjBTRr/zO78THppBNHgQh/iIJd4vYk2ZIULkiWWOEUEivd/7vd8L+0QoSZfLmjyMQ/p4rIgSaca4CBLnGBEmXcqfOhDzxIABYaOM8MqpE6TBfU7EmfBMCUv+OC+IHgMftu1Xzo7zJhh+PcZx9oBOkE7x137t10IHiqdCB0nHyKVFOlBEEEGi86cjIw5CiFeGBxE7U4SHjg9PAe8RbwTxifEQ1tihkh7iiOAgHogpcSJRaEiXzp1Ol46dNNg3nSsQDiM+nTACiJfE06d01ggIacQOeFhHHNMYxl7rgXxzCRMBwQtC0BCnWBbMUxZRqLiMiJeW3R8CT145NgQQAaKMECQEkzLC+yLfHDPbsbgP5onHNtYRnjyxDqN8GRhQJnhmpMN6yp/8A/HIO3WAfXM587/+1/8aLnsjZpQ9dYK47DPua9hyJDvvOG8SFz3nwMSOiY4LTwWv6Pd///ftn/2zfxa8BC6V4Y1gCFi2w6azpSNEhIgPhKdDpeOkE6SzpmNlPSBM3AvivhQPQ/CuGY/e4ynRKcf0Y2capwgXRtqkhUXRAMKRNt4UXhX7xmPjmOiQ43HGaRbWxf0wjWln08/OR1jHsSHqHC+ihchFYroIF54tYRBHhD27D/JHvOy+yQvh2cY+hg0GIO4DA7bFQQQiy329//Sf/pP9x//4H+0//If/EOx//I//ES5jsy/KCdgf+cRjxBBNBg+UKZdNoxcZGdxnNk+O87Zx0XMORezA6PgQMDwT7oPxyD6Xrujs8PrwFuh8s5aNHy1CR4iIEY55OmIuH3L/iw6Vy2ikiffBpbwoeJBNiymd86AnMQjbuXyKp4kQ0bFnvcy94sbOn2NnijBhUYAgG5d10Tg2wsb4lCHE/RGGbXimLBOedCGmHcV2cB9xOe4rzkfi9hg35jdb5uSNsqUcmGKA58y9Q8or5pnzjNCSV7xA7v3F42JbNn8Q9zuMwfXZY3Cco8ZFz3kt6LDo5BjdM+rnEiYdFqLFNHbSdLKxc812cqzHQ2A9HSjeGSBueHg8LMHlPu5hcS/oH/7Dfxju1bG/mM5enSbrB7dB3BeX4rg8Sx556pB9xY5+P4jLfSqOm86evHIMw4h5gZgfPFr2Q3lkIRzrSA8hQURi+UGMn7VIdj+Qnc+Gy0KYePmTy6146//gH/wD+0f/6B/ZP/7H/9j+yT/5J/ZP/+k/tX/+z/95uBebvfTL8cZ7epQFnjLHxTJeYzzXsF9e99vmOG8CFz3nwNAZ0dlh0QOJnRaGCNCBRm8AmMeIy/0jvIjY2bMuXlojDOLGJVDmuZ/FZTM6VMQUb5KHVrgnGJ8WjJ3lsE5ycF02nzGvXM7kIRSMfMVH6/F+9oK4CDOii8XH+hG/WCYR8kBa8ZIjZcNlQfbF5dl43zMLZcHDIOwDz4p8ZmH/rwr7ivuL6VCO7Is8sj+8OgYD3DfEmOelewQveqAQX1vguOP9Xc4fD+pQHqRH2KzB4PEOkt0e8+vmdhQWfk5duOg5LyV2WHRkeEM8uBAvB0YRxDvhCUFEg849ilI0On28AB6Pp8OP9+/wFuKTm/EpSwiVVOBZkB5TRAVRID6eEssYacf5GG+QmI/sdpZ5KOe3fuu3wuU7jin7Ttle6SHKiAPxuJyHR8r9MF5HIF9cJiQ+wsA9Q55q5B4nx8H9OsqGd+h4bYEwhOcYODbCM0Vw8L6IA+QVAYzeX1yXJS7HfGOEp2zZxnkiX+wPAy7vkicGJJwf7vFFiE84hI08kS6QDvdDeXCFgQMPAOExMzDhOHlxnUvRMR8xD+Q/1pd4eTraINltbm5HYvzT1F9ZcA4ElQXPhA4eo4Ono6RDpPOm08cQMjq/jz/+OHgOdOaIJKN/Oj86XcSSTpSOn4deuAfI5THuCeLF0TmSDp0wokiHTafJ/hBWXhfAC0Rw4lOadLB0wuwHQeKBiiigWeiM2Sd54UEc4hKO9Hmak2Nh/3g2eGXse1BcKAv2zfFRJjGfiCWdPqLM4ABPiDwRhuNCINgPx075EZ6yoEw4HsIjkIgal3PjV17YP+HZhkhRvrziEMWPY49fVCE8gkm4uB1hpdzIB8eEMGMcA/flCMeghbKh3DHyyLFQngxUCM8AgXJjcBA/OI6XxznAy+PYOKeUBWWTfeeStNhG2SHk5Il58kOasYxZ5zhvCuqZi57zUuIInw4JT4AOko6dzg2hoLNlng6XS4WM/Hmknc6NUT2dOZ4Bl8oQGeIjdMSjs8fDo5OnsyYNOmE6QuIiqnTGhKPjZ5kwCFW8L0ea5A0RISzpcRmUDj0SO1XyT+dLGlw2pSOnYyYsAs0+ECJEKvvidIT9YKwnDxgiSRyOEaNMEELW0fEjwNzrZB/RODb2FcUSsSUe2xBjyjArbJQZaSKcfNA6K2rkJw4iiMOxc1mY7THvCCtpcOmU/ZJ/PDzECaMsGVRwXsgTx4HgkSaCx3HgeVJGnE8GMgwueOeSAQLnmjQ4LuJTZ2L6bIt1B/HjXFJ/yCPpUn6O8zagPeTa7bYPrZx9ocOistDh0TEywqfjip4B0PnTKSIW0XOis6Oz/Tf/5t+EVw54GZtLgnSidHrEJSz3jKIosJ/YmSNwdLqIAenQqdJJ0snSgdLR0/EieuQtig7beXGb9CKky3EgRHhhXF7DQ0H02B+dNceDR8S+EFOEm+MIDUU2COlx+Q+vBe+HfJI+6ZFXBCp+MQaRpTxIB4+L4yeviAD7RoQQCMJTjsyTThxwkDd+CxDvLHqxsZzIB2XFIALPiTSy2yln8odocu7IA8fHJV3CE5/zivhS3syTJ8SIfFC+5InjYD3eK8LJfihnjg3IK/vhEi1xGcRwvjhuznkUUs5d9NLx8NnuOG+LvujtVj51cuncboavdU4/dJR0anSQGKKBOCA2dK6IA0bnzXZgPooeL63zRCDv9THCj2JJHASCsOyDuExjh00ni0jETpiwdJLsHyM+68kbYVjHcuxIY15i2oBQMU9ahIUYHwPikweMuDA4JY1YJpQD6RKf7aTLMZE/0iBMTCvuazAO+UFAsmWBMc9xEZb5mDfmYz6w7L6ZZrfHfVHurEd02F8MRxjyxfZ4XskHYeJ5ZZ+EIZ1YzmyL+wHyEPMZywAD4iB+hGEdgsuxZOM7zptF7UkVUdWd2QiCt5/oeQU969BBDhI7zjiN6xCsf/tv/20QvT/4gz8Ixv0fiB034WNcbJDB/WX3sRfZdGPaw8juk3BRxCBuI597EcNCdn7Y/rL7yYaNDMYZXCZvWYbt42W8LI9wmDCD27Prh4U5SNqO8+bQ4DOdC6LXy6kxyrpMjQa2Yyyz1v/5v/7YJ2NxfX9KPeJfr2uFYt6KJXkfeXWE/NO2nGoelsSPy1pI4yb/kjrXX5ca6e6Eefm/mC/+hbj8i+mxTnnEYj5Cq5CxvR83hh+0zL/kWBLLro//4n6Yz4bdL052PyFMurxn+Jf8e+n+9O8wYbLr+JddH6aHLCP/5//e1D9qXE6DrtTTU4NUJaQ5hg27jDU7a5MayxrHeTmNej3cz+PJzt/67nfDE5rcb2KUnw8KQ23S6EvL/OtX0MEqRrXLEByGEGaPuogXQTKhdu+ECcns4WFk18YY5DOJExZfgHxkvZejgt0FTyjdbzze7LE4jnNwCr1cMIleK3QLeHdB9BhFakr3E6YKtCN4+f76xBxnf7g3xEMYPEDBQyM8DFHgnhMbM+JDzdrh5XXrILVvR5AyoaOIDWOPbXuGFyH1NyB60BdcEfeQ7OrN7M9xTg8vttq8tKzYU0+D6Klrsl4uufDT1TRcPkERQ0AFwtJrPriHCd7wnCNiPyF6DUINTZQvLAfCjvbY2yvm402K3jDe1P4c5/SAXu1uP8ldAf1LRE+CJ7HryJoKV1eEhqxLAIkfkhdcQ02TC1KOczCOuns+jCgl++7t1ryQwN6pHCb9yFEfY2SvvLyp/TnOaQHdGoRniMtanbmnl7O6VqzKfrles09Xq7baLVjbSvL2ilbqFeQaRtHbqzk6zg7Uuzchegetff1nHUMNT9g3rja+GZ/TcZzjZqpbtyty6YLo0dQ7smo+Z3e18Y8+u2///189scVOxbr5SXUaY5bvIn5c3kwScJyXMWSw9fqES5AvTzippvrLTDZ42LBXJXbBc5zTSqW9Zh80nyail97Ck+jl7Vea+d//5kv7vz95ZmuFObPitDZWNGwuaeoXN51DsMc9qdfjKNLcS/Qcxzn50Ee82E8Um0v2zuqnUfTUCShMLV8Iove//eSe/d+3V2ytcl4hZ9VHjMkKsjfRiTmnk7SuvJEq8zqJuuA5zulmeP9Qbi7bpSc/2fH0uKdXw9Prmv2vP74v0Vu3zbELZiVET56ee3mOczgOo80H1eI3MohwnFPGkPZUbK3YhUc/2XkYsysvrqOAOH3tds66Hb5JyPcLmWZamjc65zBQX86q0fAOajAsjUEbFtfNzW23DWk7fIAMS0UvrAlhAxLAHpczEb2cptybiZEhzru57WeQrYhnzQ7LsDQGzXGcVyT5yEoqempN6qR22tSw3stxDslgNXJzc3N7G7YPmRt1g8PIA8R2HMdxnBPEjqe3Cxc7x3Ec5/SR8fQcx3Ec53Tjouc4juOcGVLRG7yc6Y+JOY7jOKePHU/vha+tIHwufo7jOM7pYQ9PD1zwHMdxnNOF39NzHMdxzgwueo7jOM6ZwUXPcRzHOQMkt+xc9BzHcZwzg4ue4zijC8/YHcaOgmHpHsScEcc9vbfDsMYxzI6U+LrJQc1xRpBXaRchzrA6fkA78rZ4UhhSFi+1k4mL3pvisGJ2ZI1tWOU8iDnOCPHK7WFY3T6MnWWGlcfL7OThovcmeNUGe1ihdBwnw2t2xKHtncyO/PU5O8ftojdqnNU25zgv46UDwqMYNXoDPO246I0Sr93eSCBrjnNERD15XU05KMOq8l5Vele+NPO6edxrP4Ps2q9zUnDRe11ymZbJ/LCGENYRpjvE9oj/QhqEiTA/JH5/PVPHOSKG1ueMvQ1i9R4ku/+95g9Kdh9xftg+4W0d99uG44p2SnHRe2XUGnIdTVML821NW8k8IhUaDCKk9SFcKlS91Pqtim1pvLzW50lbqyCkoT8hPPHS+b4Rl/3F9EMELSsBbFctxhzngAyrMsOq0NusVlTvtIoH9po/CoYd/368zXI4aoYd60k+nn1w0Ts0tCzEBcHRPBZbYvDUsHR7sFSUouj1w6eEyhbjaZ4zgu2qcISXcPZS8Qz7TVcPEsQuJsB8Ot1ljvMShlWTUag6w6rwXm3hVYjpv+xY4z6Par/HSTzWYcf9snI4gbjoHRrV8r6oAbWCYizIilrENJ/X+oLCxhLmp5u6GPMyokULcUtar2lXEeLPPPW3I5h4kRjzMYG439TYb5hqWzAtRnOcw0AVwwY56LqjIFt/96vHu/KazgwuH4TB9Pfcp9Ik2WH2NjjKfcXji8caTH/iPMTpKcFF77CECqAa168I1D68L1lH8zhjbSlbp6V12xKxpkzLQewUKVRY/rBCYToK01EYzVpL2zUb5qO2BRQ2XPqUxUunbMTzI33it5nWtdzQVAl02aZ4/TQiL6xwnL1Jq9qeVxcGl4+KbEfL/OByJLv/YXkM84Mrh9BPkxmFjcuhrQ4h7ivLS3ZxJGT3wfzL9tk/jnSaJW5jGud3oUhD159scu12u5dTZ6y/tlnI2RfqJ//19x/ZH31etdrUFbPylI5dR/6ywj0TUAkQICxZtG7dCq11q1Q3bLzWtLKEK8+GYte6pZzVyyWrlSatWZyRI6eyDJceO5bvNay8vWJz1adWaXbUhiYlbUU5ej3rFvPWLFVsa2zCWmOT1itWFI9zwA7Zsbw5iVu5uWqV2obSaVhJQqdYIf1OfsIapRmrjs+F+FaSFxnGN8SPaWRheXCdc6ahmgT6MyLWEa0Ll833IsY5QJ0arHrZ3Q3dd0p202CcGJTBYbjvnS6zYc98E2hwHyzH9cRlkTRlSnZXWmE2XWYSNw1J9gUIk2W/8INhYb/w2bwA+Y7s2kY5ZRMPByjjyhPL+sM0hI+RdiUw8hTUX55/9FMXvUMTL23GCt/esOLql1Z4IlvasIIcLWTPijnrSfS6Yyq6mQXrLLxnrelrEkIErGOldtXGFr+w+fs/styWytrmrJkrW486VshbuzRmzXEJ4fx56527aiYBs0K8hJm3vPY7tnbbck/uW2+lquWO9ivvLtTNsrXHZqw1e9465xYsd+6i4kt081xC1Q7IejifscKenIrrvEWiN4NRRdQ/9JcHyVal/uDsJRBkMFhMO6RBW4OYXmohTCYiYQfTiXGz60MygwFDYkkag+mnm8JMFMA2l3JEXu0wz0AyhdsZkTibWfUCMW2m2XAsZ5LtE8JnAsf4LA7uJ7stTuM8xRKT6a9jBZeWIK4UHBPlRdl0tJ1w6puSgTtkExl9ougNK15nP8IAQMb9uV7B8i1VhI1Nay0vWa1Zt82xMduYmrGNsVnbzFWsvbZqvfufWe/RF2bVVSWgRqMRaE6VLKfwjY1l26pv2VqlZOsz52xj+rzSmLPtbt66SjN/+xPLf/4zyy89tFyjqv2q1mqXRTW+4vqatZcXrdZo2lZJ+5u4IbsmD3HW6u2mdZ59bsXPf2Dl+zrRG09VcfEEOQj+ZM1xhhAEQkanFy7R0/Gp/nL5PJjm2+k8nSZPHffFYxDWR0vTIm6L+CwnqwPsizRbGkG2ts2amOp+cyudarlVl6k+Ex8hIg5pZx8iC5f/tZ08DxXGiLbhEYZjw5S3Fqb5huJj7IflUAaYlmMZsBziZbZnPcw4zdLPizbGsiVOyMuwCKxjG+lrP+GhNoXf85hSiIZYccuF/HNsMfm4DeMcaOAcjGMPU4UPxy0LZax1pwD39A6NCiJUTo0XVC6V+rLlH/zYmg8/tY68K7v6gdnkeW3XSFANc+HZT633+LZtlOet/f5vmV3X9krFSmrA5Ye/svHP/ps15dVVb37XOvPvKtlyaDx5CeHU0iMrPb6jZGpK9x1r3vrYGvPX5ayN2eT2ik3e/SvbfHjHticvm135qtn0JcUnXzUrbS9ZefmulZ89sIbysn3tK9Z792OzWZ1TeZShX+CcxkbzssbjnD1im0ecGpuWq29aD6GhUw5XDBgzq+IUNIirFM3Gxq1XnFAdrMi4IhErFZUtY2o/DPh66xtJZzsxJ5vWSK6kKEqbDra2bra1pu3atzr6fK8p62qsqcEgD4vx4BcPjmFl7W9OaZAH4ktEcp2G5ba3rLstgSwrTxOzihLzlSEci/a3val9SlTp6MMDZco7hkhwGBrM2vi4dqdtbYmxyiKILu2cNBkgyAvKlUpWVpiO9tVRu+4VtM/BxsUiZatjy6md56oqV3lVvUnls6z95DkOLJtX5asuwa+qTHQ+8mMT1qW/KVHenAsFIc3QPzFN9ymBrKiv6aoPaTcaydWeOfUT4ZZHci54HqCoATllFcYOHFMg3U5+KtrPOEb+4nb2MXBsI0z09Ap/+Id/+K9yyriqiTVV8KsqsL9+vGm/XGlZq6yKWFAHeYIO7M0TT3RSJhU13sr6I+usP7PO5KTZxRsSlotqJLPSr3E7JwEqbD1Xm5KXJ7HLzZ23XmXMCmrYhY0VG198aL3StDUvf9W6c9dDPBtTuY9PWXFiysZ0Zs6tPLWJtSVrjE9ac25BFXbcxjvbNrf8wLqr8vYmte7SDevNz5tNKS4diOLmNC10S9aSJ9re0v7LyrO8Scur8XY0Hyq42Dkcx9mBOoGudZs2t3YnXIrP3/+55RfvW37lseWWn1hh9anq8Oc2ufSZlTeeKU7BukH41G+ES350wjLeX+XBrrzaS3vLZp99YRO/+qGVHt1VH5633rg6cMSLDnu7asXn2sfDz8yWHlpx5aHNLd62qSefWOHZbe3zkeVWF62wtGj55WcSYqU7o8H5uPaZk0C2qzarMLNf/o3NfflTy2+tW14C1FHH3QtPVnNsaYXHc6puWeXRp1a8+xOl/6V1lx9bfknHt/TUektPzNYXFV5CN6EOv1K2yeaKzTz5mZUpi+VHZioDW3li5ZVHNrl4x+aef26VxoY1JILdkvoEbktQmEGMUtT+pzeXbO7uz+3iZ983W74n7ZKwjysO7+oiPEH4yKeWJVxjOvbp239hMw9/ZiX1Ny2VcW9C7bmgcCHxaMRnfz0bb27Y9cc/sfE7P7L2w9vW3tBgYprbJToWHorrquw2Htvkl9+38oOfW0/H3lt5brlFHfeiju35Qx2/hLapNCfpl4hHAQJ5S8vxBJDv1G1i85lf3nwlYoPRJJdrW5GRKKNCSZQVVMkRFY12exohFctlDarKcql71m11VCUJx8hMDV2eYq5TkDAVtZaKS+NIKntPwrY9PWeNy1etNDerEeGGtdcWrddQJVWlzmtEW8xpSgWncyliRNdUo7muBizN6csS0/esO3tBo8Rty68+C6PfMLrONkAYXHYcqmqwrk22Nmx8/aGVq4tWKXTkYJStODNhBZmNl6zRqFn9yR3r3f6RFZ/8ynK1ZdUzPCFVrHDJkXRUt+VKTNfXrSjhbD+/Z73nd6348BfqxJ+qjeBFEqWr+q+2MztnY+cWbFqDuYvTEzbVrFpObWBC6U3MTFv53JxVzs1bfoaHtZTR8EpPy8aVVwSo8+yetRDNh59KmO9ZEa+K9Gm/fdFTc5F3V157rjiPJch1NWENFmfPWXF+zgrnz1nuggaT7ANPspS3MYnT5PaiFTXYLUo0imMlK0xNapApT5e2KSFs3pGAPPlcAq5yQFjDcaUmxltVm1x/Yl2F2V5SOTz+zEpPv7RibU15VHmR0ZBZgfulwXVRZVR59plNPf3Mcvd/afb4TnKpN9yPS424YT/6I2+3vL1mRaVbfvhLm1i+qz7gcegLEg+XgHjdOgaJdmFDZUD3MzNjeQ2u83PqN+Y1gJ+TsE5pUFHBE+9XitROHi56r0JaF5OnODtWUOUpIlw8tdLl0qEqQ69tpV5Lo86mNVo9axem5eFdsB6iqMaP4PXCUyvRBiqSKldXI8Xm1Lg1F6Zte6xgLSrrdl2VuRMaBv/aGhW2Fb0bbqqz3zQNjS575TFrT89aYW5eg0GJa7Vq+VotaUQES6M4zp6kdZ0nkrvdnnUm58yuvGd28xvW/fDb1vrgY6t/+C1r3PqW9WYvyUN4ZF15VyaPyeryENJ72KGy5SpWaJdsbHPdahtrVp+attzCvM02nlll9Z4636rCKWylYp2Fi9Z65wNr3/zYcu9+zSrXPjKbvWrNyoLZ+ZvWe/er1nzvY2u895F1r9xILj+Guty18caWtbbWbKNYtuqldzUW1KCUTp1Lptq+Cw0Yi8W8Bq5dKxVKVjp3zXI3v2WdD35NpmP64GvWe//jcHvBJuWNKkxOcUilrsFlc/a8ta5/YJ33v2XN979tnfe+ZaWLV6ytY+kuPZAXyb10tblYDrQ5MdnatKK8jq12zZYuXZYXWrbu2qq1N2vqFyQu2k/SPim7nuUlnDkNInhYrSRvK493V9tQJlaVfhQ+2rUsCJoG4y2ltbliS+ubGhAXbXJS8SjfeI9TqeV0DMXcuPowHdfYnOWv3DK7pXOrY+m9/2tm73/HTGVtV6/J05Un3u8vTm7HkZ4C58AkdTBFJ14eW0GiVZYnN1lv2mytanPVVZvffG4La4+tu7FqtVbeOjNXNGJSxeH+Al6e4gavD5EK6VGJ0ooUZ+W1NTT0qs9NWmt2QoM4rutrNMxN6SB6HeuoUXALIozA4r2ImJ4qeludQVGj4rGyOpyqGp/yF0aexHHRc/Yj1nV1kPSRrVzJ6hq0VSU89amrGlBdsc7cJetIKLqXPrCxG1+VU3DJCuvL1nskL2dzSfVRdS2KngaGhaamy6vWarSsdf6yBOuqjeeq8vi+sF51JemQy+rwp2atM33OWlPnbGPynFUntM/yvLVKc9aonLNtLbemJTjTC9abnFV9luj1GHBq8FnbsrqEtTk+a/UbH9u40upuyOPaWpFwNJSXrPBxbPIsO221JQ0sxxR26rx1eeJ6dkHzEtkJeXrcduCyLVdhJKNtlUVL+2yWlc+pC9aV4Hfnrlhj4bqVLly2ioQpt8k+F6VHiHlLRaByQJTkKRYaK1Zbe2IUR+vaLStJ5Nsa1LY2tpQX2jCXbWigiqP88Z0LZtsSu97ceSudvxJE0Bbl7cmbsx5edSp8Oll5HedEc8O6ysN6N2+5c/LaxrkKpSDB8yZBBt4aHHfy1u4UlPaE1VWuvRkNzjVQ7snTtXl5ebM6fnmx4X5m7C+IfkKhCJxXgXoTbnZXNFgs23irbrNL9+3Snb+xm7f/2j78xZ/Z9Z/8sTUf3bOaGqfd0mjp4uX0BjIgehHNx8o0IEKqj9bi8pGs0+QGuoyX4DXqDk2XM8jlzXAzW5Uyimio1xJXCV8O4WP79rbahjzFgjYGoZQ5zr5QmZKaysX0drdsre6UutcpVUHuwXHvrmK9sRlrz79j3WtfVx2fMltVhy8vIzyIQj3D1JkXaxKXpVV1tiXrnrtqjfOXVL/lQdaeWm/jkSr7VrI76jIdvDralqb1fNEkFYrHBX0NIhk48oAFD7/w4EwQvLIV25PW3mpYu92R5ykhuSAxlnDl6jUJyjPrthAI7i8mx0R7IWsMIVudLn6UVmnftJfwWoL2wb21ruYx5btn8kS52y7PNTyoUpQgBM+sZG2F515+AY+QB3J4CChc3kz3F64ObVmzLi+vtiJRlfd48aYVzmkAwPFt6vhDGydTtGWsK09UyeuYm9rH5tS8xPWqkmxbXoOFRFgRc+2PiIpSkZc3oYE3l3fb8s47F66HZwLCADmvcGEgooDKTqejwbP6k7aW26Fc4/Fru5b7D+qk9eCkoyNyDgXnPlpA4iOPrCZbVcV7Jk/qwcaG3d9Ys2caZdW4ZDM9Yfl5jRgrahw0qDRy/JtUJf2lImbT1iL6pOYjp4+VhETNmFVjZTEaBPFLI2fW82QY4tlRg+uFm+QyGmE2ruMMJalPoaqECqdONY/Xoo6TuhQ6ZYRvUp7YnNUlZBMz52xCHX55s2o5Xunh03ry+AqtquWrq7a1tW3t8ETltDr9OWstXFN1VDrLT8O96+QxetKlrSSiI98ldMo9re9ovidPK2wLYRQ+JwHotqxc27BWbVNtUuu5DzU+YQ0JSmNCQo0IbzzXIcR7jZrImNAR5rpNK3W3NK3r8FrhXl+SF46TdqN5Qkt4w7UavNjwqkIjXJqdaKza9fqizdTWwgC1J0/T5AVanifg09serZZNbK1bW31ER2LSO6cBsTzVrvJoM/KouGQpD9DqKmM0LJSDPDUJYh7vTwPsalFlLeEryvuakDedx6PkiVIi8HBKMW/jEtqijre7sWK96Xlrq5zbJd4D5oBDwsnx6MBzRZWdSSQ7G3a+uWoz9RWbra3bvPIy19i0seZm4iGH1x0oA0GhnVBc9F4FTnhoJaoDqkANjUG3ywWrXbho67e+YssfftMWP5Bdv2WNcjHcQC+qsudDB0FEGqoqspZ7/AuXG2RB9FKjQqrBlVTPJrl0Ku+uyCPXPOHG6FNpFNTg86HRU5HTOMFSaKjh/h/CrDgTk2ozanyMPENDjuHSqeMMpaAaltTV8BRmXh1g+AoD9Vb1j85Y1pXH1R6bsvnJSZtG9LZqEg7qmbarvlXkxeXlfdQlgp2pc+EpZYShce4D6/Ck+MayVaorVsA7DA0sbSshfbw88pCIngXRYxuNUfVZbbDSXrfx1bvy6NTZV8bUcCaDLm6cv2JNnpqubllhdVECRXjiYfFGA95UQ3lcVr4fWmXjoY2tPbbi+jPL1VYlVpsKKrEM7VMeq9pQubNt5W3lefOpTW8+snNLX9jcg1/Y9pOHOkaVhzw4m7uhbErgyavKYKJVtwvLz62zuiXHdC550lvtuj17yfIIX7Nm5ZWHEv/t0P4pcvLJ15oY/lIWDQlfozJhxalpK0pceZLV2nyCMG3XlF+jahsrS6FkbO6Cynci6QMgnLcID9e11ZdI6KvLllu8Y93HvzJ7+Knsl9Z7+pk883uWl6gHkQ9ldrKhVjmvSmg3XQ3GeNpMRTmjhnvxktm1m9a9+ZE1bn5spYkZq6wsW3GZxkajUSQuGYSmJjFSJ9KRBQ+Ma/5oWDgrVEwekFFnsV2VbVs+iB7X5Xnas6BtJY1uafiKEAQ1NhKi0gCa4bJrabthXe4rVmY14FQaQSC1PRvecfYk8TTCl4YCVBrqDnUurXugut0tlGxMXlapUbduraZxF/U4kUyeWCxsLVqPd75m1NlX5OmVpmx76pqVpxZssrklsXmidiJvJ3hWpK+4SjcvYy+JQKX7T1bI9EcezmRr3WZ4IKah/ardhVd35NlscM9vbkFHoLa0uaYOXHHjh90RFg0MeQcw3962roSu8+Cn1vryx7KfWvfuJ9Z7/IWZxNra3JvjQigl0g2ea1eC0H70ibXu/cwat39kq5/8yJ6uSyAuvmf5qx8l9wNp73hgEuapbtXOr+oYt+oSfJXBpPqLwpg80TnLz563cjFn49VFDRYksogTxxfQOQhXiXiloWTdsQnLyaPO83pTdcNK1XXtgjavYlX5teUB1rZr1uWdvPkr1ilNqsRS0QtHkJYhg+J2V7vqWrNetfXnD612/zOr3vvENu//0rYe37aW8tvloRjOSTjX/UydSGItdl4RmmAQkfAxaC4bMM2rYc9ad+GmzU5ftLnqtpUWn1p+K30ZV3DVosOTl4WOtfNtLSseoke95PWD8HULjdjUEXSWn1l3fTWp9IherqjN+eSJUUbB5AEB416f/oc89LatoJHvbG3ZChLddk2NtXxOoqf4BKIC06hc+Jy9oG/D6CZUzwqyHN4GA62O6t3gu56qSFSlrgZcvGum6plc2JBx6bEkL668qcEfl/l5CjTPwyeaH79sF+SJLXRrVlh7IC+F+260pQSuVCQ7Ur22lpLDE6SdaX2wZEfjtTWbX7lrRdoOj9uX8LB61pQIj01P27iyXVhfSS4dRi8qiF5b7UnCJ9ErkMetJYnj8yA+TPNcEm3y5Ke8Ke23xyBV3lHeGioNCVx92bpbz6SJy1av1229NC/v9ab1JpUH8sY7fnl5bvmaVXpbNrn5UKKm/PPxj7HzytS48lixkjzTqbK8SIS/Lu8t9CkcX9JNJ3KveZbLY+FBnrYEjfca84uPNDDWAFfnZK76zJqrj9S/aN+XbqmsF+Qoj+tQuShLerT95Pi5UFtWHhnU8ARsa37OuufPWfsStmCdSzqG83Ma1OsEhwdxwok+0SSl6RwCKgzXzpPr4vKfNN9QQ6Bia10eb06Ng8tAlXJ4z6WnEWdbDbK78Vir+RSZRk0Kz5OXbQlZj7t2XKYMSqjNEsZcp25z209tYfkzq60/sxU14Oa0KiBfbGDkK9EK1S80CMUNDxVw+UNrVbnpKMbraza19CvLLX+uPkv5WdCoc3JKeSSOKnA4FqbRHCel37fR0TVV5fgiiionIhEe6lCHGrylNFioR211ug2rSrBq42PWneGJR8J1rKy6WFj80iZW79h456mdaz22y5t37Z2NB/ZOc8WuqYOf4j7Y6or15LUkl+tUP9l9sLStyZC/xHtiqnpNW9Q+eAgkv7Jo0601u9hbtvNbX9ql1c/sivZxo7ViF9sbVuF9QLWn8GktHQteZIEvqSipfLFihflLVrj+keXf+4blP/imlT74huVufCjP9LKOhQGnhEcZaipCXR5r5/I71rv1NWvf+oZt3/yG1a9/KA1VH7Dy3ArytHg/N9z7lIULs9tbVl5btLn6qp1XX3Ch9twurN+38xt37ILKZL7zXKJ330zlFMSfX1FREvwAS9Li8THJQ85aasvbFy6o92hb7tkzy29KtCV6s4j0yjPrjWlAIe+RWyLh4RROUX8AwVTIE+aZhKb6hMbYlPUuvmN282OzW9+WfctMZWEL76ovSwcpIQ8nGxe9wxJaIMImkVMlDt/QDAJEZVADZ3RFqaaXJmrT81adP2fN5qYVNQot1FUhexqZadQY7iF02zbX2rZL22t2rrYYRpfF6nMb23ps40t3rPXoc1tudmyTl8wv8MqDxC2tsAy6eBdwsr1l59VALm1v2LntTZtVWjMareafP7DVh1/aVm1DXqcE7yL3D3iYRuKYjh7D8TCCc5wsoXOkrlOPJRDyaqjz4aPmYdCX1O+kLsp4L7Vbtcnt57Ylj2erXLT2xGTS2Xa2VaeXrLH6zOrq9Fu1Zas9+dw27/zCNu58YhsPv7Cl5RXbqPessSmxW1uWolTVN9M5Q3LPjXbGfDcIj9KlAeAN9dSWGlVrblVtpdaU41O16vOHVn3wqW3eU/r3P7ONJw+13y01XaW7Jk9LbYSHP3oSPi5YknK3PGEtiVt94ZbVLn1oW5fet9rFd+X53DCbkHjwVCoPnygsTzm2S5PWmrhs3fn3rHP+I2tc/451JBbT8oryz7603tIjFRsDYI6hY2PaX3d9zdY2tq2h/NZWHtjWo1/Zlspg694vbPXpHdtUW623mtZb0wBZHlt43UHlz0NoGOcl9DXaf3esYu2FORubnLDc5qYGDGtW1v7yq0tmW5vKs/LLu4XZQW48r8G0Rkm1tJmvcbUKJQmlBioTXHaVyE/Ii6xooF1U32HpwzjJwZxoXPQOS6gvNBE8vGTU2dGot9fWKKgjQenKelxWwSOr2NbErG3PLWhgnLf8hoSIUWynaQWJ1Zg6kslOzebWH9m5uz+yuU/+3KZ+/mdW+OTPrPXpX9rql5/Z0kbTqnPvWueGRl8LlyR6CJaklkanBlhub9vU4uc2c/u/28Iv/6vN//KPbeyT/2ztn/+p1W5/YmvVrm3PazR6TaPVKTVcvrvJJapw2UWnP4zQHWcPQn3Xn3BPqh2uUGjkpioky8sQw66mErap5ppNr2ugtrlo7SL3nRhgdTUoU51fX7bNastWJRKN6StWL07LIxy39V7FVqxsTyrnbF3rm+28ja0+t0p9U1HppPnflYWMpJZ0+kH0tMxlycqW0l9bsWeladtSe6mVztt2fsZqxSmrFsZtsTxntfnr4ddHKsv3bXz9seX5fJk8xLYGnnzTs1MYs23lq1Wet055VqI2YW2EIDwAIpGlu1R74cEzwofXF9TWez3E8Jz1xi+H1zamzs1Zbns13B/spa9g5FsNm6qvW3Xpid3rlm1dA1i+uLRdLNt2oWI1q9hqYcY25m5afeZ6+HTa+NoDHZvKLlxFamqfLe2bgbYSpP0qbm9q1krz8xq3ti2/9szG5OVtr2nf2mbzPBmqvIVfRqAMVZ7hPNJrMU86Sk2Ch5QWC2Ur5ctaxcNuGJeyNcWr5/HveO/2hKMjcQ6HTnx4moyGwCipaK3SrHXjiKg3LZPo9bgUMG7NshpR+JTPgrXaXWszkm0mozUuq1AhOxLCzsNfWe6zH1ruk++bffEza2uUWO8VrHnhQ+ve+LYE76aSU9qhAqurUeWsKm2+xJJXA7Z7intbgnn7T6xw9y8st/yF8lOw7pWvWe/d31D8WxJMjfoQ43gfkMYTiFPHiVA/MLoIOnxqrLytnAZshYasJt2hQ9+yUm/bZhobNi3PpffoU+vy6wjcU6PDZRtXHdbWrKVBYePSN61787tm1Mlbv6a6+U3rvPM1q7/3Heve+k548GN8nXtqq+qf5VH2qyYdNJ11uqLfAefD58mmNp+pHa1K2K5a5+ZvKt3f0j5+U/vgiyLftsZ7v26dD7R+4R3l57lNLN2z4javR0j0lEY3J5HWILWTH5MIqP1qPhkcsp9E8He+ZKLV4SEYlU0bTzYVCKXRrsxYae68lce0zK+q8MJ9i0+jVW18E0FaspXJi9bkCzYffEN5+4ryqAHtO9+wzrsqj/d/x7pXv61jatrUkkRP4mk9vOwmyqldcj+Ry7LaL983LU+GzwzmNRjO4x0+/dzWG01r83NivJAergxRauQ7FbsgeKnocY7TIq1oflKeb77ZkjW0O+0zWrjHqjjp8feJp+EE4aJ3aFRkYRREZSpqNDhu9fPvWOe9byafZwpPjCEqSWfR0+ixPXvZuu9+y9rvqmFPX9b6cbWVWduaf9+efeXv24Nv/0/24Bu/b08+/j1b++gfWeuDv2emym8fqnN479eSa+olCRYjsDDCNdsuVezZwnVb+vDXbeXj79nTr/yO3ZM9+urv2spHv2uNr37Pch//tuXe/5aZ8hfih3t+aiyhw1DlpdJTiQcueYwsZDua85agsCvyJCo2pk5+ViJxWR34VXlWl9WJX60u2QfrD+3Wk19a8ctf2tLShjV4TP/dr0n45GlILMY3lq20sW65cM9Ig7dzqo+z12RXkntl0xesPXfFepffscqF8+rft6wp4etx3011c3c/y6Mc6vRZR//dKdnEds0Kyw+0qaE0rkvYroY0ja+p8Isn2ldXg776xQ+tc0GeGJcMlx9Jj3kNQennNTjkMmy4CsJgFSHTcQfvJh0gBq8IIwqXV/H4uMyLIOH1cstD4iivqTl7SePfS+GXUvLL/CRYI1yRaa4+tHZr0zqX3rXeBZUDX2ni6gtPl/Ih+DkJ9vlbVpLNF3JWWnlkOT4U3+V1Jy4xt6ytfSTvS5JHtWedm9r0OWvPyKuuPrLOg59YTf1PuBXCKxvpi+hJfpP8J+1H8yyqDEvdnI13uja+vWXz22t2obFiF+tLdkF2rrFs080VK8lybQY5qfiFNARZOWH4rywclnCSKY90vCBPKzyCzc+j8KV4Hl5hdNgvMs3w1YYxbZ+5pEquaZEvOYzJO5yx9vRVa124Za2L71nr0s3QKHsX1GnMqzPgXSZecOVL7Yzq2GcYeSob2m9bo7i2GgtfWyB+8/KHSuM9a2s0252/Zj2NKMPnk8LPm9CANSF6tP6xMNEUQR1V0mw6b4u0slDu6hTHttass/zUNreq1qy3rLG2afWlVWssL1tj6alVnz62tY0tq85pgHdTgndFAzV+iqfTsvKiti+thE+K2XUNDPkKCSLDvSb1OYmxu7YV2jVrrK9YU4O08OPJquNcuhtvbVt1edGa2w3LqUMPH1HnEp7yWZL4Vh98Yc1cMXyTMzy8wRdSYjvkA/Da1tF+OrzC8/yBbXYK1jyP8Ko9yoPrrCzJoelam3Yzp3bDwDUUgTp4HkQhnbTt8c5ac/W5dfgOLh4tv25SVniOoZfc4+/KW+LXTcKYEq/Ltm370T1r1SSMN+ThIcwVtcuQpNaF9NWXaL98Eq2w8tA2lX5D+QkffSZNlUtHg4eeyrh3jvf/dPwqG54C77bl3a0uW7O2HfoRu/G+hF9tP7TpvARYg5HVRevy24Bs55UOQMS0rfPsrrVrNWtK7Le3dA5U1o3lZ9ZcemItTTs8YMQrU1yy5sX/Ue4r9iD+ysIJEL208TEZNaJQ5JNLGzuf68kQvCoauLZL7MLPgBAnXJ7QOgSJyoTRiPmsUjDNhwdOaExpnHgewkR/2B9pliS6FZ0rvnLBgyoFTCNWhDLcu8vkidkYHyN/4TjS5eNmWBZGIFtnk7TgJXrthkRnSx1nVR5LvanOtS1TH9HqWF31dFuDvuaCvKwbXzG7IA+GbzUiau2OvLYta2235YGp874k41N8UUyipR4Mn8Nq1bl3qPgzEqRS0Qp5bgdINjaqOD0aFKrTZ5u8IeK1tyVCyxvWw7u7dkttIXnKsl/vaTs8eSpx6UqFGo2uNQsTEg++K6l0tN/uptLmHh3eKe/bFmmjylcQJKZpWuqIEJjO1rYcL7U/eXRJPjkmbVbYtqZtlVm3Ie8KB+28BqbKS3tJnlJJAnkN4edemwJy7OEZASABpa9Jo6U8djU45mfDZmU85a3BRq+usPKKgxAyWCCu0ukVNYhuSNR5BeSaBO8SAwb1AVyCleh15DV3azy4ozwvSEgZqFMm8gR7EoOOzm1b56hZ71lzs2EtlUd7U16pBjldiWCvobCUDT9d1u+PThZR9Eb8R2TZaawQFDKV4oSSLb+DHka8rhMbL2TTYZ5LFpANA9lwkF3OBg1pJLNvp3hjRrSzwTxmOWie9kvDeX0oX1muumq9lfuW31q2kjwjXrNp8e1JvJUxdaB8zJj378Y05UMNfD+PtsvH0Vc3zKpVdZjaxu/ehXvi2hybNMYy77A2mmYbCs8nwHj6cGLCctyvUoDuyrL1+GA6PxgbREMdOHH55ZDl1RDWzmkb/RWvVvQv5ykcO6A9ccmUH6/lvuOk8jurTpz1K1qHFzRBHmUMTrU6ESQlEkWUZV5JkBdnfMCd8NPKS/qAWdgfD+BsShQlFmF/F/CqlNjyurJSth4fcR5T+ryPSx7JK7uJdCUwPH0pry2I6Yzik/a20tuUcE4rz9NaF/plRVRS4ZfOF/nAtcJcRMy5wqMNlGk87qqOEe+Uz52FK1Jaj6DzQM+Kyk+Dk5zEtsxtGSUdHn3hSpYG4T0G0AsaVOA9Bi86FT2OV8mcBOKPyI646FETUqNwTzKx/A56HHuFH3YehqV52PP11stXO6Re7Qebs0GYD3HU4OLxvSwN52jge5WtTXWK9aBViF5P3WOPB6vCZUp1hHgAfImfV2AwOmTOD58i42sheDaYZvtw+uIp5JzSudPkCQ8IW3h4S+vp2BGU9GGufjyEtSmRRCB4iTrUDRLRTAwT1jElnXQ93hxpAXlEfFjs513zYeCpwOyf42TKKsSE/ND5yxsNXhfbIrx8ThagojCE31YZcgUnDAq0PsTRlP2SZj+TIhy+lkM4hSdM+qH5kGfyHsUS8QReumewwO/ehV+R13oFCeGYIX4oVyVKlGhs40diybNm+fZOaFYSxfAviKPicAUqXtoM8U4WJ0P0KOxw9pWpMA/HkRHn6FCDCdBqNL/X6YyN6oXGlYkXzXlzUNyUMdcVeTWBS2Lh0rw8vOBBgQLQTHlIKghbug6LHkFIgx5aM+mmXcRqQXw6+QCBMhUgxkGIQkeegqBgQcA0jfcLY5+RCdpPjzSYjfsiPcKxPghdOo3zQfRkUUggpME67Y+0sEg41PR4EQpoqgzj9y85zhg+eyyRkK6M7BGOIIhx+ApOut+QP9YTQERxi3FZHfIvyArbWGSe7QRgEglhBiE9IqXhwyzr2JaNPPqMvuiF8qSBqaIkNYgVzomGkxobSpyPy0PIbub0h06EFfQE6kj4xpVXizeMCphy7zZk25qn41bZc68fQQvbFCY0UbwLOngt8CRjOHf60++gU4N0wpRgdDHxtPY7cYjhIiyTBvuDEBnLBAx5UGJRcHcRMppMiRN2pT8hPgvMh5VJsJAsx5Ou6Hf4IopBCKNpXA9hHX8IT16YZV4zZCEbNhLipJD1UG5Mw5o0DUx/Qh5Jj0kaIOQtnQ/h4kxKWBeXY2ETXtPoxUIIQvnEhdTxCO2PstC6cEwa+Mjb75dzyEsyO4qMjujtVVC8E9PZsEJ71Qq9bQVLAqWnxTmxcB45i/FMpg1mAEIxqA3tWQu01S6XZsIonktEM6rFPISgeecNoc6g07B8Y8NK7Q11FuvSt2oYa/C7cT11dnwOr4B1mceLwZIvFXFZjAc4wr/QfMMfhU/mMJyXsozulOdC+FHVdlolmCTxdmCZ+MQjDg+N8OAH1YTfnCtqJS+OJ4++JL1GmAszXKzj6yssAMv6qwCkST9IWPYc1suIl+OPKiDbiJH8TFdirGOf8ZjIC9NIiKM/rAfyXVJ4ji3mn+ONx4UMUdcpC9LhmApKgDSQHj5dGMLJiE+64bf2ZDEtwsY8hXLScoANyYyMHHCcvKOYD0+28mmzGKakgUxBGeGo+bHq8OWp8DWelsJ3tK8J65X4WAafZ+M1DxFFc0QZDdHLnoMI86znt7c279q51pc2l1tTZeAzRCGEc6LRSQwnMp586hbzmWVBA1S3GRps/7RrhpeIq70xWy9es9b0h4n49eM6R0q3afnaM5vcvGfzvWUbz63r1G3Jkeqpc6WzTMo9iJ6UMIoe3+hMRC8RBjpeQnIeMZZjl0LHXKH3FnwOqyHjO5OAAOxCYdkUxY0Ovk4nr3VRCEoylhOHJvwZqB3IXlqvZOya7eQJGaBq8iXOROKS5TTFsCYeE3lEZID8s+9YV5kSL+af73QSj32Qd0QPyD/pcNzA+ihgDUUmWDxWdt5SebdlIQ1ZIoLJPHHYbxg0sE5xGEzwPBFhNJskEmApnQ/tLGfNdH9oAff0xqVvfIaap/oR2lBq4YswTS23bSu/YIu5D61djr8kofQ46OABJkkHkh2PBKMlehDTp+SpBPUVm976xL4799A+ntu2kkYX2eDOSYUTPAhnNp7dZJ7qgMUOKvl5maK1bNzubY3bX63M2VLlq+pxFtI4zpHTrVp5/bbd6t6z71yq26WJbasUJIRqn3QJdIicI7rG4Bvxm3c6R/ngFXHm9E8dYSIcaRPnXBJUU5bprOm0WeA800FHMWGSzu6gcIhJtpMnehQ9frMy+VUG7EXivqmFxI+h2A9phmlYM5yYMnkkrxA9t7BN62IXRnqAqDEb84gRLqYRjze7PcYhDUSO+fDag8KynTJjP8RnO0kQhu0Yw4+QL8JpmW3D0ZnS9vBBaxnlQ3oVPHe2KUQ8V12JHdZRX7xSuGZ/snjTHixfs84070WmpZa9NB3Ze+dvleMXvcGyIf24D7bVntv56o/sn15/YN+93LByPhG9IUXqnChoRpCtUJzVWAGYTxpQMr7UVKsYSBbyY7bdnbdP1mbt/7k3YQ+KEr2xC/3wzhHT3bCx1Z/aN0qf2z94v2XvztSswiPu4dRFMVPZywPAX8Dza4fulsuEifBBPKuReLYhrNdCWJcGijUkGydLjEP4GJYaEEQrTSthdwosRdEDzSbTdDk5nsFYu+nHkSESwL5jXIjiEdMJy8xk1gH7JVomaj+tftppHMKED22n62KN5/gH04zrYnmwwGQ/ojcY44X000j98gphksHM88It+7/u37RfPLpmLX4bkV/TIFy07A5ftvO3xOiJHrAPjG3VZ3ap+n37n2/cs9++WrcKn9NRPoZFc04S8SRnCC0T6zfXcK6TasdlFXWgmi/kxqzaO28/W12wf3d30u4XPjbjhzj7XYBzpCB6Kz+xb5Y+td//sG7vzW7xNUrr0SN3O8HjSn5YNrnXw2WwVo6PMBe0FtHD0yNCclax1yHUEiVCdWEesmmGfcjLw0PhysAge+0/pvUy2C9pJPUyIRt3r/RD9U43MhvjIC4QBS7GZ30mSthfFHfW9dPTNEz0J01qV7zIsHWvA+k9k+j9n/fes795+I41Zy9LJxjsCHYUd5bN1AgQRe/4e4thZyNTSKESc7lE65JxDqff7UQb3kLW+ueVabTkfCdtKKkD4bZ7j3u72o45b5j0XND++ucnITbb0CbVOHe2pMupsZycx2R+L4v/mN+5PLnbYj2I6Q1aEk67V+aSdUx3bJDB7RgdYrTBbTszO7MxbLjkmq5LgwTCsv7E9ViME1fEdXF7WBcXZOGoWBdX8QfYhiWzuyyy1/JhLeY5WjLgScp7FwQeccj/SBMLPWFIITsnCJ2/0BFGmMd2d6jDCPUgDd6vEzsVw3ljJOKRzMVztNe56p+ZZKoeedfpPij7nNdM6vsFE4ffml23V7aHrd9/Ty/GGdzPYHzWZQ2y5ZiZfYFsWnF+cPp6kEo05CNNNZupuKM4HTFGXvSc04RaQRia0hqiDRKb+k4r2r3kHC/pmQinLjkzdMjZMxkHJ3HtsLM8CGFiuHQPQ9lvG4Q0+p7i3sQQ2VDD1h2EYfGyxwPZ7YPhXkZMa6+ww9YPrtsr7kFJ8h99O1LL6zxrGl3NE4SLnvOWocGkjeUQTfGEtaszT3IJLp61VBjfsIUHN9I9Om+KbLs9maXtouccE+qhdpkz0kjFhj0csiepAAXTAKc//wbNcQ7CCRQ9WhOWPgThdkLNxe7EIEWJooLwhX+sC3/yO+vYTqA82zHe9dK/MJ8svwnLpxaXk89iYTFHbkdjp4MRF73YMWYsdJbqNF9qA/HcRtCck8Cu7k4LQevCTLqNP8FYEbbIdv+THKX2Bv7xNZj0X9xLJlNuR2onn9EXveAV8PFa3gUKH96RHVTUHMc5Xugos57X0XMCn6U4G4zoSRlx0YOsiB2mFA8b3nm7vMo5dRznxDCijuEJED3n9OKC5zjO28VFz3EcxzkzuOg5x0S81+M4zqlkRC/keK/jHDMjeuHfcZxTiYue4ziOc2Zw0XMcx3HODC56juM4zpnBRc9xHMc5evw9PccZxF9Odxzn7eKi5xwTLniOc6rxVxYcx3Ec53hx0XMcx3HODC56juM4zpnBRc9xnEPgX9BxTjYues4x4d/ePHnonPHjdeHcRfHzh5GcPYhVZMTwXsc5Zka0ZThDkMDlosi52DknExc9x3EOAWKXFTwftDgnCxc9x3Ec58zgouc4juOcGVz0nGMiXibze0OOcyoZ0abtouccIy54jnNq8ac3HcdxHOd4cdFzHMdxjh6/vOk4juM4x4uLnnNMcMHf3/FynNcl18u9xAizh6VpnCVc9JxjxIXPcV6PpA3l1JUPN/7ttLRBO4vPkrnoOY7jnGB6kq+upkNNyrafyRE8c7joOY7jnFi4Ril528v8taAXcNFzHMc50SBs+5mTxUXPcRzHOTO46DmO4zhHz4jeL3TRc44JLrv4PQfHSfBLkW8LFz3HcZxjxQXvbeKi5ziO0+c4BMgF723iouccE1zw9+rnjBJR8I5D+GgPZ/CluWPAex3nmPGGfnLQuerRZWTP2WnxUo5D6CKDZXpKGNGq4aLnOM7B4YONp0bosgweUzzOQTsO9tvvceXpAIyojrvoOY5zQIZ1/KPsobyuIMTjHXbcEY7/zZZBTvvGXszDXnly9sNFz3GcU0gUCV6L2YuXbX8ZEjs+XvnCJd+jI0iqspnrReHL5jdsTWadA+Oi5zjOqSPxjtTBSSfyEoxkmkst37dcEKxhRIHJGusiUXCi6GTnD0OMRz6GmbZJ9XK5lvLbskKvK8tZoVtMrFdQmBElW1wjBKXqOMcErWJEW4ZzKgiOGNO+vXixMPz8Tk4CmBsmWllRGthO4pF0PqZ5cGKMdBoyPNz6PxMUvL4k30m0ZOmF/DlDcdFzjgla6+G7CMc5CLF2BUMbovXX9VLTAsQAfZiPQsd0iOgNENM+PP1chaU+4aEhYN8lGV6d8hDWY/I+ydIbvLx6GqG0HMdxziySvvQfvH6XOCBdr4FSCj8PxBy/mZeXMZXlOrJuZl/MHd2eTzMues4xwcjUR6fOmyJ6P9l6hohEIdlPIAbjxvgD9H+z7qhI89ZPNxHivpeay8nymeVeEL4Y1jkYLnrOMUJngjnOm2BY/QoykszuS4y7V/3MpNO/DHkUxHR30syuGbTsnHMwXPQcx3FemVRwUuHbTyad0cBFz3Ec57Xg8iJ32pKnKp3RxkXPcRzHOTO46DmO4zhnBhc9x3Gc1+WFZ0ni3b2sOaOAi57jOM5rMvRrLrw0njUXvpHARc9xHCe4askDKYkdnkT4sKzIpULXf5cuu49oncz8Cy7jyWVENd5Fz3Ec5wWxiQI0aMOI4pZa+JzZgOj1p6SByA0TuhjmcOS0v4Mb4TOWpnGWcNFzjhEaO+Y4o0isn8PqaRQ0mcSEaY9pOv9CvLA+EsNgdMFZgcQOjmQs/Zc/gO3eS7DBwzoDuOg5x0SmQ3Cck8ie9+pi3R6o4/wMUK8iG0uN+bI2ZIXvVXjVeGcTFz3nmIhjTcc5ocTvXob7dall1+2yKH6Dgoi9uuANSy2xrpzLQevJtC1j3Vfb7YnGRc85RmhxZ7DVOSNIrIv7WZZBmYHBdQMWxG+I9cO8CgjZHgL3wr+dPWX3GC+Q9le8LYYV61vARc9xHKffA7/MhpNIyn5kpWY/exVeL52+JO59eK/GXtkYLMq4PLj+DeGi5ziO45wZXPQcx3GcM4OLnuM4jnNmcNFzHGekCA9VOM4bwkXPcZzRgmcqdr3M7ThHh4ue4ziOc2Zw0XMc54STfd49awfjLH6K6yzjouc4zgkmFbj4SbD+p8EOhwvf2cFFz3GcM0+QThe+M0Eqetw5TuZ2YNPBLxE4juO8XaKXl04z/VVP89gOLHUt3+taodeRMcV2h9qBz4O1ZXv91h2x6CMzFj4oXcxYKTXmtS0Q0xqWZpYX0+eI8spPXvnKK25eUfM69rw821zwbocfybExYtmJUFKCgh88ocfIiBaW4zgjRui26DAGO43d64IEKizT3f1ddn4Q1g8TqDTt8NVmdaH9S6pxn1h2OZLdPrgNBraF9HdbDpGOpvwkr3dEOyHsVdyw37YjIhU9xzkOqOFvoZY7p5fQ179YjxKBy5BuDiG1Mf3aZFx9cPoilxWbrEWGiSXsF0cEcYvp72YnRip1QQRfDHdiOfTJeDVc9Jxj4pW6HOdMoHpxoBtsaR0KYaMdNVFq6CqzAhPXDyMK3avkaa80I+QDUeRy6Yh33/sd+mDRHLaYXgMXPcdxRoTBnvAgpHGiSAYXL/15nSA+wLJCvUxPXiAKXdYi6X4DWa8u7nMA5Wcn/F4keU/sJWEPfSwjSrYY3xKjKXpvuRCc42CwE3GcV60Pgz3n4HKsazkJX15bCsk0x3JyZyyE3rV7FugeB4QvFdUd6wws72G78rMfMe+D+0HEkVQex8E0r7x0w/pE5EeOXeU5Orin5xwjsTNxnMjR1IfdNStZio9+8AxkYumyNgdLAqfEFKJBRpCCBekZWLeXHZYX0yCPXYl0YlH0WJ8N57wMFz3HcRznzOCi5zjOCSfrjTkjw4g6ni56juOcMlwEnb1JRc8riXMc+H0I5yjI1KNwc+6wY/nj7v+8732b7IjeC33PcVcE53Tjgue8QYLwZcUvPnAySNrPvRD+bcG+va99mxzHWXYcx3mzhEf4s4/x09UNFxYefgxbj20MdkoFb0QPy0XPcRzHOTO46DmOczrAVYt2JJBO1kaT5FucB/mXOF9ZO4u46DmOc8KJlzKz9roiFdMYtNEiiFkv+WmhlxthFSdj/DzRG+NNpv0ajKbondUhiOM4+0DHQJcVLXYUyXzYmnbkB+9C6JmxKJZvkkz++7+9p/lw/3E/heDDY/yOnqzXS49x8Hf0or0JYtnsl8eTAyXmOMfAm2ykzqklaJTqzbAnHl+5TyaiOvVwWTRrsbOPHT4WifsfyMO+KCwiFX4hQYIXLP5aQja9rPGXj6ZJ+Hrxy5t8PG3Hw4vhdufvqHgTaR4vLnqO44weXIob/Kf+d0cKBkVIxL7/lYjpZe0lBNEhZ4fddVaoNA0ijhi+aPE383Z+NFamrCVlkfxLyOZ7L3uR4Wsj+289qahkHec42LshOg5d+c69qNTUXcVuns5/sP6wlHyI+ShqFl3jMNshyQf53LGDgefYUoSGrKn5/SKyB/aLV7h7/6TTy3X0l38cd/KrC3sb23fKKJQTyQ9lmHd7OhgsRcd5S9Da9mxxjrMHdMKxQ6b+HFUXpnSCAuxng8R8HIY0/xKhZF7G/B4WfuVdu+4qf/1fhwg/icT65GeFAoQP6R0VlOvg8WMnHxc95xg5PQ3JOUr2rxdBKtTxJxxlRx/3O8wGSQXrUPtX2Chou+Jl03rRwl9lAeELPyuk5fRX9JKtryl4e3uoLyuDk4mLnuM4I8henSwXNmO3lYjC8XNQUYj5PXyeQyztYtfv/6XG2leF6NHOCi56juM4r0yUjHg50OkzosXhouc4jnNGSZ4HTX5F/sh5dQf0jeKi5ziO88rEy5XcVzuZvBHBA/f0HMdxDkoUk92WPLjB/FHzqj008bJ5PAxv4jhegTdSnqOLi57jOCMFj+MPf8+MR/iTZxffjGActjtE8F5VLOMxHLeHGPNwdoTPRc9xHOetQ9eLYHoX/LbxEnccx3nrqOvlg9N98Rv0GrPrBi0LHlrWnJfhouc4jvO2CS/YIXz82gLTwa5Y2+P6rPVFD4GLlyVd8A4Dpeg4juO8VbJe26t0wwjecd8PPJm46DmO47wSr+NhxXjZLjj1/g7ULScf4N75bb3sLy6MCCPqfLroOY7jvDL07InXFv4hPgexECN5NbyvDlq/y4ahoLxhENNJYEqcZOnwvHLEE4mLnnOM0NjOVoNzThup4ISuNP780UGMf4he5nWBRM32t5Qod9m5V4M0o50NXPScY+JsNTTH2c0wsWE+3qvbw8K7ijFWIrgv/208J4uLnuM4zmswTL7eBNl9BOFLxe71IIFoZwMXPcdxzjyJmBxStqQT4cNoOSzxxJJfuTuc7fzG3v4MytLRiewbErwR1VEXPcdxzjSJ15SI12EgdHJJMcz10zisxfiJ7c+I6siJwkXPcRzHOXperuHHgouec0wwZvVxq+M4bxcXPecYceFzHOft4qLnOI5z6kgGlHv/2xlyHm7YOXAP8tUSOVZc9BzHcU4dErZefh9ju0JFS2PtTyp0PHEaBC95YrXPYCIjKoQueo7jOCcMhCrf66XGPJaT8T3O5Juch9GcgwvfycdFz3EcZ+RAgvYy/ibf7eQzZonxb8Cb078Y/kV2pwdZz+8046LnOM4B2K8DfV1ium8q/VEnlu2ASbiG/Z4eW7Wgqby8YNHro0Pf+bJn9N52BDIrkswnaTFPejHNxE4vlJfjjBBJM0zMGR12n5fdzsDOudoJEdkdchi5foSXhz196ODD2/EZYQu2uxQj0ROj407uy+HVhVT625LlVLx6Erho1slYXIclYbXTATudUHYjS0+tIRnLJGOSePM1y+BpylryN95sdRsdS85OAlWwICtqdVlWkY1puaQp69Ntsp7mQ/PMdWRKJ7R0/QnTAXOOhJw8CNoc94lyofzNOirfrsq9q3NHl5l00Il/UVCAAl6HOta8tZRAS3H4R1vmCyTtvnUVJvkqiZIIaZdk1AGMc773iUx7hP6/k4sKLKgU9TlrlPRuOMp4pMG/o38MZUfZpvPB9EduXy/f1XzGwr+wx2R+YN1uWKN87LIXQ51ERlr0+qc5NKodi78jFU5WunmXha07U2fUCGcuneWEqRpifeGTBaFD8NiuaegENQ2dQUdGI0xRkGBZBpedVyB2pxEJHWLHKQlrZcyny7TLnYcqkrjxPIUlOun4T5u6iGO+aDmZ5RA9mc410yBlCrOXkWI0/g0ScpeGHX1T6Qwzld2gJcecwFxYQuQGDjhbKjHcfjaMkOSAnQZGXPReJBnVJUZji+w6eVq/14l0RgHOTjp61Igfb2BHyOK27BQ488mTafGuRbp6b/bb5hwSCnOnQOmSE0vmgb90KFg4P3EgE0zzocFiipVjuWzbNbN2s2CFQtnyYTP1QHUiXoLL7GmX7RKHIbbX+hNjwwQv2qCo8Q+vDZMXjfU0rzLYCXU4MvrZt9MCtfLEw/nImnMSUONF7HKNjNXVL8pM1tMynV9fFOkI6QxKluumlz8Hqy+dpnNEDLakKFjZtkb3nMz3H5/QQmLy1noVy3cnFKCiEHjtkKTRbuXt+dNtu/3Zc1tealqj0VKNqGtzVad1S9OmQsXU97ddApjasHCnzRKpoyVFyYv/Ov0tSdhj4hh3vR8nR/RUgLFPi80Pi1Ugwjyn2hllqHYa/YdLmRKw3riMznHSWo2yVdXnNep563S4v1exnLyCHOJnCCFCGb3CIWc6VgznNdldkNki3bMv63ty/JX44L2HgY3EjHPHvSqdz1b9kj1+2LEf//gXtrj4yLq9mgY56qi7XMbO3tNDKKkrMV2347eTz2iLHkKnhpS9nEVTirbfSche+nRGhzhI2ek4daLCAyuIYNE2Nmp2+/Zd++yzh7a20pRHMKYOsajzyUMPeILqIOUV8iBE6ERJyc/1myEVsRdfdGYpdh1JmGg77Y5IDE5aWpt4bb1u2Zr1Mbt/d8N++P1fWKvVtBvvXLL5+Qkr5EmPesDDLBUZnnxW+NyO23hSNB88eNpqfFmif8ITdjfukYRcHy+xgOK0X4ZJI+IJMW5sd4MVrZsrWkfGMs+HMU2e/NptSXi3UbNOrmBteW4dWXJukzsWHZ3/dk9rikXbrFbtk19+bj//xX17/qxu9briKUAv11Rbq6sO4Dng+aWe3og3spMMHR3sDDaTDjDOx8FnWNY5TdazKrn8Fn4vLgxOyra9PWZffrFpP/zhj61Q6trXv/mRXbl2Qckld6wQuF5PoochfsHbi4b4uR27hXNS0vniaWrVBQYrsc8+Ie0w1263VS9z6nBytlnI2Reqff/6+4/tjz7fttrUZdVVLjvpqI76gPriljKY/vaSLVR/Yn9w9ZH91pWmlfPc1yFYtlF1MyPLgSRpa+msMxrEU8yUc4PhRbCMdbsSwk7OtmsN+/z2U3WQyzY5MWHf+MYlu341b5XxrlVt2n62fs7+w705e1T8NbNx1VEaX0w8nvS4HKfO4ems2+TKT+zbxc/s9z7K2/W5pvq4ls6TClUNryDjXa/k9QS1zHAvjVOQtMvk1QbWt63dnLE7nzfsF794ZJWJZfvGN6/ZlasXlJ7aM2kV6EwVIW3QSOvOvbnUo3eOGc5Ncn6elt61//Pedfvp46vWmj4vHeT8iWTzbkbk1BWaq3b+0U+PUfQgW0CD6Tdqlqs9tetTVbs6rQwzYgwMiJ7+7ZyK3SSjR2ekiCdKJ5HZeOmMOkjnx/27QqFgjUZXonfflm7ftivTZXvv1iWbOj9j9cqkPW5U7P560bYnr0v0ZpWWukieo4fBijBYr5yD09m08ZWf20f5h/a9jxbs0lxZ5dvReVLLyghSUaJX4EVnresgcmFLzpo6LU2d4NJ2w5YerdiPf/K5lcZn7KOvv2MXLkxbscBtC7XtPE9v4kmwhNylyQfifpzjh/OTNLClwiX7/92fsC+fTFkb0StK9JJNO9PIiJy+0RA9iAU0mH5HGWlum9U3zVo8wJBKGHkBRDBcNhF75W2w8J3RIp63XeePk6YVrOu0zdbXzZ4/NatuSODGzS5estzcOeuNayQ0s6D6yZOcqaeHET173nel7RyKrtrf2pc2W39k756fsOmJinXDAydIGg+pJIPOotYVUxFsp4PTIGdqq51227aWljSAuWNNrbvxwYc2My/BK/Kqe4hi+fCgEnftFScX1obTxl5CakmSziigc8GprhZn7Ffrk9boqA1Oz+skqg2Gtpc2vhFsg6MjeoNk98N81iBOQ6FmN4jMbHICkllnBMmeq+w8Jw1PIgxyZJ2WWpgGPg8fmT1bNpudtdKtd60zN2vdkjwPeQmhocU0Bs/7rrSdw6FBR1ODjq1FDTwlgJC8TCfj/FC4suD5sSwSR00OoUSt1rTOk0XrLT1Tx6jByY2rGqhosCKRC0nEcxOSIR0sHcAEFKg/7xw74VykJySvtleY0Xm9pMHoZLIuVA3+pGTP8QgwuqIXifvLTgfz0L/kuQeZ8ndGjGHntw8LdKLyJsL1T3W+tbrZfXl8z5ZUJytml6+YXbhgNiHvr5D2tHSa8esUMGKN7sRB+QVTIXZ5EjMVq0jq3SVipdl+WFlD4R9JLL+4p4GKztf775jNz5qVSolwhjhMSUjENHb1NXFn6badDc5x0e9z08FJ8PD2aH8jxuiLXiTu97AFOaIF76RwXvesU+lGLl8Hk+hxubuh6bMVid9js7rmL18zuy7vAS8C4SPaCDe6EwllOXie4jLnpqfzwLuT8ZzBurzCx8/Nnuo8jcsj+OCm2fkFs+KgaGohRNOfmGbsTAPpuYxhsnGdY4QTkd6DDZejNe2fI9ZpfgQ5OaIXeZWCHNHCd0RoJMlsIDsfRpOyKHp4fVw+S95rMFtal/A9Mduoytu7aPbudbOZKdXq0W1wJxJOQyxP5l+Aldzbk/DR4XF+ao1kUPKUS5rqO96VR74wr35EHh5phcujgqjR+rBN1l8Xl3cFco4dzgfnJnp56Tlz0TsCXrfwRrTwHZGtTy/ULVYgeDQiRE/T0KkyT11UQ9uomd2jc11Wp3rO7NY7ZnMI34A3kZ1/YT/OS4llxnRYe4r3X7mkWZPHh+A9kXEp86YGI3PT8vC475oE74sekOauc8I2GeeaPicG3RXGOV7iScNoa+lJCudIf+LyCBJFD5k+OWTL2zn57HcuQ+ORhZejaVzqOHmXi0ejK/IaFtSpfvRe0rFubpl9cTe59LndTDyOwXTT5JxDki2zbJnG8tR5ynXzlq9L+BbXzB4/DQ8b2c13JXjy8HjYKL7YHC6FpeczntddFnemaXa/zggRT3z2fJ0syPnJ4bBlvFeH6hwv8bzE9vOCpTNMw3zaKYZOU6KnTjZcVpkal4d3zez9G2YteRm//MLszsPksmcb70PBIfa1abLBzhLZ434Vi2XHeRsUPnlkxe2O2YPn8rzvy8OTt805wcMrEXGAg7TJ7L7dRtD0J5jmI2E+u0KwOGomhtTKESeT+QMRG6rb6NiBiCeaKppa8A60jjS4nIZHx5cgLi5I+ORZTI7J03iizveR2dqmWVNCyCXRmBQGB87DGYdyCmWdWh+tTNcX5Fm35d1179/TIETl/947Zufw8BhppAyWe5welOz5cxsty5JdHtw2AsRqd/JEzzk7hHvJGaMl9TtMltPpGK8wnDf75lfMrl2R4G2Y3X1gtrwmD1BeyLDLnc7BoNwYYABFjpYxykcEq03r3H9ivQcq64UZDTxuysObU5iM4EVIYpg5JxvqxDAbYVz0nJMJDYunNZmh86QmT48nT3JeuWS2IeH7/EuzR8/NthrJU5+RE9AwR4pYXmhZ0DOVZVVl+nzF7An38LikKU97XsLHe1tR0GKRZ4p+17zjHAMues7JInbAdJ68Lx2W9Sd2suMlsxvy9j5436yo+S/vJZc7N7YkfIrgj78fkrRg6Skoa7zmzabZQ4nd3fvJE7O3biTCRyA8wDTK66EEwlOcr2Cvv3PnFOOi55wsBvu07DydMo/EjxWTy50fSvjOzZktLkv8HiRPd9a2E/HbdY/KGY4KN5Yp8B76ugQvvIf3JPHs8KzP8aUVuYAEixZFEuJ0GMNEK1i6/VV4nbjOqcdFzznZhKc7B2AdX//gScIPb5ldvGC2tGp2Rx7f8kb6WkOqekTPds5DkjvV7HfM4Qm91MKL5yq3J4saPMjw7K5fMpueTMMovMYa/Uug9CxR+AZtF1qR3c9RmePsgYuec3Khb4sWicvc78P74InCd66Y3eS1Brkqn8vj4xuefMuTBzRi+Gixsz4LcLzZKR4SxjLeFuXD2KCl6Vr6MYAlCd5Fec+8H4nwMbiAWHZR8AbTZjpoEKfOGYOK9SZtb85K83ZOM3TUWWKnSu0uama8kjzVefMdLatX5uGLh0/M1tWR8z4fxM6XtAbTO63EYx1m8ZUQyodvaXJf9MHDnbKcnZHAoXCCsgtx0ukgsWwjLEdznLeMi55zcokdbOw8sx1udh3zZXXQlxfMvvmRpheTX2vg6c7na2ZNHnBJw+7VcZ9W4jEH0wJCx6VfPL22POPVLbM78o5XVyR2lxKPeXKCmGk5qXCzaQzOhzCOA7FCHG+lcNFzTiYHaTeIXQinGR7GqEj4zk+avX89Eb71zeSnb/h+Z7WZXMaLnTXQ8Z8F+scro8z42g3vRW7Kw7svD29RA4Tz5xLB4/fwCIRAEj4rbvuJXUg3tSzZ9YPbnFPIsMrxJth7Hy56zuki1vXYgcanAVmmtnNFjp+74T7f+7e0Xis/fyhv5rFEsJp4OeGqXRrvrTTQY6IvNjpGygYL5aZlBO/BU7M1ecJXJHiU11hJoqbyCYKngLFomIZyTuej+GH7EffvnGKyFYL5t8VgRdyx0Ra9t1lGzukk+0RfbAcwJuG7cTn5rTfe7eOX2R9I+Krq7OnA8QxD+FNQCfc6hLieY409Ace+0Ui+YbokD++CBI9Pi/E+XgijAowCiSlqIKR1gLIiyKBBdt5x3iCxqo8u3hicVyFbb2LHDLzQDnw5pKwNF2bNviKPj/f6lpbNbt8ze853O+ncMz16No2TyLB2hMAxCKBMwr08GU9pcg9vWWVxaSF50X9iLBk08LNNPK3Jk7Hh9QRNKZdoWYatg5iPQXOct8Toi57jDGNYhwpx/bAOlXk6eS7NUfPp9Pm9vtmJ5BH8q/L8qur078rre7qSfLC6pLB07oTHsvuNabNu2PbjhHwMy0sokzTjlEW4VCnjM21rW8kXbBYXk0HAO1eTX7II4ihljMIXxE4WjzlLdr/sZtAc55gZrLKOc3KIHWzWXkYME72c2BGHnylSJ//V9xKP5zM+X/bMbKuuMArIfT4s3v+KxP2yju1M47ph9roMS3OYZQnHmjUdTxQ7yoDwmxJ7vlrD12velfjzc028h8evWIQfgdWBKfgLRuRweTS1YewK75wNwohKNnon3UXPOd0M7YfVEGNbjPf76LArZbOFObMP1OGfm0ne5/vsvtmzDYmfPB0+wxU6d037IphaJC5n1x0Vr5pmEJz0mDEELKaFAK5sm93RcW6ty+OV8F+T6HFJk0uZHG8so0h/OV0XZ4eZ44wYLnrO2STbKWc7aV5mn5s0e++6prPJ+3xc7uRXwbdbO57RIFFQsFEl5E9/8PLij+zi4d2Xh7e5aXb9iry8a2bj8noDCkd4xzlFuOg5TgQxw7Mpq1lMVZJfAOfJxW15Ql/cNXu4KG+okbzPF7WAOHGe6ShqBJdkwxTTH44RweMe3j0J3oYE/bq8O0QPbzceB2Ec55ThouecPeLluWEGdPhc2uMBl1sSgo/ekxBKDHhR+8vHZitVs3rbki+XKCzRokhEwcBGAfIWTBmitSN4ZI6fWuLF/NX15B08jE+MZe/dRV52LC/b7jgjhIue4+wFIsiDHBfPmX0s4ZufNHv2VMJ332xJYrEt4YuXCbNCEYVmVAj38GRc1uSTa083JHjy8GoSPt5V5Os05dJOnmP+s/YyssfvOIcijMaO0PavsIRwHGcv6MhpQzzd+f67ZlcvSSzk6T16kvxcEff5gvApYHxYJEtcPohwHCVxf/38aEVXti6h48dfqwjeteS1hAk8vDTC286nc0ahokU7arJpv2gueo4zDMQimP5gtJdJCR/fn0QsGg2zew/NnjyTgNTTS51pJCaDDLa9o4T94W1GIx8xP3FfPKUZBE95xsO7Ku/umoxPsiF4Ie8pMQ6rMqsd5+C8rJKzPdqbIJv+bnPRc5y9iB1+aCv6Q2sZK5hdl1h8IK+Phz74iSLEb20z8fhinKxYED873ZVuMvvakGY0QMTCO3mab+nPioTuvvLZkmf64U2z9yTceHgxLBGj8DEhXrR084E4TFjnFEPFpsHsZcfH8e7dcUaZIEqpKoU2rD8lNZmJotnlc2ZfkfCdmzV7+jx5sZv7fI12Ijax42caxYPPfcX1abKB7PyrEtMgfb44E37rTlMEb2kjeQ+PS5rvpB7emAQvvIOXBDtyQj5Sc5wRwkXPcV5KVAVNY0eOYPAR5vffSR7157UGHv9/uiRxaSSXFxG/LJlk+hyFKJAeT2fGJzRZRmR5aIXfC8TD68jD4/7dxYXkCyvsF0PUQ/zUjiI/jjPCuOg5zssIgsAfEcWClXy0emoiudR5S+KH0PHrBI/k+W1JBNsSHT5hFi8bRkE6SvrppRnLy5hF8J6tmH1622xTnh738K6kHh6R0iwlkEia0FHnz3FGDBc9xzkMiAVeVBQNRC38Kvt5s3dvSFTGkodbHjwxW5XYdFLhQxD5pucgRyIySjckjZjJGnh4q8l7hT3Nv3PN7JLyVy7uvb8g6keSmRcZctiOc1y46DnOqxA1gg4dMeOS4aVzZl+9aXZ+PhE+Xv5ekrfVaCail73Xl+V1RCEIsDISXirXlJ9EWtlMfh6IS5of8rTppZ2nNCO0/GiZ1QGWs+teJ3+OM2K46DnOYckKAj+1w2VOBKUk4eOXCbh3xu/QtSU64T7fooRP84hjFL4gVqm9jChCcb8xHkLaaoeHVXJ8Go2X5XlK89FjbZPQ3uAe3oXkKVMiEz/uL6aRtb3I7ttxTjgueo5zWKJAxGkUBVoTD01Oj5u9Jw/rw1tar5X8IvujpxZ+pghxQvAQLF5xQAj76TGfGiuzYhPn4zJp8KTo4noQutJGw/Jc0sTDazYkeJeTL8mUSgqYNvP+fjJGOhj096E/fQtbHOfU4KLnOK9CVjggiIWMpzr5pYaKxOaCROe9m2ZT8v74mSK+4rK2ZbmqxKoqT2yjalaLL7Yrbjatg8DrCPceWe7eE+s+SC+nNpQeniYfkJ5Mfx5or/Sy+wxTBYxC17d02XFOCS56jnOURIFARLjsyf29DyR8F84nP9D6xV3LP1uy3POV5GGXlQ2JFw+7KMIuoRmiNFGg2IRQ8isJqzWlt2YdiV+Xh2YQu/MS20olvfRKWkm0QEwjy7B1jnNKcdFznKMkK0wITkHG58t4l4/XBho16zy4b73nEsBnq8nlSe73xfBR7JhkDTLz4R4elzOXN6zz8Kn1tuQ14lHylRX2GeNEyJeLm+O46DnOGyGKDkLDk50zk2bvXjd7X14fD7PwFZcHT80ea1rdVkvUOu4HRmEbNFpqnGfS7lhuXV7iIu8ErimuPL9uw6yptMKnX0QUOsxxnICLnuMcFVmByQhUmOJ9hff1NF8sJ79YviyxwuNbk7fHU5iQjZclK1za3u21rFfWykvTZrd48XzebGHGbFreXk7qGV+IdxxnFy56jnOUROGLmpMVMb7QsrUlgWsmnt+CBCsvIWzIO+O+nmb3JaZLehUJ280rZt/7dbPf+57Z7/6G2Ufvm52bk6gWk0CDeXEcx0XPcY6cvUSGpylvXTP79lfMfuNjs9/+ttlvfs3s8oI8QTXF8LpCGhaiYEVDFOP8uNK6KtHjXuGsxJOvwvDU6LCnLQeXHecM46LnOG8ChCkS53l9gHf4Ls4nXto35Jl9+yOza5eTpy0HvbOsZQUvGkKJV8cDMHvhguc4u3DRc5w3xaBIYYAQDbNINuwwBrfF8Nn1g2k6jhNw0XOck8R+Yug4zktx0XMcx3HODC56jvO2eZveml/idJxduOg5zisxeBMtXe6vjjOpZRd3wbbU9iP8MvrL3mmIKBxhgxEvxo2W3RfzWRtgl2hqe0iLlw3TtEK6A/FCnD3Sc5xjxkXPcQ5D7Mv57bpgeyx303mEgZfSwzTdFi38QTgkIogH7+xFEQkimC4Ha6am+RBXBAFK52NaIQ7zMRCk83F9+DV3hEvGtNuWtbTMC/KkkSEmw37IXz7mI4bNhO/vUuv6wthf6TgjgYue4xwpiEo6C2E+XTdoUROwSBCxdGVYrz9BEBFGhCQTOA2WXdUXzWDpfBA75mXZ7UFYmabrWA4Cm66PkKdgbJPYhTQgKi5x09kAC4SN4RxndHDRc5xXIgrDgAXvi3kWJQo9NbEenwVLmxo6gAVHSNu7bEu39z3FNC0sLrMtNFdNmQ30ZxL6QYiESCI8qVgG0UyFqC9GBMa0fytqPaZlPDq+5Rk8O6UVRZN8kN+uwvX46gvx2KmMIFggzUg8ZscZIbxWOs6hUM8eLw/uMq0L3o0m0QIIQroQhSENGoQPC8vagPGjsgSK4hkFCmHs8oOwbE8TCPmQhTCsh8y+SC+mBbvylAptNy9dw7Q6im0QRmUs30qEL8SXEadTSUzxrJvsP9dtB7MuB0NYBC8rio4zOrjoOc6BoNNXJ08H36pbrl6zXLMqXahZob1teazVsFxbQoEA9GR9byljBaVDq0u1ICehybebSquWfIOzjXiwr50w/X1bS+nXFH5T002Jz5asqjiK12nItG++79lRxI4EMghUOZl2U7GS5eSp5SRYhU7bisrzeHXdyltrlt/mZ474fT/yQXpZISMziJnmg8g15Tzq2BursudWaC7q+NeSuMQLAppGAxbTVY5znOTa7XYvp5Go/tpmIWdfqG396+8/tj/6fNtqU5fNyhOqrKq5x11h+x2A4xwHSWeflzgVqmvWrW5YTh5RPl+wPJcEcwWFyFuhUJTOlK0l64YfcsU7w+shCRoRbYnLg7lwe6ws0SlWH1unuW3N4qT1JuetNzauDUoT94s4IV5H4etW3JC41KvW1v46XI5Mval8Xt5avmT54pj0btw6mpqWX/hEmcRuTAJZqG9JpOpmSiu3vqb237bWeMXaY2UrVNTmK0n+uyXN55WfPHlWfIlhQcJbkuAXJJBdpdNV3nvKI2F74wvWnVywXmUqicO3QIkH3oadYyTfXLULD3/qouc4B0MNQN7N+MZTKz26bc3FR9IPeTz8jI8qZ0EdfEXiN6351sSkbZ47Z7X589aduShdkgBwaZA0wqVDLhPmbKzZtrmVJ1a58wOr1mq2MXPd2je+ar1zEj5Ejyggzy/Xa1plc9HG7v7CbPGJbUvQmmWJpPZb6HWsIi9vQiJYmZizrXOXg3XG5hLhofEgnFLZfHfbrq4uWvHZQ+ndilUlXtWNmhy6ruXGx6wksZ4uVKw3N2nViwvWnLkUhMwKEj7DO6za9NZzqzy7a63VJ7Yhj7dd3w6eY05CN6ZjaFx5zzrnr0k4OW68wyQLjnOcRNFTjXQc5+Wo18ZLkncztnzPKssPbKqxaXP5js0Vezaba9hcZ9MmJATFOz+zwu0fWeHpHbPtGk6a4tLUpGLBK9SsPKuZ1rpNPfvCyvdvW/mRwj783IrLTy1XlwcWLnGiFiCvUFo51qjb1Mozm3n+0Ca21iV2XPLsWVniO9nYssrife33b7T/n1px5a4V1Mhz4X4jaTWt1N2w6cYzm3r6pRXvfmp5pVOREBYunDe7dMVyU7M2qTxOrSxb/stPZD+z/NpTeXfNsB/yPN7csvLz+2aKj/hqo+XmZ6ywsGDlUsXyWzreLS69pq9XOM6I4Z6e4xyU9radX/rM7NMf2ka1ZfkbH1vx8nXrqbPv8VCHvK3Gxqp1nyqMRDE/MWXdD75rvYsfSrG43KdKnG8robwEqWbX1iQan/zQnq9tSRPzltuWcJ2/atsffddamlpZ4YNA6o88sfHVxzb+8z+1rrzD7ZvfsOa735JHSPtUmhIjW+XX2O9ZbmvJKnOzlrvxkTUuf926FXlpEryF5jObe/a5rX25YmutinUv37Dc1Rvy5Ga1C+1D4llUvnIStfy9H1mvtmy5975lrQ9/27qT8lh7DVtYv2/bt39m20sr1tOx27vvWH7mnBVzFetsd6yz2dCxVsxmdLwql+QJzvQ4HOcYcU/PcV6BvIQrXyharzhh9cqCbY1dsurEJQ0Qr1ht7pp13v3Q8h99w0qXLltvY816d39ltiYxwvPB5UOgwuXIpgRiyba3V60zf9HG3nnfJqfGFeeZdetrEgmFC09NohaJlyhJsoYEsJ4vWAuhmlowm5KXxiXU8++Y3frY7OvftPLFhSCM7cd4mvK6uPeYa9lYdcnyjz6z7fqWdSR4vRtfse7cVetNzphNTJtNzlt79pKE7AObf+emTaFVy4uW29yQ4HfCA52FVkviVg1alpub0/61L5VDs3LOOpMXzC5KrGfnFbCs4yT/xz1adpzduOg5ziFAh0I3zn05HhThQRXum0kIraiOfnzccgsXrHTxujZVrPD0ruWX5dE1uWSZCB5PRBbkFdY216zaakgsJDizErDxSWvK0+rWVrWD7WRnNNHgLeWlITJ5ZB1ZT8JnBakS9/3kJVpe++Ye2oWLNnP5kk0UC9ZdW7ZudT3sryLLry5bb/GRPDDldUFCOT2reS65cjypKd3u2ISNn1uwqckpy29tWH7pueXr9XC1shsC6Tg6m1Zsa1v4kksK2SQ/PKEa7l2S/1BajjMyuOg5zqFJO/N4zw0dgHDvrGvt4pj15i9ZReI329myytZSeM0hCYPgNSwvEaw3G9bGw5pbsM7ErOXk8fXKFXl7T80UJ3iHUTO4xLmXgHDrjPf7CFMas/zkrI1NTVuB1yc2VszqNas025av1axT27ReSUItcQ4/QoswhXtvxCetnpLKWbc8bhV5bHmJc2/1mdJQPP3blpB3xsqWb21Y6dkXVlq8a6XN5/IAt5RUQ2lJEPsvIO6RX8c5Rlz0HOdVSB8ieYHQ5xetXZqS4zVr561ulW0JT08ChMgoykRzy/IbS9ZutKw1e8m6MwvWkPi1z1+23pS8q9VHVlh6YDne2+s/zCI94b7bLrcsJSzqT3hCVIIrj68wHZ4jNdtctFy9aqV223qytrzCnkTLSgofXjyPpv1g4TUJOaaFigR5Ql5lx9rNTTmLNSXfs6rEtH3lXSvNXrTyyrKN3f6RjX35A6ssfW6F7WXL8a5gKBryQ8a8i3FGC6+RjnMoUnEYdumORZ7S7MhT6uXDvb+SxLG3LS8pPM2o7RK+CYlIZ/mJdRoN600uSKcm5B0WrTE5abnZGZtqVG1qfdkK8gT7+yBuom7h33C0vle0Du/rVcrSMgnQ1orSqWr/DWu2mpYvjVtuYiy5DBnSVn7D5dFkNohnrmAtpVEvlMKl1OC18ZFpPmVWnrDchZvWfffrtjV/xTa227Z19461fv4jK335Mys9v2u52rqiKGx8iMVxRghqpeM4B6In50UiJlcGS12asCUB0VGT6kqW5OX0tNySgBAqhAveWN4q9U0rbT2XU9WSOI1ZUWkWrGE5OWCTU2N2XgJZWV40264qfJo+0TVJJC+ZS2BDNJblydGsg6elPfc62r88PIleW55eEUEsch+PbUn0xCPLpCeR41ImuZJLqE2Ej4FL1ivPWevyLWt/8G3rvfM1y4/Nm62sWPGLT2zy8x9ZcfG+XEV5qSG844wWLnqOcwiC4PEYI9cxw/0rdexRMzBET1bUal61q5Yq1p7igZHk8f3wBKS8r/HNxzbdXrWZ5qrNbj6xKS1P1hZtvle3ebxCiV5X3p615O3x4resKAtfNiMd9AQLlybxwvAk8a56VuhIbhvKGw/azJyz3rjUVBmqKHJF6eUb8gDJevzcWbgXyQxpaVuupuANK7HYUxpW0aEVFUYH2JLx0Mz0ObOrt8xufmylr3zLKje/aqVyySpPfmW5R5/Kw1xScsqTC58zYrjoOc4hCBoRxEECE0zzEERPW2UFeUpjEq5WrWor+Yo1x2YkABKqdseK9Zo115esu7Vs49XnNvnsMyvf+8TKd35pxXufWW75qXVailvfst7KY7MawlfXrtoSPKUdBE+eV5IRgUjVZXhWEkheh6hLbNY2NS/Bmr1ovbFJ6xZzVipo/40ty9eaykvGG+QQ+MWHkCBCVbNKZ9vK2/I++ch1adpy+XHNE0bHTK/B/Ukehpk7b/Ur79nW+98Kr2uMFZTP5Xtm608VlId3Qib7E8c5blz0HOcQ9OTxdHMl6QUCgFqoN4+ekoyHTSbV2U9uLlpn5ZltS3g649NqaT0rtTZsYv2RbW5s2lJ53p5MXrZHNmVPmhO2WB+3p9tFu9su272JOauVctbbeGS5rccSuW1pZtdaaq3NfM7a4TKp9sfHoHkNIpjmOy15eFvyslattrFmnULZctwzLExZMzdu1cKYbaDOEtRyq2r5EI986zCi66j/eYlhvlG3ptLo8hrG/CXrViZ0zNoYvFwZwbl/ySsbEr/89LRNnjtnc/MLKiGJcoP8KEwW4jjOMeOi5zgHhrtpBekDv1KAODSt2KlZqd2QoNVtrFmzaYnO7Pqi2dMH1qvL8zr3juya5coFm2yu2PTyZ9aqbllz4ab1vvrbZl//27LfNfva98J892t/yxpf+w3rXbpohcaalTefaV817awrsZPoSfB4V67c7Vq53bQCH6Futaws725se9Mmlu/a9vN7VpMH15mes96EvMzihLUlsvWZa7Y+fdFa26s2tvrAxuqrVuxJKMNl0ZblOw2JYdMmq9tKY9FWN9atPSPBVl5svKI8dHTsNcs3+TUGeZZNiWb4JYaGjVvdppXHcmnMckXtMzepNCWI4X6h44wOLnqOc2CSB1RKXGaU2FRqqzaz8dTmNp/Y/OZTOy8v7vqTT61y55e2/ui51Uvysq5902zuhhWKY1bZXrPJ1XtW4FUBPjN24V1Nr0gUz8nOK9xV65171xpXv2Jjl9+xCelFcXNF3ptEjwdS5N3xcElReZiS6MxsKj15Y1OymbUlO/f8jk3d/7HVlh/a9uSMda/cMJuWWJUK1inNSGjft9rVr1lHYp1f/JVNLt62ic3nVqyvWWF7xSpbz21u/YnNPLljW8+eWi1fsi7f5ZweS38oomWF9cdWfPK5FRYfWm5zVeIn0W9s2mx12SoS+9rWtjzMKbMxHRNP5uBZAhPXP2cEcNFznIOiTruVz1u7kLdca9sKz+5b7s4nlvviZ9a78wtrSexqd35uy0+eWE3eTu/a180uvmdWmZG3VrZeo2vN+rZ1xyQiM3PhVYXwJZf4ZZWi5iVOnanLNnbpluUr09auNhKPMQgeXl7ees2mdZ4/tu7dX1n+i8/Mvrxtrbu3rXrvtm0tPbFmeTx8YsyuSFTHSLgjh6tojenL1njnmxKyS1bjFxbufWrtL39uuYcSsSdfWv7Br5TOz6z64LY1WopzVXm/KuEcV774ZmivbTm+6nL3M8sT7/4vzSSQpaf3rP3gC1t6eN8eN9rWmJVnOCcrIXqOMxpwdR3zD047zkHpNuQNSWzu/czaD+9YryYxaksQ+F07BKuiTh7Dy5l/x+ySbIZLfXkrdupWevapdT//c2tJFLrv/7rCyNvjnllojYw/0zFop2XT6w+s/slfWWu7afaevMXLt8x4QOXTH5tJ3MJ7cMVSEoVPiU3Iu5oY174lqPN8i1Me5NQ0D14qbYXrKgwfxW5umi1/ES6/2uqWPDU1LPLMJc5WNblcybc4F64r/9rnvLxVPlvGDbqOjnfxsYTurtn6Mx278lPQ/ri/WJc3ShnMyzO89h2J3k31Hdo57Taa4xwjueaqnfff03OcQ8DHovl18NVHEo7nlmu0pBW54EWFT3uVJR4IBh+C5t01On0qLm2HL5VsSShW7plNy8s7x68oqG0F1eKJD8IpDabdjhUa69ZdfCgvry4huWA2KzFBXJ48sNziE8tLnHr8agP3+Ngv3+7ExiR0PFyCEKJV4bUKgaiGNqwGzi+tb62brelYNiV03J+ToAdvE9G8KMGblnAWJ5U9JRLanvLP8SN09Q3FVRmsPzfbZr02y7sMH5peUJ8xrrimY0MEY8NNJ45zXLjoOc5hCS97q9NvJx+PzqtS5vWvl89bV+LDr4eHF7n5hQHekaPS0m4wvCzeW+sqLmJAmCB4oG0hLMtMFSGERVA0jzfIZVD232hYgdcXUg3DOoWC9YoS2PDLBmzQ2vAzRmwl7Rgy5kd/eHJT3mIOjxFB7nWS3eM98svpeK/hNwAxIimcwoR5pryOEMqBMlG6xCOPvI9o5AMFJa62QTpxnOPCRc9xDktoA1kR2ZmE+hnqKH/Szj5ui9Mwo/ghbAwH2UREWEzDsi6EFUF0k9kXCGGi7Uz60xAxjRzac2Y5uy+MH7qN833YjkEmPpPwugPEOIO2M3Gc4yKKXmx1juO8jNCHq8mEz3LJq2HK5b9wCRDPZg/vJsTD9CfEjeEiMUDKrrAZAWKenxTCwr4z07hfgmZJtSkRutRiWjEvweSphWOSkVYIlyGIKvtJ9xXCcezES+MOHr/jjCDUUMdxXols5858tAzZ1UM2H45M5DibnQ6ue4FsoCxxfWbbC8G04gVv8oVAjjPyuOg5jnNwBnTPcU4aLnqO4xyeeBvPcU4YLnqO4xwOFzznBOOi5zjOy3mp0GWve/r1T2d0cdFzHOdgxCdBXyAVufDE6aClmx1nRHDRcxzHcc4MLnqO4zjOmcFFz3EcxzkzuOg5juM4ZwYXPcdxHOfM4KLnOI7jnBlc9BzHcZwzg4ue4ziOc2YIotfj37AXSLPrjvsFU//0keM4jvOa7PL0oq4hgkM5acJHft3OnjmO4+xBX/QG+4te+DXkE+5euXd4NnHhcxxnD4Lo5fgngcBYkQtq0ZWdAtXgENzOnjmO4wxhx9NTRxEHyDnryNqa68hOifg5juM4Z5qc9CzXbrd7uZ5muzmrFnL2ufTtf/nBF/Z/3V6zrcmrZqVZaV5RobMXQI/z+tEhBNgvc51tfKzmOGeUFzv/YnPZzj/+YSp6EryeHLpqPmdfStz+9x98Yn/06VNbH78svZPoWcl6OTmFIR3+HLfoeW/mOI7jDKe3+xlN0bPp1rKde/I3iF6nl0f0Ol1rSPAeSNz+vz/6mf0/P//cVgtT1ilMKnwxET3hzpPjOI4zynSD6GWdo67NdjZsdu1+Knq9nOXk6Un7bFnzf3nvgf3g/gNbb3e1rmC5Xl5J8LCLe1iO4zjOqJP19HDVelbuNWyis52IHqIWL1rWZautlm12m9YOry1ovSaJh+ei5ziO44w+vJUQ5yAvp63Y7Un0Wh0pWSJ6wLOaHbl93VxbEpc8uckrDDui58LnOI7jjC7JVUlUa0f4wj8cPDy9Xi/ZGCaBruZ5XYGIXSlkIovJ+3sueo7jOM7osiN6kSiA0rEWotdfkRCkLVza7GqttmoW4dsdynEcx3FGkUHRS5fQsR3Rg2RK8PD9TS2imKzNazn7ArvjOI7jnCSChrXa7RekDNGLU7YklqwNDqDjOI7jnDCClvFyerK4m+xK9+4cx3Gck0x02AZfW+8Thc4Fz3Ecxznp8KAmuren6IELnuM4jnNqkKjtK3qO4ziOc5pw0XMcx3HODC56juM4zpnBRc9xHMc5M7joOY7jOGcGFz3HcRznzOCi5ziO45wZXPQcx3GcM4OLnuM4jnNGMPt/AUoGPedWgs9LAAAAAElFTkSuQmCC)\n"
      ],
      "metadata": {
        "id": "NJXor6cPCL5w"
      }
    },
    {
      "cell_type": "markdown",
      "source": [
        "\n",
        "*   É possível criar um RDDe converte-lo para DF\n",
        "*   O Spark Context já vem na lib\n",
        "*   Um DF é também um RDD de objetos linha\n",
        "*   Em operações com dados não é possivel guarda-los em DF (ex: JSON), logo, os RDD podem ser usados para pre-processar os dados com um grande volume de dados e depois transformados em DF "
      ],
      "metadata": {
        "id": "ObNFzYeiCVG2"
      }
    },
    {
      "cell_type": "markdown",
      "source": [
        "# Operações simples "
      ],
      "metadata": {
        "id": "tNxkJjrnSWcn"
      }
    },
    {
      "cell_type": "code",
      "source": [
        "from pyspark.sql import SparkSession\n",
        "from pyspark.sql.types import ArrayType, StructField, StructType, StringType, IntegerType"
      ],
      "metadata": {
        "id": "N3A7B2XqRB3m"
      },
      "execution_count": 42,
      "outputs": []
    },
    {
      "cell_type": "code",
      "source": [
        "\n",
        "paises=[\"Brasil\",\"Italia\",\"Russia\",\"Noruega\",\"Espanha\",\"Mexico\"]\n",
        "\n",
        "# Convertendo uma lista em RDD paralelizado\n",
        "rdd = spark.sparkContext.parallelize(paises)\n",
        "\n",
        "rdd.count() #número de elementos \n",
        "\n",
        "rdd.collect() #mostra todos os dados"
      ],
      "metadata": {
        "id": "YFhyE3ifAWjd",
        "colab": {
          "base_uri": "https://localhost:8080/"
        },
        "outputId": "62fb0fc6-e164-48f0-fefc-33e4c9aa2611"
      },
      "execution_count": 57,
      "outputs": [
        {
          "output_type": "execute_result",
          "data": {
            "text/plain": [
              "['Brasil', 'Italia', 'Russia', 'Noruega', 'Espanha', 'Mexico']"
            ]
          },
          "metadata": {},
          "execution_count": 57
        }
      ]
    },
    {
      "cell_type": "code",
      "source": [
        "#Separa o arquivo em partições \n",
        "rdd2 = spark.sparkContext.parallelize(paises)\n",
        "print(\"Números de Nós: \"+str(rdd2.getNumPartitions()))\n",
        "\n",
        "\n",
        "# Forçando a quantidade de partições\n",
        "rdd3 = spark.sparkContext.parallelize(paises, 5)\n",
        "print(\"Números de Nós Paralelos: \"+str(rdd3.getNumPartitions()))"
      ],
      "metadata": {
        "colab": {
          "base_uri": "https://localhost:8080/"
        },
        "id": "4aUzkAXD078Y",
        "outputId": "194a8987-8568-419c-c05b-5ad5b44df1e2"
      },
      "execution_count": 64,
      "outputs": [
        {
          "output_type": "stream",
          "name": "stdout",
          "text": [
            "Números de Nós: 2\n",
            "Números de Nós Paralelos: 5\n"
          ]
        }
      ]
    },
    {
      "cell_type": "code",
      "source": [
        "#-----------------\n",
        "#Abrindo um CSV\n",
        "#pyspark.sql.dataframe.DataFrame\n",
        "#-----------------\n",
        "\n",
        "#file=sc.read.csv('/content/food_coded.csv',header=True,sep=',',nanValue=None)\n",
        "\n",
        "\n",
        "#type(file) #pyspark.sql.dataframe.DataFrame\n",
        "#file.show()\n",
        "#Classes de file\n",
        "\n",
        "#file.printSchema()"
      ],
      "metadata": {
        "id": "2ks22sj3Ajhr"
      },
      "execution_count": 69,
      "outputs": []
    },
    {
      "cell_type": "code",
      "source": [
        "#-----------------\n",
        "#Abrindo um CSV\n",
        "#pyspark.rdd.RDD\n",
        "#-----------------\n",
        "\n",
        "file= spark.sparkContext.textFile('/content/food_coded.csv')\n",
        "\n",
        "type(file) #pyspark.rdd.RDD\n"
      ],
      "metadata": {
        "colab": {
          "base_uri": "https://localhost:8080/"
        },
        "id": "gzQbeOODTfXg",
        "outputId": "5cbd250e-b9e0-4e7e-ccd8-6acd0172437e"
      },
      "execution_count": 68,
      "outputs": [
        {
          "output_type": "execute_result",
          "data": {
            "text/plain": [
              "pyspark.rdd.RDD"
            ]
          },
          "metadata": {},
          "execution_count": 68
        }
      ]
    },
    {
      "cell_type": "code",
      "source": [
        "#primeira linha do dado\n",
        "file.first() #header\n",
        "\n",
        "#Determinando a quantidade elementos, subtraindo de -1 para retirar o cabecalho\n",
        "food.count()-1"
      ],
      "metadata": {
        "colab": {
          "base_uri": "https://localhost:8080/",
          "height": 174
        },
        "id": "lG7Nj1gYUeun",
        "outputId": "4a2282de-035c-4636-8a4f-9dd8e929c882"
      },
      "execution_count": 72,
      "outputs": [
        {
          "output_type": "execute_result",
          "data": {
            "text/plain": [
              "'GPA,Gender,breakfast,calories_chicken,calories_day,calories_scone,coffee,comfort_food,comfort_food_reasons,comfort_food_reasons_coded,cook,comfort_food_reasons_coded,cuisine,diet_current,diet_current_coded,drink,eating_changes,eating_changes_coded,eating_changes_coded1,eating_out,employment,ethnic_food,exercise,father_education,father_profession,fav_cuisine,fav_cuisine_coded,fav_food,food_childhood,fries,fruit_day,grade_level,greek_food,healthy_feeling,healthy_meal,ideal_diet,ideal_diet_coded,income,indian_food,italian_food,life_rewarding,marital_status,meals_dinner_friend,mother_education,mother_profession,nutritional_check,on_off_campus,parents_cook,pay_meal_out,persian_food,self_perception_weight,soup,sports,thai_food,tortilla_calories,turkey_calories,type_sports,veggies_day,vitamins,waffle_calories,weight'"
            ],
            "application/vnd.google.colaboratory.intrinsic+json": {
              "type": "string"
            }
          },
          "metadata": {},
          "execution_count": 72
        }
      ]
    },
    {
      "cell_type": "code",
      "source": [
        "#Exibe os 5 elementos do RDD \n",
        "file.take(5)"
      ],
      "metadata": {
        "colab": {
          "base_uri": "https://localhost:8080/"
        },
        "id": "CnEWVOZaTfU-",
        "outputId": "849ecfa0-1cfb-49f4-c9ac-a95b65460336"
      },
      "execution_count": 70,
      "outputs": [
        {
          "output_type": "execute_result",
          "data": {
            "text/plain": [
              "['GPA,Gender,breakfast,calories_chicken,calories_day,calories_scone,coffee,comfort_food,comfort_food_reasons,comfort_food_reasons_coded,cook,comfort_food_reasons_coded,cuisine,diet_current,diet_current_coded,drink,eating_changes,eating_changes_coded,eating_changes_coded1,eating_out,employment,ethnic_food,exercise,father_education,father_profession,fav_cuisine,fav_cuisine_coded,fav_food,food_childhood,fries,fruit_day,grade_level,greek_food,healthy_feeling,healthy_meal,ideal_diet,ideal_diet_coded,income,indian_food,italian_food,life_rewarding,marital_status,meals_dinner_friend,mother_education,mother_profession,nutritional_check,on_off_campus,parents_cook,pay_meal_out,persian_food,self_perception_weight,soup,sports,thai_food,tortilla_calories,turkey_calories,type_sports,veggies_day,vitamins,waffle_calories,weight',\n",
              " '2.4,2,1,430,nan,315,1,none,we dont have comfort ,9,2,9,nan,eat good and exercise,1,1,eat faster ,1,1,3,3,1,1,5,profesor ,Arabic cuisine,3,1,rice  and chicken ,2,5,2,5,2,looks not oily ,being healthy ,8,5,5,5,1,1,\"rice, chicken,  soup\",1,unemployed,5,1,1,2,5,3,1,1,1,1165,345,car racing,5,1,1315,187',\n",
              " '3.654,1,1,610,3,420,2,\"chocolate, chips, ice cream\",\"Stress, bored, anger\",1,3,1,1,I eat about three times a day with some snacks. I try to eat healthy but it doesn\\'t always work out that- sometimes eat fast food and mainly eat at Laker/ Egan ,2,2,I eat out more than usual. ,1,2,2,2,4,1,2,Self employed ,Italian,1,1,\"chicken and biscuits, beef soup, baked beans\",1,4,4,4,5,\"Grains, Veggies, (more of grains and veggies), small protein and fruit with dairy \",\"Try to eat 5-6 small meals a day. While trying to properly distribute carbs, protein, fruits, veggies, and dairy.  \",3,4,4,4,1,2,\"Pasta, steak, chicken \",4,Nurse RN ,4,1,1,4,4,3,1,1,2,725,690,Basketball ,4,2,900,155',\n",
              " '3.3,1,1,720,4,420,2,\"frozen yogurt, pizza, fast food\",\"stress, sadness\",1,1,1,3,\"toast and fruit for breakfast, salad for lunch, usually grilled chicken and veggies (or some variation) for dinner\",3,1,sometimes choosing to eat fast food instead of cooking simply for convenience,1,3,2,3,5,2,2,owns business,italian,1,3,\"mac and cheese, pizza, tacos\",1,5,3,5,6,usually includes natural ingredients; nonprocessed food,i would say my ideal diet is my current diet,6,6,5,5,7,2,\"chicken and rice with veggies, pasta, some kind of healthy recipe\",2,owns business,4,2,1,3,5,6,1,2,5,1165,500,none,5,1,900,I\\'m not answering this. ',\n",
              " '3.2,1,1,430,3,420,2,\"Pizza, Mac and cheese, ice cream\",Boredom,2,2,2,2,\"College diet, cheap and easy foods most nights. Weekends traditionally, cook better homemade meals  \",2,2,Accepting cheap and premade/store bought foods,1,3,2,3,5,3,2,Mechanic ,Turkish ,3,1,\"Beef stroganoff, tacos, pizza\",2,4,4,5,7,\"Fresh fruits& vegetables, organic meats \",\"Healthy, fresh veggies/fruits & organic foods \",2,6,5,5,2,2,\"Grilled chicken ']"
            ]
          },
          "metadata": {},
          "execution_count": 70
        }
      ]
    },
    {
      "cell_type": "code",
      "source": [
        "#Salvando os take(5) em um rdd\n",
        "\n",
        "save=open('take_5.csv','w')\n",
        "save.write('\\n'.join(file.take(2)))\n",
        "save.close()\n",
        "\n"
      ],
      "metadata": {
        "id": "1ZFWtYjgHoUN"
      },
      "execution_count": 71,
      "outputs": []
    },
    {
      "cell_type": "code",
      "source": [
        "#Pesquisa uma palavra em cada linha\n",
        "\n",
        "filter=file.filter(lambda x:'rice' in x)\n",
        "filter.collect() \n"
      ],
      "metadata": {
        "colab": {
          "base_uri": "https://localhost:8080/"
        },
        "id": "tiA39ER9HoRu",
        "outputId": "5f0bae26-05fd-411d-b292-58981225c82c"
      },
      "execution_count": 74,
      "outputs": [
        {
          "output_type": "execute_result",
          "data": {
            "text/plain": [
              "['2.4,2,1,430,nan,315,1,none,we dont have comfort ,9,2,9,nan,eat good and exercise,1,1,eat faster ,1,1,3,3,1,1,5,profesor ,Arabic cuisine,3,1,rice  and chicken ,2,5,2,5,2,looks not oily ,being healthy ,8,5,5,5,1,1,\"rice, chicken,  soup\",1,unemployed,5,1,1,2,5,3,1,1,1,1165,345,car racing,5,1,1315,187',\n",
              " '3.3,1,1,720,4,420,2,\"frozen yogurt, pizza, fast food\",\"stress, sadness\",1,1,1,3,\"toast and fruit for breakfast, salad for lunch, usually grilled chicken and veggies (or some variation) for dinner\",3,1,sometimes choosing to eat fast food instead of cooking simply for convenience,1,3,2,3,5,2,2,owns business,italian,1,3,\"mac and cheese, pizza, tacos\",1,5,3,5,6,usually includes natural ingredients; nonprocessed food,i would say my ideal diet is my current diet,6,6,5,5,7,2,\"chicken and rice with veggies, pasta, some kind of healthy recipe\",2,owns business,4,2,1,3,5,6,1,2,5,1165,500,none,5,1,900,I\\'m not answering this. ',\n",
              " '3.5,1,1,720,2,420,2,\"Ice cream, chocolate, chips \",\"Stress, boredom, cravings \",1,1,1,2,I try to eat healthy but often struggle because of living on campus. I still try to keep the choices I do make balanced with fruits and vegetables and limit the sweats. ,2,2,I have eaten generally the same foods but I do find myself eating the same food frequently due to what I have found I like from egan and the laker. ,3,4,2,2,4,1,4,IT,Italian ,1,3,\"Pasta, chicken tender, pizza \",1,4,4,4,6,\"A lean protein such as grilled chicken, green vegetables and  brown rice or other whole grain \",Ideally I would like to be able to eat healthier foods in order to loose weight. ,2,6,2,5,1,1,\"Chicken Parmesan, Pulled Pork, Spaghetti and meatballs \",5,Substance Abuse Conselor,3,1,1,4,2,4,1,1,4,940,500,Softball,4,2,760,190',\n",
              " '2.25,1,1,610,3,980,2,\"Candy, brownies and soda.\",\"None, i don\\'t eat comfort food. I just eat when i\\'m hungry.\",4,3,4,nan,My current diet is terrible. I barely have time to eat a meal in a day. When i do eat it\\'s mostly not healthy.,2,2,Eating rice everyday. Eating less homemade food.,1,3,1,3,4,2,1,Taxi Driver,African,6,3,\"Fries, plaintain & fried fish\",1,2,2,2,4,\"Requires veggies, fruits and a cooked meal. \",My ideal diet is to eat 3 times a day including breakfast on time. Eat healthy food. ,2,1,5,5,4,2,Anything they\\'d want. I\\'d ask them before hand what they want to eat and it depends on which type of friend is coming.,1,Hair Braider,1,1,2,5,5,5,1,2,4,940,345,None.,1,2,1315,190',\n",
              " '3.3,1,1,430,3,315,2,\"Mac and cheese, chocolate, and pasta \",\"Stress, anger and sadness \",1,3,1,1,\"I eat healthy all the time when possible. I treat myself occasionally. I don\\'t really like the greasy meals, if anything I would eat sweets over the greasy meals.  \",1,1,I cook a lot of my own foods back at home so not being able to cook my own healthy choices. I eat more carbs than normal when I\\'m at college due to the choices given in the cafe. ,1,3,3,3,5,1,5,commissioner of erie county ,Italian ,1,1,\"Pasta, Eggs, Pancakes \",1,5,1,5,3,Chicken and rice with a side of veggies. ,\"Lots of protein, carbs, and fruits and veggies. \",2,4,4,5,3,2,pasta salad and bread,5,Pharmaceutical rep,5,1,3,3,4,3,1,1,4,580,345,field hockey,5,1,900,125',\n",
              " '3.6,1,1,610,3,420,2,\"ice cream, cake, chocolate\",\"stress,  boredom, special occasions\",1,2,1,1,Not as healthy when I am at school compared to home. Still very aware of the nutrition I am taking in.,2,2,not as healthy because healthy food goes bad quickly and it is expensive,1,3,4,2,5,2,2,business owner,italian,1,1,\"steak, lasagna, crab\",1,5,3,4,8,Lots of vegetabls with some grains like rice. Also has lean meat such as fish or chicken.,organic/healthy. fruits and vegetables but still protein to give sustainance. ,2,5,3,5,10,2,\"pasta, chicken, steak\",4,business owner,2,2,2,3,3,3,1,1,5,1165,850,intramural volleyball,5,2,1315,123',\n",
              " '3.1,2,1,610,3,420,2,\"Pizza, fruit, spaghetti, chicken and Potatoes  \",\"Friends, environment and boredom\",2,3,2,1,\"Making sure I have enough protein intake, as well with fibre, vitamins and carbs. \",1,2,\"I knew I would eat alot my freshmen year, before coming to college i had a diet plan. \",3,4,2,3,4,2,4,Commidity trader ,Chinese ,4,3,Pizza,1,5,3,4,2,Green and not greasy,\"Eat a little less than I usually do, and intaking more protein. \",1,5,2,3,1,1,\"Pizza, chicken and rice, roast beef.\",4,Charity worker,2,2,2,3,1,3,1,1,4,940,500,Hockey,5,1,900,185',\n",
              " 'nan,2,2,430,nan,980,2,\"cookies, donuts, candy bars\",boredom,2,4,2,1,I like a lot of foods that arent home cooked or healthy for you.,2,2,none,3,4,4,3,1,1,5,Hockey Coach,italian food,1,2,pizza,1,3,1,1,6,\"chicken, veggies, rice\",I wish I ate lots of healthy foods like veggies and salads. ,2,4,1,5,nan,2,pizza buffalo chicken pasta,4,Librarian,1,1,2,3,1,2,2,1,1,940,345,Hockey,1,2,1315,180',\n",
              " '3.6,2,1,430,3,980,2,\"chips, cookies, ice cream\",\"I usually only eat comfort food when I\\'m bored, if i am doing something, i can go for hours without eating \",2,3,2,1,My current diet is eggs and a meat every morning for breakfast. For lunch ill usually have some pasta or rice with a meat and sometimes a side of veggies. for dinner i usually eat less carbs and more protein and veggies. ,3,2,\"I would say i just eat a little more, but not in a bad way. I have unlimited swipes at the cafe so instead of snacking on chips before lunch or dinner i will get something from the cafe.\",1,2,2,3,4,1,2,self employed construction ,American or Italian ,5,3,\"chicken fingers, steak, mac and cheese\",1,3,1,3,8,\"for me usually a big piece of chicken or steak with a side of veggies, and i usually have rice with mine as well\",\"I like how my diet it now. However, after my season i am going to cut back on some carbs because i won\\'t be working out as much.\",1,6,3,5,7,2,Grilled chicken or steak with veggies and rice. or some type of pasta and chicken ,2,stay at home mom,4,1,1,6,2,2,1,1,3,940,500,hockey,4,2,900,170',\n",
              " '2.2,2,1,430,2,420,2,\"pizza, wings, Chinese\",\"boredom, sadness, hungry\",2,4,2,1,Current diet right now isn\\'t very good. I eat at the school\\'s cafeteria and they do not have the best choices.,2,2,None really,3,4,2,3,3,2,5,architect,Italian,1,1,manacotti,1,2,1,3,4,\"lots of fruits and vegitibles, not any fried foods\",Something that tastes good and also is good for you. This is very hard to find though.,3,5,2,5,7,1,\"chicken, manicotti, rice\",4,physical therapist,1,1,1,3,3,4,1,nan,3,940,345,basketball,2,2,900,165',\n",
              " '3.9,1,1,720,2,420,2,\"Soup, pasta, brownies, cake\",\"A long day, not feeling well, winter \",6,1,6,1,I eat a lot of chicken and try to cook my own meals as much as possible using a lot of rice and vegetables.,1,2,\"I watch the amount of \"\"snacks\"\" I eat more than I did in high school.\",1,2,4,3,4,nan,3,Manager at Pepsi,Chinese,4,1,Spaghetti ,1,4,3,5,5,A healthy meal is a lean meat with mostly vegetables and a starch like brown rice or quinoa.,I would like to be a person to eat a larger vegetable based diet with little to no processed products in my diet especially sugar and salt.,2,4,3,5,2,2,\"Pasta, chicken and rice, and soup\",2,Unemployed,2,1,1,3,3,4,2,2,4,940,500,none,4,2,1315,105',\n",
              " '3.7,2,1,610,2,420,1,\"Chips, ice cream, microwaveable foods \",\"Boredom, lazyniss \",2,3,2,1,\"Most healthy diet, but since I\\'m an athlete have room for some bad foods to burn off quickly \",1,1,Tend to eat more fried foods ,1,3,2,2,2,1,4,Beverage and Food Sales,Italian food ,1,1,\"Chicken Parm, Pizza \",1,3,2,1,9,\"A rice, a vegetable, a piece of meat \",\"Very healthy diet, and to cook at home with organic foods. \",5,5,1,5,9,2,Chicken parm ,2,Doctors Billing Assiant ,2,1,1,4,1,2,2,1,2,1165,850,Hockey,3,2,1315,160',\n",
              " '3,1,1,610,2,420,2,\"mac n cheese, peanut butter and banana sandwich, omelet\",Boredom usually,2,1,2,1,\"A lot of rice and veggies, eggs for breakfast, chicken is usually the only kind of meat I eat.\",3,1,My diet is more limited just because of what I have time to make,1,3,2,3,2,1,4,Owns his own promotional company ,American or Italian,5,1,\"chicken, pasta, stir fry\",1,5,3,3,2,\"Some kind of protein, a vegetable, and a grain\",Pretty much what I eat now,6,4,1,5,3,2,\"Some kind of pasta, a chicken dish, some kind of salad\",4,Works in retail,2,2,1,3,2,2,1,1,2,940,690,Lacrosse,5,2,760,150',\n",
              " '3.7,1,1,610,3,420,2,\"pizza, doughnuts, mcdonalds \",boredom,2,3,2,nan,\"I eat out more often then not. I try to make sure when I eat out it isn\\'t fast food, but instead something healthy like Panera. \",2,2,I do not snack as often at school. I find that I\\'m always busy so sometimes I don\\'t have a lot of time to eat. ,1,8,4,2,4,1,5,Optometrist ,Italian or Chinese ,1,3,\"pizza, pasta, grilled cheese \",1,5,2,3,7,\"a meal with a meat, vegetable, grain, and fruit \",I wish I had the time and energy to cook more at home on my own. ,5,6,2,5,7,1,\"spaghetti or pasta, shrimp fried rice, chicken \",2,Homemaker ,3,1,2,3,1,4,2,1,2,1165,500,Softball ,5,2,900,150',\n",
              " '3.6,1,1,610,3,420,2,\"ice cream, cookie dough, cookies, cheese\",\"Boredom!, sadness\",2,4,2,1,\"Light breakfast, yogurt or grandola bar. No luch but (healthy) snacks throughout this time period until dinner. Full dinner with meat, vegetables and fruit.\",2,2,I do not make my own food,1,3,2,2,3,nan,4,Design Engineer,Italian,1,1,\"French Toast, Grilled Cheese, Orange Chicken\",1,5,2,5,6,\"Grilled chicken, side salad, rice and broccoli and cranberries\",Same as above but with a more concrete lunch. Cut down on excessive snacking. ,1,6,4,5,7,1,\"Pancakes, Pasta, Grilled Cheese and Soup\",4,Account Clerical ,1,1,2,3,2,3,1,2,4,940,500,nan,4,2,900,135',\n",
              " '3.3,2,1,610,4,420,2,\"Pizza, chocolate, and ice cream \",\"Boredom, sadness and anger \",2,1,2,1,My diet is mostly chicken rice and veggies. I mix in fruit between workouts and snacks like power bars and what not. ,3,1,I eat very bad on the weekends. ,1,3,5,nan,4,1,3,UPS driver ,Mexican ,2,1,\"Grilled chicken, pasta, and turkey \",1,5,2,5,1,Low carbs and high protein ,One that maintains my goal weight. But also produces enough daily energy. ,3,5,3,5,5,1,Chicken Parm,2,Unemployed ,5,1,1,3,3,2,2,1,3,1165,500,Lacrosse ,5,2,900,200',\n",
              " '3.5,1,1,610,3,420,2,\"Chocolate, ice cream, pasta\",\"Stress, boredom, sadness\",1,1,1,2,\"For breakfast I have oatmeal. For lunch I have a sandwich and fruit. For dinner I usually have a piece of meat, rice or pasta, and a vegetable. \",3,2,More easy meals like pasta.,1,11,2,2,5,2,4,Physical Therapist,Mexican,2,1,Steak,2,5,3,5,4,\"Fruit, vegetables, and protien\",Ideally my diet would be similar to what I eat now. If I wasn\\'t on a college budget I could spend more money on nicer meat and vegetables which would make my meals a lot better.,6,5,5,5,1,1,\"steak, noodles, edemame\",5,Elementary School Principal,2,2,1,4,4,3,1,1,5,1165,690,Skiing,5,1,1315,155',\n",
              " '3.7,1,1,610,nan,420,2,Mac n Cheese. Chips and salsa. Ice cream. ,Boredom. Celebration. ,2,2,2,1,Simple breakfast of cereal or yogurt. Lunch is something like a deli meat sandwich. Dinner is a full meal. Veggies meat and starch. ,3,2,More snacking ,1,11,2,3,5,nan,4,Insurance ,Italian ,1,3,Mac and cheese ,1,5,4,5,7,Proper serving sizes of almost anything ,Less cheese than I eat. ,1,6,5,5,10,1,Steak and veggies. Chicken and rice. Stirfry. ,4,Real Estate Agent ,2,2,2,3,4,3,2,1,5,1165,500,skiing ,4,2,1315,155',\n",
              " '3.5,1,1,610,3,420,1,\"cookies, nutella, ice cream, coffee, fruit \",\"Bordem, happiness, sadness\",2,1,2,1,\"I eat fruit and vetagables with every meal. I only drink water, no soda. I tend to stay away from greasy food. \",1,1,\"I ate more junk food, but also more fruit. \",1,3,3,2,4,1,2,Owner of New York Lunch,Chinese cuisine (General Tso\\'s),4,3,\"chicken stir fry, spaghetti, chicken parmesan \",1,5,2,4,3,Meal prep\\'d foods with food from each section on the food pyramid. ,\"I want to eliminate all the junk food I ate. Besides that, I want to keep my diet the same. \",5,2,3,5,1,2,1. pasta 2. spaghetti 3. chicken and rice ,2,CNA ,4,1,1,2,3,4,2,1,3,940,500,Volleyball,5,1,760,140',\n",
              " '3.79 bitch,2,1,720,4,420,2,\"Chips, ice cream\",\"Boredom, stress\",2,1,2,1,I have a diet of meats and other high protein foods. ,2,2,I stopped drinking soda and only drink water now,2,12,4,3,3,1,4,Risk Manager,Mexican,2,1,Pizza,1,3,2,3,1,\"Protein source, vegetables, fruits, whole grains\",A balanced diet with each food group. Getting enough protein and carbohydrates.,3,6,1,5,2,2,\"chipotle, chick fil a, chicken and rice\",2,Customer Service,5,3,1,3,1,3,1,1,2,1165,850,baseball,4,1,1315,200',\n",
              " '2.71,2,2,265,2,420,1,nan,nan,9,2,9,4,nan,4,2,nan,3,4,1,3,3,2,1,retire,nan,0,2,nan,1,4,3,3,8,nan,nan,8,3,3,3,10,4,\"rice and Chicken, sea food\",1,nan,2,2,3,5,3,3,1,2,3,580,345,nan,4,2,760,nan',\n",
              " '3,1,1,720,3,420,2,\"chocolate, fruit, and ice cream\",\"stress, boredom\",1,2,1,1,\"At school its hard but usually a granola bar and fruit for breakfast, a wrap for dinner or lunch, and then veggies and hummus.\",3,1,not going to Egan every meal maybe once a day,1,2,2,2,3,1,2,self employed,Japanese,4,1,\"tacos, pizza, chicken wing dip\",2,5,2,4,8,\"good portions of fruit, protein, veggies and carbs\",To eat moderations of every food group each day and no processed food,3,5,3,4,8,2,\"mexican chicken, hibachi chicken and rice, steak\",2,self employed,4,1,1,3,2,3,1,1,3,580,345,competitive skiing,4,1,1315,135',\n",
              " '3,1,1,610,3,420,2,\"Chinese food, moes, sponge candy, homemade lasagne \",\"boredom, sadness \",2,2,2,1,Eat fruits and vegetables daily and with almost every meal. Diet mostly consists of meat as well. ,1,2,Less snacking ,2,5,1,3,4,2,2,Service Technition,Chinese food,4,3,\"peanut butter and jelly, celery and peanut butter, hot pockets \",1,5,1,4,3,Small portion of meat with majority fruits or vegetables ,More organic food. Want to try and add more seafood into my diet.  ,5,6,4,5,1,1,\"Pizza, Chicken and rice and pasta\",4,Sales Manager at Business First,5,1,1,3,3,4,1,1,4,580,500,\"volleyball, lacrosse\",4,1,900,190',\n",
              " '3.75,2,1,610,3,420,2,\"candy, Chinese, mcdonalds\",laziness and hungover,5,2,5,nan,Complete diet. protein vegetables and carbs,1,2,I eat whatever is offered at egan or at the laker,1,3,2,nan,5,1,4,information systems architect,lebanese or greek,1,1,\"steak, spaghetti, salmon\",1,5,4,5,7,steak or salmon with broccoli or asparagus and brown rice or quinoa,High protein with lots of vegetables and fruit,7,6,5,5,6,2,\"salmon, steak, spaghetti squash\",4,teacher,4,1,1,3,5,3,1,1,5,940,690,\"hockey, soccer, golf\",5,1,1315,175',\n",
              " '3,1,1,720,3,420,2,\"ice cream, chips, candy\",\"Boredom, laziness, anger\",2,3,2,1,\"Since I am a college student I rarely cook full meals with protein, vegetables and starch. I usually just heat up leftovers from a restaurant or go eat casual food at the dining hall.\",2,2,I do not eat full meals. Rarely eat 3 meals a day. ,1,10,3,nan,4,2,4,Ford Plant employee,Italian,1,3,\"hot dogs, chicken fingers, mashed potatoes\",1,3,4,5,2,\"I think a healthy meals includes some kind of protein, preferably meat, vegetables, and a starch such as potatoes or rice\",\"My ideal diet right now would be how it was when I lived at home. I ate breakfast every morning, brought a lunch to school, and had a home cooked meal by my mom that included meat, vegetables and a starch. \",5,4,3,5,1,2,\"Chicken rice and asparagus, pizza, something easy in the crockpot\",3,Insurance Coordinator,2,2,1,5,4,3,2,1,3,1165,690,volleyball,2,2,1315,125',\n",
              " '3.2,2,1,610,3,420,2,\"chips, rice, chicken curry,\",\"Happiness, boredom, social event\",,2,7,5,\"My diet is mostly whatever I get to eat in the grotto commons. Sometimes, I eat outside\",2,1,Started eating a lot of protein rich food that i didnt before.,2,5,2,2,5,2,5,United Nations,Indian,8,3,\"pizza, burger, pasta\",1,5,4,5,7,A diet that is well balanced in most of the nutrients needed for the body.,Healthy balanced diet that tastes well.,3,2,5,5,6,2,\"Chicken, Rice, Vegetables\",5,Banker,2,1,1,3,5,4,1,1,5,1165,690,Soccer,5,2,1315,185',\n",
              " '3.882,1,1,720,nan,420,1,\"rice, potato, seaweed soup\",sadness,,3,3,nan,\"Rice, oatmeal, and tea\",2,1,less rice,1,3,3,3,5,2,5,CEO of company,Korean,4,1,Rice and potato,1,4,3,5,6,lots of vegetables,lots of veggies,2,2,5,3,10,1,\"meat, rice, kimchi\",1,Real Estate manageer,3,1,2,4,5,4,1,2,5,580,690,none,4,2,1315,120',\n",
              " '3.9,1,1,430,nan,315,2,\"Chocolates, pizza, and Ritz.\",\"hormones, Premenstrual syndrome.\",,nan,5,3,high in protein and low in carbohydrates.,1,1,I have learned to eat more vegetables. ,2,5,1,2,3,2,4,Journalist,HISPANIC CUISINE.,2,1,\"rice, beans, and chicken / pizza/ tenders\",1,3,3,2,3,\"a cup of rice, vegetables, and meat. \",\"Being able to balance between sweets, vegetables, fruits, carbohydrates, and fat.\",3,5,2,3,5,2,\"Vegetables, Meat, and rice.\",3,House-wife,5,1,3,3,2,3,1,2,2,725,345,nan,4,2,575,135']"
            ]
          },
          "metadata": {},
          "execution_count": 74
        }
      ]
    },
    {
      "cell_type": "code",
      "source": [
        "# persistindo os dados em memória para ficar mais rápido,s e ouver muitos dados isso acelerará a pesquisa\n",
        "file.cache()\n"
      ],
      "metadata": {
        "colab": {
          "base_uri": "https://localhost:8080/"
        },
        "id": "4ei9BMcvHoO8",
        "outputId": "ee855533-1933-4add-9032-8c1f77a3bcf0"
      },
      "execution_count": 76,
      "outputs": [
        {
          "output_type": "execute_result",
          "data": {
            "text/plain": [
              "/content/food_coded.csv MapPartitionsRDD[138] at textFile at NativeMethodAccessorImpl.java:0"
            ]
          },
          "metadata": {},
          "execution_count": 76
        }
      ]
    },
    {
      "cell_type": "code",
      "source": [],
      "metadata": {
        "id": "3XLv1ZtGHoMT"
      },
      "execution_count": null,
      "outputs": []
    },
    {
      "cell_type": "code",
      "source": [],
      "metadata": {
        "id": "AhHj8VAIJ6uF"
      },
      "execution_count": 72,
      "outputs": []
    },
    {
      "cell_type": "code",
      "source": [
        "\n"
      ],
      "metadata": {
        "colab": {
          "base_uri": "https://localhost:8080/"
        },
        "id": "qHk-2MkOKmYs",
        "outputId": "d7462ce1-34c4-465f-e962-d3daeb98c931"
      },
      "execution_count": 27,
      "outputs": [
        {
          "output_type": "execute_result",
          "data": {
            "text/plain": [
              "137"
            ]
          },
          "metadata": {},
          "execution_count": 27
        }
      ]
    },
    {
      "cell_type": "code",
      "source": [],
      "metadata": {
        "id": "jMMXihctKzBD"
      },
      "execution_count": 72,
      "outputs": []
    },
    {
      "cell_type": "code",
      "source": [],
      "metadata": {
        "id": "B59EZPIiLEgM"
      },
      "execution_count": null,
      "outputs": []
    }
  ]
}