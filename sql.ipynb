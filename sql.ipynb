{
  "nbformat": 4,
  "nbformat_minor": 0,
  "metadata": {
    "colab": {
      "provenance": []
    },
    "kernelspec": {
      "name": "python3",
      "display_name": "Python 3"
    },
    "language_info": {
      "name": "python"
    }
  },
  "cells": [
    {
      "cell_type": "markdown",
      "source": [
        "-------------------------------------------------------------\n",
        "Libs e Preparação do ambiente Spark\n",
        "-------------------------------------------------------------\n",
        "\n"
      ],
      "metadata": {
        "id": "xzaVj7ArSIw9"
      }
    },
    {
      "cell_type": "code",
      "execution_count": 1,
      "metadata": {
        "id": "NlH8bX1P0fJL"
      },
      "outputs": [],
      "source": [
        "# Java jdk utilitários \n",
        "!apt-get install openjdk-8-jdk-headless -qq > /dev/null"
      ]
    },
    {
      "cell_type": "code",
      "source": [
        "# Spark\n",
        "!wget -q https://archive.apache.org/dist/spark/spark-3.1.2/spark-3.1.2-bin-hadoop2.7.tgz\n",
        "\n",
        "!tar xf spark-3.1.2-bin-hadoop2.7.tgz"
      ],
      "metadata": {
        "id": "oZMEvpeZ0m4p"
      },
      "execution_count": 2,
      "outputs": []
    },
    {
      "cell_type": "code",
      "source": [
        "import os\n",
        "\n",
        "os.environ[\"JAVA_HOME\"] = \"/usr/lib/jvm/java-8-openjdk-amd64\"\n",
        "\n",
        "os.environ[\"SPARK_HOME\"] = \"/content/spark-3.1.2-bin-hadoop2.7\""
      ],
      "metadata": {
        "id": "16nKSavt0wFw"
      },
      "execution_count": 4,
      "outputs": []
    },
    {
      "cell_type": "code",
      "source": [
        "# Findspark\n",
        "!pip install -q findspark"
      ],
      "metadata": {
        "id": "Is3fuBPs00df"
      },
      "execution_count": 5,
      "outputs": []
    },
    {
      "cell_type": "code",
      "source": [
        "import findspark\n",
        "\n",
        "# Iniciando o findspark\n",
        "findspark.init()"
      ],
      "metadata": {
        "id": "sQbFa7SA02Xw"
      },
      "execution_count": 6,
      "outputs": []
    },
    {
      "cell_type": "code",
      "source": [
        "# iniciar uma seção Spark\n",
        "from pyspark.sql import SparkSession\n",
        "\n",
        "# iniciando o spark context\n",
        "spark = SparkSession.builder.master('local[*]').getOrCreate()\n",
        "spark"
      ],
      "metadata": {
        "colab": {
          "base_uri": "https://localhost:8080/",
          "height": 219
        },
        "id": "smPRg0Si05Rw",
        "outputId": "0c3927d6-cf43-4cb2-b6fe-11936648fda1"
      },
      "execution_count": 7,
      "outputs": [
        {
          "output_type": "execute_result",
          "data": {
            "text/plain": [
              "<pyspark.sql.session.SparkSession at 0x7f8f1bdac9a0>"
            ],
            "text/html": [
              "\n",
              "            <div>\n",
              "                <p><b>SparkSession - in-memory</b></p>\n",
              "                \n",
              "        <div>\n",
              "            <p><b>SparkContext</b></p>\n",
              "\n",
              "            <p><a href=\"http://5957e58dcf65:4040\">Spark UI</a></p>\n",
              "\n",
              "            <dl>\n",
              "              <dt>Version</dt>\n",
              "                <dd><code>v3.1.2</code></dd>\n",
              "              <dt>Master</dt>\n",
              "                <dd><code>local[*]</code></dd>\n",
              "              <dt>AppName</dt>\n",
              "                <dd><code>pyspark-shell</code></dd>\n",
              "            </dl>\n",
              "        </div>\n",
              "        \n",
              "            </div>\n",
              "        "
            ]
          },
          "metadata": {},
          "execution_count": 7
        }
      ]
    },
    {
      "cell_type": "code",
      "source": [
        "from pyspark.sql import SparkSession \n",
        "from pyspark.sql.types import ArrayType, StructField, StructType, StringType, IntegerType\n",
        "from datetime import date,datetime\n",
        "from pyspark.sql import Row\n",
        "from pyspark.sql.context import SQLContext"
      ],
      "metadata": {
        "id": "N3A7B2XqRB3m"
      },
      "execution_count": 22,
      "outputs": []
    },
    {
      "cell_type": "code",
      "source": [
        "#-----------------\n",
        "#Abrindo um CSV\n",
        "#pyspark.rdd.RDD\n",
        "#-----------------\n",
        "\n",
        "#file= spark.sparkContext.textFile('/content/food_coded.csv')\n",
        "\n",
        "#type(file) #pyspark.rdd.RDD\n"
      ],
      "metadata": {
        "id": "gzQbeOODTfXg"
      },
      "execution_count": null,
      "outputs": []
    },
    {
      "cell_type": "code",
      "source": [
        "#-----------------\n",
        "#Abrindo um CSV\n",
        "#pyspark.sql.dataframe.DataFrame\n",
        "#-----------------\n",
        "\n",
        "file=spark.read.csv('/content/Bikes.csv',header=True,sep=',',nanValue=None)\n",
        "\n",
        "\n",
        "#type(file) #pyspark.sql.dataframe.DataFrame\n",
        "file.show()\n",
        "#Classes de file\n",
        "\n",
        "#file.printSchema()"
      ],
      "metadata": {
        "id": "2ks22sj3Ajhr",
        "colab": {
          "base_uri": "https://localhost:8080/"
        },
        "outputId": "a7d6d444-9dbc-4775-df22-5269eeeb4aa5"
      },
      "execution_count": 12,
      "outputs": [
        {
          "output_type": "stream",
          "name": "stdout",
          "text": [
            "+--------------------+--------+---------+----------+------------+---+-----+-------------+\n",
            "|           bike_name|   price|     city|kms_driven|       owner|age|power|        brand|\n",
            "+--------------------+--------+---------+----------+------------+---+-----+-------------+\n",
            "|TVS Star City Plu...| 35000.0|Ahmedabad|   17654.0| First Owner|3.0|110.0|          TVS|\n",
            "|Royal Enfield Cla...|119900.0|    Delhi|   11000.0| First Owner|4.0|350.0|Royal Enfield|\n",
            "|Triumph Daytona 675R|600000.0|    Delhi|     110.0| First Owner|8.0|675.0|      Triumph|\n",
            "|TVS Apache RTR 180cc| 65000.0|Bangalore|   16329.0| First Owner|4.0|180.0|          TVS|\n",
            "|Yamaha FZ S V 2.0...| 80000.0|Bangalore|   10000.0| First Owner|3.0|150.0|       Yamaha|\n",
            "|    Yamaha FZs 150cc| 53499.0|    Delhi|   25000.0| First Owner|6.0|150.0|       Yamaha|\n",
            "|Honda CB Hornet 1...| 85000.0|    Delhi|    8200.0| First Owner|3.0|160.0|        Honda|\n",
            "|Hero Splendor Plu...| 45000.0|    Delhi|   12645.0| First Owner|3.0|100.0|         Hero|\n",
            "|Royal Enfield Thu...|145000.0|Bangalore|    9190.0| First Owner|3.0|350.0|Royal Enfield|\n",
            "|Royal Enfield Cla...| 88000.0|    Delhi|   19000.0|Second Owner|7.0|500.0|Royal Enfield|\n",
            "|Yamaha YZF-R15 2....| 72000.0|Bangalore|   20000.0| First Owner|7.0|150.0|       Yamaha|\n",
            "|   Yamaha FZ25 250cc| 95000.0|Bangalore|    9665.0| First Owner|4.0|250.0|       Yamaha|\n",
            "|  Bajaj Pulsar NS200| 78000.0|Bangalore|    9900.0| First Owner|4.0|200.0|        Bajaj|\n",
            "| Bajaj Discover 100M| 29499.0|    Delhi|   20000.0| First Owner|8.0|100.0|        Bajaj|\n",
            "| Bajaj Discover 125M| 29900.0|    Delhi|   20000.0| First Owner|7.0|125.0|        Bajaj|\n",
            "|Bajaj Pulsar NS20...| 90000.0|Bangalore|   11574.0| First Owner|3.0|200.0|        Bajaj|\n",
            "|Bajaj Pulsar RS20...|120000.0|Bangalore|   23000.0| First Owner|3.0|200.0|        Bajaj|\n",
            "|Suzuki Gixxer SF ...| 48000.0|   Mumbai|   24725.0| First Owner|5.0|150.0|       Suzuki|\n",
            "|  Benelli 302R 300CC|240000.0|   Mumbai|   15025.0|Second Owner|3.0|302.0|      Benelli|\n",
            "| Bajaj Discover 125M| 29900.0|    Delhi|   20000.0| First Owner|7.0|125.0|        Bajaj|\n",
            "+--------------------+--------+---------+----------+------------+---+-----+-------------+\n",
            "only showing top 20 rows\n",
            "\n"
          ]
        }
      ]
    },
    {
      "cell_type": "markdown",
      "source": [
        "**Criando uma tabela temporária para consultas com SQL**\n",
        "----------------------------------------------------------- \n",
        "\n",
        "\n",
        "\n",
        "\n"
      ],
      "metadata": {
        "id": "nAZ9RDIGPFb-"
      }
    },
    {
      "cell_type": "code",
      "source": [
        "#criando um objeto sparksession object e um appName \n",
        "\n",
        "sparkSession=SparkSession.builder.appName(\"bikes\").getOrCreate()"
      ],
      "metadata": {
        "id": "IctNuGZGK1QO"
      },
      "execution_count": 24,
      "outputs": []
    },
    {
      "cell_type": "code",
      "source": [
        "#tabela temporária em memória com os dados para SQL\n",
        "file.createOrReplaceTempView(\"tab_bikes\")\n",
        "sparkSession.sql(\"select * from tab_bikes\")"
      ],
      "metadata": {
        "colab": {
          "base_uri": "https://localhost:8080/"
        },
        "id": "0_F6uE1gK66l",
        "outputId": "4d449be9-7593-4a80-e2e0-be4400a30afd"
      },
      "execution_count": 26,
      "outputs": [
        {
          "output_type": "execute_result",
          "data": {
            "text/plain": [
              "DataFrame[bike_name: string, price: string, city: string, kms_driven: string, owner: string, age: string, power: string, brand: string]"
            ]
          },
          "metadata": {},
          "execution_count": 26
        }
      ]
    },
    {
      "cell_type": "code",
      "source": [
        "# maior média de km percorridos na sequencia do maior -> menor\n",
        "sparkSession.sql(\"select city, avg(kms_driven) as media_km from tab_bikes group by city order by media_km desc \").show()"
      ],
      "metadata": {
        "id": "J7wqOpkAoRav",
        "colab": {
          "base_uri": "https://localhost:8080/"
        },
        "outputId": "2c99b0b7-1de1-415f-fd56-3f9fc54fcd49"
      },
      "execution_count": 30,
      "outputs": [
        {
          "output_type": "stream",
          "name": "stdout",
          "text": [
            "+------------------+------------------+\n",
            "|              city|          media_km|\n",
            "+------------------+------------------+\n",
            "|     Muzaffarnagar|          403833.0|\n",
            "|           Vidisha|          172082.0|\n",
            "|            Ranoli|          135000.0|\n",
            "|           Navsari|          111224.0|\n",
            "|         Osmanabad|           80000.0|\n",
            "|         Kartarpur|           75000.0|\n",
            "|             Latur|           71000.0|\n",
            "|          Motihari|           69000.0|\n",
            "|             Hisar|           65000.0|\n",
            "|         Gangaghat|           65000.0|\n",
            "|         Darbhanga|           61331.5|\n",
            "|           Jaunpur|           61000.0|\n",
            "|            Jaipur| 60106.93346573982|\n",
            "|           Raiwala|           60000.0|\n",
            "|             Morbi|           60000.0|\n",
            "|       Chikamaglur|           60000.0|\n",
            "|             Nabha|           59154.0|\n",
            "|Thiruvananthapuram|58166.666666666664|\n",
            "|             Rasra|           58000.0|\n",
            "|              Bhuj|           54400.0|\n",
            "+------------------+------------------+\n",
            "only showing top 20 rows\n",
            "\n"
          ]
        }
      ]
    },
    {
      "cell_type": "code",
      "source": [
        "# Maior km alcançada\n",
        "sparkSession.sql(\"select city, max(kms_driven) as maximo_km from tab_bikes group by city order by maximo_km desc\").show(1)"
      ],
      "metadata": {
        "colab": {
          "base_uri": "https://localhost:8080/"
        },
        "id": "u-9cntmAJzO9",
        "outputId": "622091c3-a03f-4918-c7cd-b3b6251a2a96"
      },
      "execution_count": 31,
      "outputs": [
        {
          "output_type": "stream",
          "name": "stdout",
          "text": [
            "+---------+---------+\n",
            "|     city|maximo_km|\n",
            "+---------+---------+\n",
            "|Faridabad|  99999.0|\n",
            "+---------+---------+\n",
            "only showing top 1 row\n",
            "\n"
          ]
        }
      ]
    },
    {
      "cell_type": "code",
      "source": [
        "# Menor km alcançada\n",
        "sparkSession.sql(\"select city, min(kms_driven) as minimo_km from tab_bikes group by city order by minimo_km asc\").show(1)"
      ],
      "metadata": {
        "colab": {
          "base_uri": "https://localhost:8080/"
        },
        "id": "E29HVAfmL0lx",
        "outputId": "e3363dd9-a3ad-4186-cfa5-7af18a819ef1"
      },
      "execution_count": 32,
      "outputs": [
        {
          "output_type": "stream",
          "name": "stdout",
          "text": [
            "+------+---------+\n",
            "|  city|minimo_km|\n",
            "+------+---------+\n",
            "|Nashik|      1.0|\n",
            "+------+---------+\n",
            "only showing top 1 row\n",
            "\n"
          ]
        }
      ]
    },
    {
      "cell_type": "code",
      "source": [
        "# Média de potencia das bicicletas por cidade\n",
        "sparkSession.sql(\"select brand, avg(power) as media_potencia, count(*) as total from tab_bikes group by brand order by total desc\").show()"
      ],
      "metadata": {
        "colab": {
          "base_uri": "https://localhost:8080/"
        },
        "id": "jseoS8FnL0jM",
        "outputId": "dac9a1fb-819e-4ba8-db7a-a223a4a4ecb3"
      },
      "execution_count": 33,
      "outputs": [
        {
          "output_type": "stream",
          "name": "stdout",
          "text": [
            "+---------------+------------------+-----+\n",
            "|          brand|    media_potencia|total|\n",
            "+---------------+------------------+-----+\n",
            "|          Bajaj|196.31454561669491|11213|\n",
            "|           Hero|116.17996231155779| 6368|\n",
            "|  Royal Enfield| 366.1045955002393| 4178|\n",
            "|         Yamaha|169.35010214504595| 3916|\n",
            "|          Honda|152.67314990512335| 2108|\n",
            "|         Suzuki| 138.2445355191257| 1464|\n",
            "|            TVS| 170.9943865276664| 1247|\n",
            "|            KTM| 346.7595171773445| 1077|\n",
            "|Harley-Davidson| 758.2048846675713|  737|\n",
            "|       Kawasaki| 570.8860759493671|   79|\n",
            "|        Hyosung|             400.0|   64|\n",
            "|        Benelli| 380.2857142857143|   56|\n",
            "|       Mahindra| 192.9090909090909|   55|\n",
            "|        Triumph| 893.0769230769231|   26|\n",
            "|         Ducati|1016.1363636363636|   22|\n",
            "|            BMW|            463.75|   16|\n",
            "|           Jawa|             295.0|   10|\n",
            "|             MV|             872.5|    4|\n",
            "|         Indian|1353.3333333333333|    3|\n",
            "|          Ideal|             250.0|    2|\n",
            "+---------------+------------------+-----+\n",
            "only showing top 20 rows\n",
            "\n"
          ]
        }
      ]
    },
    {
      "cell_type": "code",
      "source": [
        "# Bajaj (maior quantidade de registros) \n",
        "bajaj=sparkSession.sql(\"select * from tab_bikes where brand='Bajaj'\")\n",
        "\n",
        "# tabela temporária \n",
        "bajaj.createOrReplaceTempView(\"tab_bikes2\")\n",
        "\n",
        "\n",
        "#type(bajaj) #pyspark.sql.dataframe.DataFrame\n",
        "\n",
        "sparkSession.sql(\"select count(*) from tab_bikes2\").show()"
      ],
      "metadata": {
        "colab": {
          "base_uri": "https://localhost:8080/"
        },
        "id": "Dptp0jLXL0gX",
        "outputId": "ed11ab95-0843-4452-918d-da11670eb2f0"
      },
      "execution_count": 37,
      "outputs": [
        {
          "output_type": "stream",
          "name": "stdout",
          "text": [
            "+--------+\n",
            "|count(1)|\n",
            "+--------+\n",
            "|   11213|\n",
            "+--------+\n",
            "\n"
          ]
        }
      ]
    },
    {
      "cell_type": "code",
      "source": [
        "#Max,Min e med\n",
        "sparkSession.sql(\"select avg(kms_driven) as media,max(kms_driven) as maximo,min(kms_driven) as minimo from tab_bikes\").show()"
      ],
      "metadata": {
        "colab": {
          "base_uri": "https://localhost:8080/"
        },
        "id": "zUtyWGieL0bI",
        "outputId": "3704f42d-0a44-4ae5-9f2a-d90be6d0258f"
      },
      "execution_count": 39,
      "outputs": [
        {
          "output_type": "stream",
          "name": "stdout",
          "text": [
            "+------------------+-------+------+\n",
            "|             media| maximo|minimo|\n",
            "+------------------+-------+------+\n",
            "|26344.625183778484|99999.0|   1.0|\n",
            "+------------------+-------+------+\n",
            "\n"
          ]
        }
      ]
    },
    {
      "cell_type": "code",
      "source": [
        "#Tipos de bike em Bajaj (max,med,min)\n",
        "sparkSession.sql(\"select bike_name, avg(kms_driven) as media,max(kms_driven) as maximo,min(kms_driven) as minimo from tab_bikes group by bike_name order by 1 asc\").show(12)"
      ],
      "metadata": {
        "colab": {
          "base_uri": "https://localhost:8080/"
        },
        "id": "nGPeRkEzNJ59",
        "outputId": "226dfa9a-5e62-4a92-cbe2-824816f0e84d"
      },
      "execution_count": 42,
      "outputs": [
        {
          "output_type": "stream",
          "name": "stdout",
          "text": [
            "+--------------------+------------------+-------+-------+\n",
            "|           bike_name|             media| maximo| minimo|\n",
            "+--------------------+------------------+-------+-------+\n",
            "|   BMW F750 GS 850cc|            4600.0| 4600.0| 4600.0|\n",
            "|        BMW G 310 GS|11068.333333333334| 4241.0|14482.0|\n",
            "|         BMW G 310 R| 8314.444444444445| 8500.0|11000.0|\n",
            "|   BMW S 1000 RR Pro|            2600.0| 2600.0| 2600.0|\n",
            "|   BMW S 1000 XR Pro|           18000.0|18000.0|18000.0|\n",
            "| Bajaj  Pulsar 180cc|           44815.6|90393.0|14524.0|\n",
            "| Bajaj Avenger 150cc|           20850.0|20850.0|20850.0|\n",
            "| Bajaj Avenger 180cc|           30312.0|30312.0|30312.0|\n",
            "| Bajaj Avenger 200cc|35448.555555555555|62554.0|24500.0|\n",
            "| Bajaj Avenger 220cc| 35184.07330097087| 9370.0|10000.0|\n",
            "|Bajaj Avenger Cru...|15913.819444444445| 9900.0|10000.0|\n",
            "|Bajaj Avenger Cru...|            1958.0| 1958.0| 1958.0|\n",
            "+--------------------+------------------+-------+-------+\n",
            "only showing top 12 rows\n",
            "\n"
          ]
        }
      ]
    },
    {
      "cell_type": "code",
      "source": [
        "# como foram adquiridas as Bikes\n",
        "sparkSession.sql(\"select owner,count(*) as total from tab_bikes group by owner order by 2 desc\").show()"
      ],
      "metadata": {
        "colab": {
          "base_uri": "https://localhost:8080/"
        },
        "id": "qpcV_BDpN1d-",
        "outputId": "e446b439-4543-45ae-b2e3-344a4fa9667b"
      },
      "execution_count": 43,
      "outputs": [
        {
          "output_type": "stream",
          "name": "stdout",
          "text": [
            "+--------------------+-----+\n",
            "|               owner|total|\n",
            "+--------------------+-----+\n",
            "|         First Owner|29964|\n",
            "|        Second Owner| 2564|\n",
            "|         Third Owner|  108|\n",
            "|Fourth Owner Or More|   12|\n",
            "+--------------------+-----+\n",
            "\n"
          ]
        }
      ]
    },
    {
      "cell_type": "markdown",
      "source": [
        "# Plot de tabelas no formato Pandas\n",
        "----------------------------------------"
      ],
      "metadata": {
        "id": "pp8H90ZKPo-u"
      }
    },
    {
      "cell_type": "code",
      "source": [
        "#Plot do df\n",
        "\n",
        "bajaj_df=sparkSession.sql(\"select owner,count(*) as total from tab_bikes group by owner order by 2 desc\")\n",
        "\n",
        "\n",
        "#converter o pyspark.sql.dataframe.DataFrame em Pandas\n",
        "bajaj_pandas= bajaj_df.toPandas()"
      ],
      "metadata": {
        "id": "GXRpsn0MODeP"
      },
      "execution_count": 45,
      "outputs": []
    },
    {
      "cell_type": "code",
      "source": [
        "import matplotlib.pyplot as plotar\n",
        "\n",
        "\n",
        "bajaj_pandas.plot(kind='bar',x='owner',y='total')\n",
        "plotar.title('Como foram adquiridas as Bikes')\n",
        "plotar.xlabel('Por uso')\n",
        "plotar.ylabel('Total de Proprietários')\n",
        "plotar.show()"
      ],
      "metadata": {
        "colab": {
          "base_uri": "https://localhost:8080/",
          "height": 396
        },
        "id": "tr_IEkBNODbu",
        "outputId": "39992222-31ee-4607-9d66-50e3475ad7d4"
      },
      "execution_count": 47,
      "outputs": [
        {
          "output_type": "display_data",
          "data": {
            "text/plain": [
              "<Figure size 432x288 with 1 Axes>"
            ],
            "image/png": "[encoded data removed]"
          },
          "metadata": {
            "needs_background": "light"
          }
        }
      ]
    },
    {
      "cell_type": "code",
      "source": [],
      "metadata": {
        "id": "GfJZeq1WODZA"
      },
      "execution_count": null,
      "outputs": []
    }
  ]
}